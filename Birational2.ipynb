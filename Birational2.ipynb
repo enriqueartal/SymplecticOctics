{
 "cells": [
  {
   "cell_type": "markdown",
   "id": "d19fcb1b-e5ae-4e7a-ad8a-08d41528a77f",
   "metadata": {},
   "source": [
    "The goal of this worksheet is to construct a smooth quartic birational to a curve of degree $8$ with six $\\mathbb{E}_6$ points invariant by an involution\n",
    "$\\Phi([x:y:z])=\\Phi([-x:-y:z]$. We recover previous computations. \n",
    "\n",
    "Some long equations are skipped if the variable ``verif`` is set to ``True``. It can be changed at any time."
   ]
  },
  {
   "cell_type": "code",
   "execution_count": 3,
   "id": "44072a09-1ffa-472d-8dc4-844dad6475b0",
   "metadata": {},
   "outputs": [
    {
     "data": {
      "text/plain": [
       "-11/3*x^5*y^3 - 407/16*x^4*y^4 - 44*x^3*y^5 - 11/8*x^4*y^2*z^2 + 33/2*x^2*y^4*z^2 + 27/176*x^4*z^4 - 4/11*x^3*y*z^4 - 49/11*x^2*y^2*z^4 - 48/11*x*y^3*z^4 + 243/11*y^4*z^4 - 5/6*x^2*z^6 + 10*y^2*z^6 + z^8"
      ]
     },
     "execution_count": 3,
     "metadata": {},
     "output_type": "execute_result"
    }
   ],
   "source": [
    "verif = False\n",
    "F = load('files2/octica-sim2-rational')\n",
    "R = F.parent()\n",
    "R.inject_variables(verbose=False)\n",
    "F = F(z=z^2)\n",
    "F"
   ]
  },
  {
   "cell_type": "markdown",
   "id": "80f27182-010e-447e-bcaf-13b62a9f2f25",
   "metadata": {},
   "source": [
    "We look for the coordinates of the singular points. Two of them are $[1:0:0]$ and $[0:1:0]$."
   ]
  },
  {
   "cell_type": "code",
   "execution_count": 5,
   "id": "648885e6-9437-469f-85dd-4dd0197ce7dd",
   "metadata": {},
   "outputs": [
    {
     "name": "stdout",
     "output_type": "stream",
     "text": [
      "CPU times: user 19 ms, sys: 0 ns, total: 19 ms\n",
      "Wall time: 19.1 ms\n"
     ]
    },
    {
     "data": {
      "text/plain": [
       "t^2 + 16/3*t + 12"
      ]
     },
     "execution_count": 5,
     "metadata": {},
     "output_type": "execute_result"
    }
   ],
   "source": [
    "%%time \n",
    "T.<t> = QQ[]\n",
    "dis0 = F.discriminant(z)(x=t, y=1)\n",
    "dis01 = dis0.derivative(t, 15)\n",
    "p0 = dis01.gcd(dis0)"
   ]
  },
  {
   "cell_type": "markdown",
   "id": "e3bfb12e-dc8d-42de-9f43-d21be4f6fad8",
   "metadata": {},
   "source": [
    "We choose an extension where all the singular points have *rational* coordinates."
   ]
  },
  {
   "cell_type": "code",
   "execution_count": 6,
   "id": "5c6e4867-4cfc-41d3-814e-801a11d741e7",
   "metadata": {},
   "outputs": [],
   "source": [
    "p = t^8 - 4*t^7 - t^6 - 16*t^5 + 140*t^4 - 82*t^3 - 89*t^2 - 1170*t + 2025\n",
    "K0 = NumberField(p, 'a')\n",
    "R0 = R.change_ring(K0)\n",
    "R0.inject_variables(verbose=False)\n",
    "F0 = F.change_ring(K0)\n",
    "t0, t1 = p0.roots(K0, multiplicities=False)\n",
    "dis0 = F0(x=t0, y=1, z= t)\n",
    "dis01 = dis0.derivative(t, 2)\n",
    "q0 = dis01.gcd(dis0)\n",
    "s00, s01 = q0.roots(K0, multiplicities=False)\n",
    "dis0 = F0(x=t1, y=1, z= t)\n",
    "dis01 = dis0.derivative(t, 2)\n",
    "q0 = dis01.gcd(dis0)\n",
    "s10, s11 = q0.roots(K0, multiplicities=False)"
   ]
  },
  {
   "cell_type": "code",
   "execution_count": 14,
   "id": "f473748a-1b97-41be-9f63-7ed6896d4980",
   "metadata": {},
   "outputs": [
    {
     "data": {
      "text/plain": [
       "{0}"
      ]
     },
     "execution_count": 14,
     "metadata": {},
     "output_type": "execute_result"
    }
   ],
   "source": [
    "singulars = [vector(K0, (1, 0, 0)), vector(K0, (0, 1, 0))]\n",
    "singulars += [vector([t0 / s, s^-1, 1]) for s in (s00, s01)]\n",
    "singulars += [vector([t1 / s, s^-1, 1]) for s in (s10, s11)]\n",
    "Set([F0(*vv) for vv in singulars for F0 in (F,) + tuple(F.derivative(b) for b in R.gens())])"
   ]
  },
  {
   "cell_type": "code",
   "execution_count": 15,
   "id": "7c60c4e8-a558-492a-a828-a97330a42d27",
   "metadata": {},
   "outputs": [
    {
     "data": {
      "text/plain": [
       "Vector space of dimension 3 over Number Field in a with defining polynomial t^8 - 4*t^7 - t^6 - 16*t^5 + 140*t^4 - 82*t^3 - 89*t^2 - 1170*t + 2025"
      ]
     },
     "execution_count": 15,
     "metadata": {},
     "output_type": "execute_result"
    }
   ],
   "source": [
    "singulars[0].parent()"
   ]
  },
  {
   "cell_type": "code",
   "execution_count": 28,
   "id": "d7e5b741-e624-4835-abb9-e6228f296aca",
   "metadata": {},
   "outputs": [],
   "source": [
    "load('functions/functions1.sage')"
   ]
  },
  {
   "cell_type": "markdown",
   "id": "655eae8b-f6ee-4b75-933b-bb01b2499aee",
   "metadata": {},
   "source": [
    "For simplicity, the first four singular points are in the standard projective reference system."
   ]
  },
  {
   "cell_type": "code",
   "execution_count": 29,
   "id": "37b717c5-0f6c-4783-82ea-c050f0dddb48",
   "metadata": {},
   "outputs": [],
   "source": [
    "cmb = proy([singulars[j] for j in range(4)])\n",
    "cmb1 = cmb^-1"
   ]
  },
  {
   "cell_type": "code",
   "execution_count": 30,
   "id": "e327fa52-e707-418d-b5be-df329ef13f73",
   "metadata": {},
   "outputs": [
    {
     "data": {
      "text/plain": [
       "[(1, 0, 0),\n",
       " (0, 1, 0),\n",
       " (0, 0, 1),\n",
       " (1, 1, 1),\n",
       " (-2516/27135*a^7 + 3269/27135*a^6 + 11516/27135*a^5 + 70811/27135*a^4 - 32378/5427*a^3 - 232213/27135*a^2 - 387446/27135*a + 42527/603, -2248/27135*a^7 + 2867/27135*a^6 + 9908/27135*a^5 + 63173/27135*a^4 - 28358/5427*a^3 - 201259/27135*a^2 - 38702/3015*a + 4152/67, 1),\n",
       " (2516/27135*a^7 - 3269/27135*a^6 - 11516/27135*a^5 - 70811/27135*a^4 + 32378/5427*a^3 + 232213/27135*a^2 + 387446/27135*a - 41924/603, 2248/27135*a^7 - 2867/27135*a^6 - 9908/27135*a^5 - 63173/27135*a^4 + 28358/5427*a^3 + 201259/27135*a^2 + 38702/3015*a - 4085/67, 1)]"
      ]
     },
     "execution_count": 30,
     "metadata": {},
     "output_type": "execute_result"
    }
   ],
   "source": [
    "singulars1 = [reducir3(cmb^-1*v)  for v in singulars]\n",
    "singulars1"
   ]
  },
  {
   "cell_type": "markdown",
   "id": "7692bb6a-7366-4cb6-8847-312284264acd",
   "metadata": {},
   "source": [
    "We rewrite the polynomial in the new system and we check that the points in `singulars1` are the singular points."
   ]
  },
  {
   "cell_type": "code",
   "execution_count": 45,
   "id": "56fe782c-c563-45b2-a11d-543c0691244a",
   "metadata": {},
   "outputs": [],
   "source": [
    "F1 = cambio(cmb, F0)"
   ]
  },
  {
   "cell_type": "code",
   "execution_count": 46,
   "id": "92258a25-d2b4-4aa1-b4ab-4f5309189f66",
   "metadata": {},
   "outputs": [
    {
     "data": {
      "text/plain": [
       "True"
      ]
     },
     "execution_count": 46,
     "metadata": {},
     "output_type": "execute_result"
    }
   ],
   "source": [
    "cero = True\n",
    "for v in singulars1:\n",
    "    a0, b0, c0 = v\n",
    "    cero = cero and F1(x=a0, y=b0, z=c0) == 0\n",
    "    cero = cero and F1.derivative(x)(x=a0, y=b0, z=c0) == 0\n",
    "    cero = cero and F1.derivative(y)(x=a0, y=b0, z=c0) == 0\n",
    "    cero = cero and F1.derivative(z)(x=a0, y=b0, z=c0) == 0\n",
    "cero"
   ]
  },
  {
   "cell_type": "markdown",
   "id": "bb3308d6-bede-420d-a675-0556fab4697d",
   "metadata": {},
   "source": [
    "We compute the conics passing through $5$ of the singular points."
   ]
  },
  {
   "cell_type": "code",
   "execution_count": 47,
   "id": "e60a115d-ce88-4e44-8a83-7772282a5108",
   "metadata": {},
   "outputs": [],
   "source": [
    "conicas = [conica(R0, singulars1[: j] + singulars1[j + 1:]) for j in range(6)]"
   ]
  },
  {
   "cell_type": "markdown",
   "id": "9b404636-0b4f-4187-9bcf-aefede52ab3d",
   "metadata": {},
   "source": [
    "We consider three quintic curves having six double points at the singular points. They are reducible: two conics and a line."
   ]
  },
  {
   "cell_type": "code",
   "execution_count": 48,
   "id": "6ddbc3cb-e8ce-47bf-bd44-c9d12c2db761",
   "metadata": {},
   "outputs": [],
   "source": [
    "p0 = x * conicas[1] * conicas[2]\n",
    "p1 = conicas[0] * y * conicas[2]\n",
    "p2 = conicas[0] * conicas[1] * z\n",
    "pp = [p0, p1, p2]"
   ]
  },
  {
   "cell_type": "markdown",
   "id": "3c7f6c5e-7ec0-4109-8b55-ae9011632d39",
   "metadata": {},
   "source": [
    "These conics form a basis of the net. With the coefficients we identify the space of conics as a vector space. We normalize with the coefficients of the new quintics `p3,p4`."
   ]
  },
  {
   "cell_type": "code",
   "execution_count": 51,
   "id": "92fcfc7d-a16e-46bb-9b9c-213e5058506a",
   "metadata": {},
   "outputs": [],
   "source": [
    "W = K0^21\n",
    "L5 = [x^i*y^j*z^(5-i-j) for i in range(6) for j in range(6-i)]\n",
    "p3 = (x - y) * conicas[2] * conicas[3]\n",
    "p4 = (x - z) * conicas[1] * conicas[3]\n",
    "Vs = [vector([quin.monomial_coefficient(mon) for mon in L5]) for quin in pp + [p3, p4]]\n",
    "H = W.subspace_with_basis(Vs[: 3])\n",
    "va = H.coordinate_vector(Vs[3])\n",
    "vb = H.coordinate_vector(Vs[4])\n",
    "qq = [p0, va[0]^-1 * p1, vb[0]^-1 * p2]"
   ]
  },
  {
   "cell_type": "markdown",
   "id": "e60b1a3c-f4e6-4d91-ad17-51582da5725f",
   "metadata": {},
   "source": [
    "The function `birat_punto` applies the birational map to points and the function `birat` applies the birational map to homogeneous polynomials as pull-back."
   ]
  },
  {
   "cell_type": "code",
   "execution_count": 53,
   "id": "df443cbf-a79d-4ecc-924d-6ced667e108a",
   "metadata": {},
   "outputs": [],
   "source": [
    "def birat(g):\n",
    "    return g.subs({vr: q0 for vr, q0 in zip(R0.gens(), qq)})\n",
    "def birat_punto(vv):\n",
    "    return vector(q0(*vv) for q0 in qq)"
   ]
  },
  {
   "cell_type": "markdown",
   "id": "99450bbc-8ae5-4bac-b96b-db63409bff3f",
   "metadata": {},
   "source": [
    "Let us check that it is an involutive Cremona transformation."
   ]
  },
  {
   "cell_type": "code",
   "execution_count": 54,
   "id": "a0707754-6852-47be-b062-875202fa8de9",
   "metadata": {},
   "outputs": [
    {
     "data": {
      "text/plain": [
       "True"
      ]
     },
     "execution_count": 54,
     "metadata": {},
     "output_type": "execute_result"
    }
   ],
   "source": [
    "q = birat(birat(x))/x\n",
    "inv = q == birat(birat(y))/y\n",
    "inv = inv and q == birat(birat(z))/z\n",
    "inv"
   ]
  },
  {
   "cell_type": "markdown",
   "id": "3c4b8ffb-9210-4a70-b093-8340b9123b66",
   "metadata": {},
   "source": [
    "The pull-back of the octic has all the conics to the power $3$."
   ]
  },
  {
   "cell_type": "code",
   "execution_count": 55,
   "id": "3de1678f-c84c-49b5-a7f9-5f1987ecc708",
   "metadata": {},
   "outputs": [],
   "source": [
    "G1 = R0(birat(F1) / prod(conicas)^3)"
   ]
  },
  {
   "cell_type": "code",
   "execution_count": 56,
   "id": "b6769113-1a4b-4279-9293-77412bec7698",
   "metadata": {},
   "outputs": [
    {
     "data": {
      "text/plain": [
       "4"
      ]
     },
     "execution_count": 56,
     "metadata": {},
     "output_type": "execute_result"
    }
   ],
   "source": [
    "G1.degree()"
   ]
  },
  {
   "cell_type": "markdown",
   "id": "436a7e7f-4035-4c82-9c16-bbd69eff17ef",
   "metadata": {},
   "source": [
    "Since this field is too large, we undo the change of variables and we apply a diagonal transformation to simplify the polynomial."
   ]
  },
  {
   "cell_type": "code",
   "execution_count": 58,
   "id": "6d9481b2-301b-4f9f-b960-a4a28b0388a7",
   "metadata": {},
   "outputs": [
    {
     "data": {
      "text/plain": [
       "-36*x^3*y + 45*x^2*y^2 - 12*x*y^3 - 3*x^2*z^2 + y^2*z^2 + z^4"
      ]
     },
     "execution_count": 58,
     "metadata": {},
     "output_type": "execute_result"
    }
   ],
   "source": [
    "G2 = R0(cambio(cmb^-1, G1))\n",
    "G2 = G2/G2.monomial_coefficient(z^4)\n",
    "G2 = G2(z =z / 6, y=y / 6) * 6^4\n",
    "G2"
   ]
  },
  {
   "cell_type": "markdown",
   "id": "b8046966-dab6-42f6-af17-d672e31c6d56",
   "metadata": {},
   "source": [
    "We put again the base points in place after the diagonal change of variables."
   ]
  },
  {
   "cell_type": "code",
   "execution_count": 60,
   "id": "4b2dd51e-4d68-482f-b021-1677e820f268",
   "metadata": {},
   "outputs": [],
   "source": [
    "singulars2 = [vector([a / 6, b, c]) for a, b, c in singulars]"
   ]
  },
  {
   "cell_type": "code",
   "execution_count": 61,
   "id": "c18cb59a-b949-42fd-b18f-dba7f8d5c9ec",
   "metadata": {},
   "outputs": [
    {
     "name": "stdout",
     "output_type": "stream",
     "text": [
      "0\n",
      "0\n",
      "0\n",
      "0\n",
      "0\n",
      "0\n"
     ]
    }
   ],
   "source": [
    "for p in singulars2:\n",
    "    x0, y0, z0 = p\n",
    "    print(G2(x=x0, y=y0, z=z0))"
   ]
  },
  {
   "cell_type": "markdown",
   "id": "48bcf18b-8101-4fa7-9111-592169ed7eb1",
   "metadata": {},
   "source": [
    "We compute the other set of six points (coming from the first infinitely near points of the singular points)."
   ]
  },
  {
   "cell_type": "code",
   "execution_count": 62,
   "id": "bd03cf7e-c7fc-4051-a2bd-6da8f6c364ef",
   "metadata": {},
   "outputs": [],
   "source": [
    "conicas3 = [conica(R0, singulars2[: j] + singulars2[j + 1:]) for j in range(6)]"
   ]
  },
  {
   "cell_type": "code",
   "execution_count": 65,
   "id": "2647875f-c470-4f54-9d57-0394a839cc70",
   "metadata": {},
   "outputs": [],
   "source": [
    "D0 = conica(R.change_ring(K0), singulars2[1:])\n",
    "D1 = conica(R.change_ring(K0), singulars2[0:1] + singulars2[2:])\n",
    "D2 = conica(R.change_ring(K0), singulars2[0:2] + singulars2[3:])\n",
    "D3 = conica(R.change_ring(K0), singulars2[0:3] + singulars2[4:])\n",
    "D4 = conica(R.change_ring(K0), singulars2[0:4] + singulars2[5:])\n",
    "D5 = conica(R.change_ring(K0), singulars2[:-1])"
   ]
  },
  {
   "cell_type": "markdown",
   "id": "0c4cd5d5-6325-4af9-8fc2-c5bc2ba1e539",
   "metadata": {},
   "source": [
    "Each conic interesect the quartic at $5$ of the base points and another one with intersection multiplicity $3$, which is the output of this function."
   ]
  },
  {
   "cell_type": "code",
   "execution_count": 66,
   "id": "74718658-38f5-4a3e-9d52-4a42abffee68",
   "metadata": {},
   "outputs": [],
   "source": [
    "def tercerpunto(D):\n",
    "    L0 = R0.ideal([G2,D]).primary_decomposition()\n",
    "    L0a = [J.radical() for J in L0 if J != J.radical()]\n",
    "    J0a = L0a[0].groebner_basis()\n",
    "    vv = [u.reduce(J0a) for u in R0.gens()]\n",
    "    ww = []\n",
    "    for a in vv:\n",
    "        if a == 0:\n",
    "            ww.append(K0(a))\n",
    "        else:\n",
    "            b = a.coefficients()[0]\n",
    "            ww.append(a.coefficients()[0])\n",
    "    return vector(ww)"
   ]
  },
  {
   "cell_type": "code",
   "execution_count": 68,
   "id": "4cb8f505-ed5d-4222-bf19-1d1e2547c9e7",
   "metadata": {},
   "outputs": [],
   "source": [
    "thirdpoint = [tercerpunto(con) for con in conicas3]"
   ]
  }
 ],
 "metadata": {
  "kernelspec": {
   "display_name": "SageMath 10.2",
   "language": "sage",
   "name": "sagemath"
  },
  "language_info": {
   "codemirror_mode": {
    "name": "ipython",
    "version": 3
   },
   "file_extension": ".py",
   "mimetype": "text/x-python",
   "name": "python",
   "nbconvert_exporter": "python",
   "pygments_lexer": "ipython3",
   "version": "3.11.1"
  }
 },
 "nbformat": 4,
 "nbformat_minor": 5
}
