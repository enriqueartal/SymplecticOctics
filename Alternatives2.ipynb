{
 "cells": [
  {
   "cell_type": "markdown",
   "id": "a903f558-a9f3-452a-96c1-668cf0c7a51f",
   "metadata": {},
   "source": [
    "As explained in section 9, for the curve fixed by an involution there is an alternative way to compute the fundamental group $G$ using the orbifold group $G^\\text{orb}$ of the quotient, fitting in the following exact sequence:\n",
    "$$\n",
    "1\\to G\\to G^\\text{orb}\\to\\mathbb{Z}/2\\to 1. \n",
    "$$\n",
    "We compute first the fundamental group of the complement of the curve in an affine chart. The generators \n",
    "satisfy that its ordered product is the inverse of the meridian of the exceptional component obtained\n",
    "by a $(1,1)$-blow-up of the singular point of $\\mathbb{P}^2_{(1,1,2)}$. This meridian and the meridian of $L_z$ are of order $2$ and then $G_1$ is $G^\\text{orb}$."
   ]
  },
  {
   "cell_type": "code",
   "execution_count": 32,
   "id": "1a343fd6-bc4f-4d1f-83bd-7a0f76d2107c",
   "metadata": {},
   "outputs": [],
   "source": [
    "f = load('files2/octica-sim2-rational.sobj')\n",
    "R = f.parent()\n",
    "R.inject_variables(verbose=False)\n",
    "A.<u, v> = AffinePlaneCurveArrangements(QQ)\n",
    "g = f(x=1, y=u, z=v)\n",
    "C = A(v, g)\n",
    "G = C.fundamental_group(simplified=False)\n",
    "mer = C.meridians(simplified=False)\n",
    "G1 = G.free_group() / (G.relations() + (mer[0][0]^2, prod(G.free_group().gens())^2))"
   ]
  },
  {
   "cell_type": "code",
   "execution_count": 22,
   "id": "7cfa8532-ee8c-468e-9509-d26fff7207e1",
   "metadata": {},
   "outputs": [],
   "source": [
    "G1 = G.free_group() / (G.relations() + (mer[0][0]^2, prod(G.free_group().gens())^2))"
   ]
  },
  {
   "cell_type": "markdown",
   "id": "59205fc2-da2d-4f03-9144-a15e48375337",
   "metadata": {},
   "source": [
    "For the relations it is easier to see the Tietze words."
   ]
  },
  {
   "cell_type": "code",
   "execution_count": 33,
   "id": "a3e3ea4c-a2ad-43ed-b79f-e1b10648400e",
   "metadata": {},
   "outputs": [
    {
     "name": "stdout",
     "output_type": "stream",
     "text": [
      "(3, 3)\n",
      "(3, -2, 3, 2)\n",
      "(-1, 3, 1, 3)\n",
      "(4, 3, -4, 3)\n",
      "(4, -2, -4, -2, 4, 2)\n",
      "(-4, -2, -1, 2, 4, 1, 2, -1)\n",
      "(2, 1, 4, -1, 4, 1, 4, 2, 4, 4)\n",
      "(1, 3, 4, 2, 4, 1, 3, 2, 4, 2)\n",
      "(3, 4, -1, -4, -2, -1, 3, 4, 1, 2)\n"
     ]
    }
   ],
   "source": [
    "for _ in G1.simplified().relations():\n",
    "    print(_.Tietze())"
   ]
  },
  {
   "cell_type": "markdown",
   "id": "2b0a0882-20ed-43bc-823a-39bbb3fafd15",
   "metadata": {},
   "source": [
    "The third generator is the meridian of $L_z$, it is of order $2$ and central, i.e.\n",
    "$G^\\text{orb}\\cong G\\times\\mathbb{Z}/2$. In particular $G$ is the orbifold fundamental group of the complement of the curve $\\tilde{C}_8\\subset\\mathbb{P}^2_{(1,1,2)}$ where only the singular point is of orbifold type."
   ]
  },
  {
   "cell_type": "code",
   "execution_count": null,
   "id": "cf7c750b-7dd0-4baa-a793-a2bedc4ff33c",
   "metadata": {},
   "outputs": [],
   "source": []
  }
 ],
 "metadata": {
  "kernelspec": {
   "display_name": "SageMath 10.3.beta0",
   "language": "sage",
   "name": "sagemath-310"
  },
  "language_info": {
   "codemirror_mode": {
    "name": "ipython",
    "version": 3
   },
   "file_extension": ".py",
   "mimetype": "text/x-python",
   "name": "python",
   "nbconvert_exporter": "python",
   "pygments_lexer": "ipython3",
   "version": "3.11.1"
  }
 },
 "nbformat": 4,
 "nbformat_minor": 5
}
