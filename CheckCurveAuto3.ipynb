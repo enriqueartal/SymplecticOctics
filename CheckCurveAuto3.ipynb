{
 "cells": [
  {
   "cell_type": "markdown",
   "id": "899e7749-7ce2-4fc3-acb9-8db7e0dffe6f",
   "metadata": {},
   "source": [
    "We are going to check that the computed curve has $6$ singular points of type $\\mathbb{E}_6$"
   ]
  },
  {
   "cell_type": "code",
   "execution_count": 1,
   "id": "cfb36b0f-a2a7-4576-8503-643b14c70426",
   "metadata": {},
   "outputs": [
    {
     "name": "stdout",
     "output_type": "stream",
     "text": [
      "Defining x, y, z\n"
     ]
    }
   ],
   "source": [
    "f, F0, F2a = load('files3/octica-3-final.sobj')\n",
    "R = F2a.parent()\n",
    "R.inject_variables()"
   ]
  },
  {
   "cell_type": "markdown",
   "id": "a871ccf5-281b-42fb-8162-35947ffb8098",
   "metadata": {},
   "source": [
    "We compute the discriminant and we found there are exactly six values for which the discriminant is not reduced."
   ]
  },
  {
   "cell_type": "code",
   "execution_count": 2,
   "id": "b25d4813-a833-4a43-8bed-d223470c9aef",
   "metadata": {},
   "outputs": [
    {
     "data": {
      "text/plain": [
       "(1, 6, 8)"
      ]
     },
     "execution_count": 2,
     "metadata": {},
     "output_type": "execute_result"
    }
   ],
   "source": [
    "dis = F2a.discriminant(z).factor()\n",
    "dis8 = [p for p in dis if p[1] > 1]\n",
    "len(dis8), dis8[0][0].degree(), dis8[0][1]"
   ]
  },
  {
   "cell_type": "markdown",
   "id": "a001c4f2-0a4b-471d-9136-251ca178559e",
   "metadata": {},
   "source": [
    "To determine the coordinates of the singular point, we need a larger field, an extension of order $24$."
   ]
  },
  {
   "cell_type": "code",
   "execution_count": 3,
   "id": "f4efd98c-2449-4e57-801b-ecd04774879c",
   "metadata": {},
   "outputs": [
    {
     "data": {
      "text/plain": [
       "24"
      ]
     },
     "execution_count": 3,
     "metadata": {},
     "output_type": "execute_result"
    }
   ],
   "source": [
    "T.<t> = R.base_ring()[]\n",
    "p = dis8[0][0](x=1, y=t)\n",
    "K = R.base_ring().extension(p, 'a')\n",
    "K1.<a> = K.absolute_field()\n",
    "h = R.base_ring().embeddings(K1)[0]\n",
    "K1.defining_polynomial().degree()"
   ]
  },
  {
   "cell_type": "markdown",
   "id": "62fe1f89-a64a-49c4-ab54-6b85a7feff1b",
   "metadata": {},
   "source": [
    "We take an affine chart for which the line at infinity does not contain singular points and we pass to the big field."
   ]
  },
  {
   "cell_type": "code",
   "execution_count": 4,
   "id": "41f37aa0-b344-43e6-a1ce-45ec49d7f399",
   "metadata": {},
   "outputs": [],
   "source": [
    "S.<u,v> = K1[]\n",
    "g = vector(h(b) for b in F2a.coefficients()) * vector(u^j * v^k for i, j, k in F2a.exponents())"
   ]
  },
  {
   "cell_type": "markdown",
   "id": "2a92812d-ed71-41b7-a94c-1fe52c151dc8",
   "metadata": {},
   "source": [
    "We compute the other coordinate of the singular point."
   ]
  },
  {
   "cell_type": "code",
   "execution_count": 5,
   "id": "eaa018ef-f66b-47da-aefb-32ab37eaa3e9",
   "metadata": {},
   "outputs": [],
   "source": [
    "p1 = p.map_coefficients(h)\n",
    "y0 = p1.roots()[0][0]"
   ]
  },
  {
   "cell_type": "code",
   "execution_count": 6,
   "id": "ebb92061-9757-4638-b737-a0d8d231015f",
   "metadata": {},
   "outputs": [
    {
     "data": {
      "text/plain": [
       "(1, 1, 3)"
      ]
     },
     "execution_count": 6,
     "metadata": {},
     "output_type": "execute_result"
    }
   ],
   "source": [
    "dis2 = g(u=y0).factor()\n",
    "dis3 = [q for q in dis2 if q[1] > 1]\n",
    "len(dis3), dis3[0][0].degree(), dis3[0][1]"
   ]
  },
  {
   "cell_type": "code",
   "execution_count": 7,
   "id": "d183bb15-7199-4203-b1e8-064f62a8d4bf",
   "metadata": {},
   "outputs": [],
   "source": [
    "z0 = K1(v.reduce([dis3[0][0]]))"
   ]
  },
  {
   "cell_type": "markdown",
   "id": "7926cc05-b884-4c89-8517-99e8f1b8a050",
   "metadata": {},
   "source": [
    "We translate this point to the origin and we have that the point is a triple point."
   ]
  },
  {
   "cell_type": "code",
   "execution_count": 8,
   "id": "5ff2df80-a4a1-48b7-b2c3-1e2408da24f6",
   "metadata": {},
   "outputs": [
    {
     "data": {
      "image/png": "[encoded data removed]",
      "text/plain": [
       "A 2-dimensional polyhedron in ZZ^2 defined as the convex hull of 4 vertices"
      ]
     },
     "execution_count": 8,
     "metadata": {},
     "output_type": "execute_result"
    }
   ],
   "source": [
    "gs = g(u=u + y0, v=v + z0)\n",
    "gs.newton_polytope()"
   ]
  },
  {
   "cell_type": "markdown",
   "id": "2ca0210b-6140-4355-a1e3-17bd4770e76d",
   "metadata": {},
   "source": [
    "The homogeneous polynomial associated to the edge is a triple power. With the suitable translation we obtain the desired Newton polygon."
   ]
  },
  {
   "cell_type": "code",
   "execution_count": 9,
   "id": "c36e5be7-e757-4185-94b0-8e03610e7f45",
   "metadata": {},
   "outputs": [
    {
     "data": {
      "text/plain": [
       "(1, 1, 3)"
      ]
     },
     "execution_count": 9,
     "metadata": {},
     "output_type": "execute_result"
    }
   ],
   "source": [
    "dis4 = sum(a * b for a, b in gs if b.degree() == 3).factor()\n",
    "dis5 = [q for q in dis4 if q[1] > 1]\n",
    "len(dis5), dis5[0][0].degree(), dis5[0][1]"
   ]
  },
  {
   "cell_type": "code",
   "execution_count": 10,
   "id": "be38b1d2-592b-4c04-bf19-2c17e69c1a95",
   "metadata": {},
   "outputs": [],
   "source": [
    "t0 = K1(v.reduce([dis5[0][0](u=1)]))"
   ]
  },
  {
   "cell_type": "code",
   "execution_count": 11,
   "id": "c60586dd-69f0-4672-a965-52cafea7415b",
   "metadata": {},
   "outputs": [
    {
     "data": {
      "image/png": "[encoded data removed]",
      "text/plain": [
       "A 2-dimensional polyhedron in ZZ^2 defined as the convex hull of 4 vertices"
      ]
     },
     "execution_count": 11,
     "metadata": {},
     "output_type": "execute_result"
    }
   ],
   "source": [
    "gs1 = gs(v=v + t0 * u)\n",
    "gs1.newton_polytope()"
   ]
  },
  {
   "cell_type": "markdown",
   "id": "cf50feeb-2101-4fa8-9451-a87a22a2e108",
   "metadata": {},
   "source": [
    "Since all the singular points are permuted by a Galois action, this property holds for all of them."
   ]
  },
  {
   "cell_type": "code",
   "execution_count": null,
   "id": "09db8228-be54-4ac6-8385-5e0d96ad9487",
   "metadata": {},
   "outputs": [],
   "source": []
  }
 ],
 "metadata": {
  "kernelspec": {
   "display_name": "SageMath 10.3.beta0",
   "language": "sage",
   "name": "sagemath-310"
  },
  "language_info": {
   "codemirror_mode": {
    "name": "ipython",
    "version": 3
   },
   "file_extension": ".py",
   "mimetype": "text/x-python",
   "name": "python",
   "nbconvert_exporter": "python",
   "pygments_lexer": "ipython3",
   "version": "3.11.1"
  }
 },
 "nbformat": 4,
 "nbformat_minor": 5
}
