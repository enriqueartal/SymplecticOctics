{
 "cells": [
  {
   "cell_type": "markdown",
   "id": "7d4baa6a-e3ab-420c-b30e-9ffff2de74fb",
   "metadata": {},
   "source": [
    "As explained in section 9, for the curve fixed by an automorphism of order $3$ there is an alternative way to compute the fundamental group $G$ using the orbifold group $G^\\text{orb}$ of the quotient, fitting in the following exact sequence:\n",
    "$$\n",
    "1\\to G\\to G^\\text{orb}\\to\\mathbb{Z}/3\\to 1. \n",
    "$$\n",
    "We are going to check that this group is $G^\\text{orb}\\cong\\mathbb{Z}/24$, and hence $G\\conf\\mathbb{Z}/8$ as for the first computations. The orbifold curve is naturally defined over a field $\\mathbb{K}_8$ of index $8$, with no real solution. We use the Galois correspondance to relate the complex embeddings of this field with the complex embeddings of the field $\\mathbb{K}_4$ of index $4$ where the original curve is defined. Let $q(t), p(t)$ be the polynomials defining the fields of indices $8,4$, respectively. For two couples of complex conjugate roots of $q$, the Galois automorphism of $\\mathbb{K}_8$ is the complex conjugation, and the fixed field is $\\mathbb{K}_4$ corresponding to the real embeddings. For the other roots, the Galois automorphism is not the complex conjugation and they give the complex embeddings of $\\mathbb{K}_4$. Hence, we need to compute only three groups, but we have to decide which ones.\n",
    "\n",
    "Some of the computations are long and their results are kept in auxiliary files. With `verif=True`, these  computations are repeated."
   ]
  },
  {
   "cell_type": "code",
   "execution_count": 1,
   "id": "238fa377-1b74-47f3-9ded-128a241b24cb",
   "metadata": {},
   "outputs": [],
   "source": [
    "verif = False"
   ]
  },
  {
   "cell_type": "code",
   "execution_count": 2,
   "id": "a39c609c-3af7-47c1-9a30-333d9483c7c0",
   "metadata": {},
   "outputs": [],
   "source": [
    "f, F0, F2a = load('files3/octica-3-final.sobj')"
   ]
  },
  {
   "cell_type": "code",
   "execution_count": 3,
   "id": "0c45434a-d2df-486d-b66e-99b1a3a0efab",
   "metadata": {},
   "outputs": [
    {
     "data": {
      "text/plain": [
       "[-1.638470854519327? - 1.873090234307541?*I,\n",
       " -1.638470854519327? + 1.873090234307541?*I,\n",
       " -1.247091986361595? - 1.947286858927312?*I,\n",
       " -1.247091986361595? + 1.947286858927312?*I,\n",
       " -0.02422329474652969? - 0.502325404375287?*I,\n",
       " -0.02422329474652969? + 0.502325404375287?*I,\n",
       " 0.9097861356274513? - 1.586000881290689?*I,\n",
       " 0.9097861356274513? + 1.586000881290689?*I]"
      ]
     },
     "execution_count": 3,
     "metadata": {},
     "output_type": "execute_result"
    }
   ],
   "source": [
    "q = f.base_ring().defining_polynomial()\n",
    "rootsq = q.roots(QQbar, multiplicities=False)\n",
    "rootsq"
   ]
  },
  {
   "cell_type": "code",
   "execution_count": 4,
   "id": "019baab2-c2df-44f7-82c0-5e58cca5c607",
   "metadata": {},
   "outputs": [
    {
     "data": {
      "text/plain": [
       "x^4 + 4*x^3 + 15*x^2 + 42*x + 2"
      ]
     },
     "execution_count": 4,
     "metadata": {},
     "output_type": "execute_result"
    }
   ],
   "source": [
    "(rootsq[0] + rootsq[1]).minpoly()"
   ]
  },
  {
   "cell_type": "code",
   "execution_count": 5,
   "id": "414be9d2-af13-4d62-94d9-56edeb98d49e",
   "metadata": {},
   "outputs": [
    {
     "data": {
      "text/plain": [
       "x^4 + 4*x^3 + 15*x^2 + 42*x + 2"
      ]
     },
     "execution_count": 5,
     "metadata": {},
     "output_type": "execute_result"
    }
   ],
   "source": [
    "(rootsq[2] + rootsq[6]).minpoly()"
   ]
  },
  {
   "cell_type": "code",
   "execution_count": 6,
   "id": "f5de1854-14fd-40ec-bfb0-a4f47369703d",
   "metadata": {},
   "outputs": [
    {
     "data": {
      "text/plain": [
       "x^4 + 4*x^3 + 15*x^2 + 42*x + 2"
      ]
     },
     "execution_count": 6,
     "metadata": {},
     "output_type": "execute_result"
    }
   ],
   "source": [
    "(rootsq[3] + rootsq[7]).minpoly()"
   ]
  },
  {
   "cell_type": "code",
   "execution_count": 7,
   "id": "ac009d54-113a-4857-af77-77bb8671fa02",
   "metadata": {},
   "outputs": [
    {
     "data": {
      "text/plain": [
       "x^4 + 4*x^3 + 15*x^2 + 42*x + 2"
      ]
     },
     "execution_count": 7,
     "metadata": {},
     "output_type": "execute_result"
    }
   ],
   "source": [
    "(rootsq[4] + rootsq[5]).minpoly()"
   ]
  },
  {
   "cell_type": "markdown",
   "id": "5b8c4744-33d1-43f1-8364-0896543e25bf",
   "metadata": {},
   "source": [
    "Using these relations we need only three roots for the computation, the ones in position $0, 2, 3$."
   ]
  },
  {
   "cell_type": "code",
   "execution_count": 8,
   "id": "a21119a2-5ff5-4a0a-8063-5c38c78da2ac",
   "metadata": {},
   "outputs": [
    {
     "data": {
      "text/plain": [
       "[-1.638470854519327? - 1.873090234307541?*I,\n",
       " -1.247091986361595? - 1.947286858927312?*I,\n",
       " -1.247091986361595? + 1.947286858927312?*I]"
      ]
     },
     "execution_count": 8,
     "metadata": {},
     "output_type": "execute_result"
    }
   ],
   "source": [
    "rootsq1 = [rootsq[i] for i in (0, 2, 3)]\n",
    "rootsq1"
   ]
  },
  {
   "cell_type": "markdown",
   "id": "98ba0dbe-670b-4139-bf7a-d36ecea6cb87",
   "metadata": {},
   "source": [
    "We construct a list `Ks` with the three embedded subfields of $\\overline{\\mathbb{Q}}$ isomorphic to $\\mathbb{K}_8$."
   ]
  },
  {
   "cell_type": "code",
   "execution_count": 9,
   "id": "c1d81f24-f8a8-442b-994c-de0e77b1f9c3",
   "metadata": {},
   "outputs": [],
   "source": [
    "Ks = [NumberField(q, a, embedding=b) for a, b in zip(('a1', 'a2', 'a3'), rootsq1)]\n",
    "K1, K2, K3 = Ks\n",
    "for K in Ks:\n",
    "    K.inject_variables(verbose=False)\n",
    "Rs = [f.parent().change_ring(K) for K in Ks]\n",
    "Ss = [PolynomialRing(K, ('u', 'v')) for K in Ks]\n",
    "R1, R2, R3= Rs\n",
    "S1, S2, S3 = Ss\n",
    "hs = [f.base_ring().embeddings(K)[0] for K in Ks]\n",
    "h1, h2, h3 = hs\n",
    "Fs = [sum(h(a) * R(b) for a, b in f) for h, R in zip(hs, Rs)]\n",
    "F1, F2, F3 = Fs\n",
    "Ds = [Curve(F) for F in Fs]\n",
    "D1, D2, D3 = Ds\n",
    "Gs = [F(x=S.gen(0), y=1, z=S.gen(1)) for F, S in zip(Fs, Ss)]\n",
    "G1, G2, G3 = Gs\n",
    "Cs = [Curve(G) for G in Gs]\n",
    "C1, C2, C3 = Cs"
   ]
  },
  {
   "cell_type": "code",
   "execution_count": 10,
   "id": "277fe702-9619-427a-be9f-0b3254a14bde",
   "metadata": {},
   "outputs": [],
   "source": [
    "B = BraidGroup(8)"
   ]
  },
  {
   "cell_type": "markdown",
   "id": "22046469-4aa8-4c00-89fc-5bba53cfc117",
   "metadata": {},
   "source": [
    "We compute the braid monodromy for the first embedding. That's the time in my laptop with parallel computation (8 cores):\n",
    "```\n",
    "CPU times: user 1min 9s, sys: 591 ms, total: 1min 10s\n",
    "Wall time: 13min 43s\n",
    "```"
   ]
  },
  {
   "cell_type": "code",
   "execution_count": 11,
   "id": "c4893754-7ea3-4fba-b903-9bf35325c4c7",
   "metadata": {},
   "outputs": [
    {
     "name": "stdout",
     "output_type": "stream",
     "text": [
      "CPU times: user 23.3 ms, sys: 145 µs, total: 23.5 ms\n",
      "Wall time: 22.8 ms\n"
     ]
    }
   ],
   "source": [
    "%%time\n",
    "if verif:\n",
    "    Af1.<u, v>=AffinePlaneCurveArrangements(K1)\n",
    "    H1 = Af1([C1, u])\n",
    "    Bm01 = H1.braid_monodromy()\n",
    "    save(H1, 'filesorb3/Bm01')\n",
    "else:\n",
    "    H1 = load('filesorb3/Bm01.sobj')\n",
    "    Af1 = H1.parent()\n",
    "    Af1.inject_variables(verbose=False)\n",
    "    Bm01 = H1.braid_monodromy()"
   ]
  },
  {
   "cell_type": "markdown",
   "id": "9b7c36ba-1a33-4c6b-9700-04c51ab1e4af",
   "metadata": {},
   "source": [
    "Patiently we can simplify the braid monodromy, including the *braid at infinity*. We do not use this computation but it may help in the future to determine the topological equivalence of the curves corresponding to distinct embeddings."
   ]
  },
  {
   "cell_type": "code",
   "execution_count": 12,
   "id": "0b9c392b-0cd2-4b1c-9778-f2ad6499f1fe",
   "metadata": {},
   "outputs": [],
   "source": [
    "puiseux01 = []"
   ]
  },
  {
   "cell_type": "code",
   "execution_count": 13,
   "id": "9fbe3403-0b89-4a51-b0f8-a51150b190c7",
   "metadata": {},
   "outputs": [
    {
     "data": {
      "text/plain": [
       "True"
      ]
     },
     "execution_count": 13,
     "metadata": {},
     "output_type": "execute_result"
    }
   ],
   "source": [
    "j = 0\n",
    "u=(-7, 3)\n",
    "v=(5, 4, 3, 2, 3, 4, 1, 5, 6, 7, 2, 3, 2, 4, 5, 6, 3, 4, 1)\n",
    "m=1\n",
    "Bm01[j]==B(u)*B(v)^m/B(u)"
   ]
  },
  {
   "cell_type": "code",
   "execution_count": 14,
   "id": "6d9ba6bb-dc8d-43e5-8bbb-614b60803d00",
   "metadata": {},
   "outputs": [],
   "source": [
    "puiseux01.append((u, v, m))"
   ]
  },
  {
   "cell_type": "code",
   "execution_count": 15,
   "id": "0b2e2793-fddb-4986-a8f9-15ee2e704961",
   "metadata": {},
   "outputs": [
    {
     "data": {
      "text/plain": [
       "True"
      ]
     },
     "execution_count": 15,
     "metadata": {},
     "output_type": "execute_result"
    }
   ],
   "source": [
    "j = 1\n",
    "u = (-1, 2, 3, -4)\n",
    "v = (5, )\n",
    "m=1\n",
    "Bm01[j]==B(u)*B(v)^m/B(u)"
   ]
  },
  {
   "cell_type": "code",
   "execution_count": 16,
   "id": "07bd740f-caf9-41a1-92db-2b6997754cb7",
   "metadata": {},
   "outputs": [],
   "source": [
    "puiseux01.append((u, v, m))"
   ]
  },
  {
   "cell_type": "code",
   "execution_count": 17,
   "id": "f35683c7-99a1-4321-9f0d-468603b0e199",
   "metadata": {},
   "outputs": [
    {
     "data": {
      "text/plain": [
       "True"
      ]
     },
     "execution_count": 17,
     "metadata": {},
     "output_type": "execute_result"
    }
   ],
   "source": [
    "j = 2\n",
    "u = (-1,)\n",
    "v = (3, 2)\n",
    "m = 4\n",
    "Bm01[j]==B(u)*B(v)^m/B(u)"
   ]
  },
  {
   "cell_type": "code",
   "execution_count": 18,
   "id": "be6ed0cb-d0f4-4cda-abb2-6cec7759f742",
   "metadata": {},
   "outputs": [],
   "source": [
    "puiseux01.append((u, v, m))"
   ]
  },
  {
   "cell_type": "code",
   "execution_count": 19,
   "id": "6a8e6b09-bca8-4905-b5d9-e920fe738613",
   "metadata": {},
   "outputs": [
    {
     "data": {
      "text/plain": [
       "True"
      ]
     },
     "execution_count": 19,
     "metadata": {},
     "output_type": "execute_result"
    }
   ],
   "source": [
    "j = 3\n",
    "u = (3, 2, 2, 3)\n",
    "v = (4, )\n",
    "m = 1\n",
    "Bm01[j]==B(u)*B(v)^m/B(u)"
   ]
  },
  {
   "cell_type": "code",
   "execution_count": 20,
   "id": "1948c34f-b68d-492b-9f99-c0071fc2402e",
   "metadata": {},
   "outputs": [],
   "source": [
    "puiseux01.append((u, v, m))"
   ]
  },
  {
   "cell_type": "code",
   "execution_count": 21,
   "id": "1022b1f3-7e58-4da6-940a-167b0e82de1e",
   "metadata": {},
   "outputs": [
    {
     "data": {
      "text/plain": [
       "True"
      ]
     },
     "execution_count": 21,
     "metadata": {},
     "output_type": "execute_result"
    }
   ],
   "source": [
    "j = 4\n",
    "u = ()\n",
    "v = (3, 2)\n",
    "m = 4\n",
    "Bm01[j]==B(u)*B(v)^m/B(u)"
   ]
  },
  {
   "cell_type": "code",
   "execution_count": 22,
   "id": "12a2d36a-06bc-44be-ac38-6c851de515ec",
   "metadata": {},
   "outputs": [],
   "source": [
    "puiseux01.append((u, v, m))"
   ]
  },
  {
   "cell_type": "code",
   "execution_count": 23,
   "id": "2136ce0f-4cbd-48fe-925e-aa166b213994",
   "metadata": {},
   "outputs": [],
   "source": [
    "infi01 = B.delta()^2 / prod(B(u) * B(v)^m / B(u) for u, v, m  in puiseux01)"
   ]
  },
  {
   "cell_type": "code",
   "execution_count": 24,
   "id": "dfa89b3b-2b75-43db-bbaa-cdbf1ac985b4",
   "metadata": {},
   "outputs": [
    {
     "data": {
      "text/plain": [
       "True"
      ]
     },
     "execution_count": 24,
     "metadata": {},
     "output_type": "execute_result"
    }
   ],
   "source": [
    "u = ()\n",
    "v = (1, 5, 4, 3, 2, 1, 6, 5, 4, 3, 2, 7, 6, 5, 4, 3, 1, 2, 1)\n",
    "m = 1\n",
    "infi01 == B(u)*B(v)^m/B(u)"
   ]
  },
  {
   "cell_type": "markdown",
   "id": "def2b2df-135c-4504-8c4c-a1e0dab70e3d",
   "metadata": {},
   "source": [
    "We compute the fundamental group of the whole projective curve."
   ]
  },
  {
   "cell_type": "code",
   "execution_count": 25,
   "id": "00bd7685-5a6c-4ced-ae6c-7ca81b80474a",
   "metadata": {},
   "outputs": [],
   "source": [
    "g1 = H1.fundamental_group()"
   ]
  },
  {
   "cell_type": "code",
   "execution_count": 26,
   "id": "5f90a647-bb26-4281-8983-76ca874b9d7c",
   "metadata": {},
   "outputs": [
    {
     "data": {
      "text/plain": [
       "{0: [x2*x0*x1*x0^-1*x2^-1,\n",
       "  x0^-1*x2^-1*x0*x1*x0^-1*x2*x0,\n",
       "  x1,\n",
       "  x2*x0*x1^-1*x0^-1*x2^2*x0^-1*x2^-2*x0*x1*x2^2*x0*x2^-3,\n",
       "  x2^2*x0*x2^-2,\n",
       "  x0,\n",
       "  x0*x1*x0^-1],\n",
       " 1: [x2],\n",
       " 2: [x2^2*x0^-1*x2^-2*x1^-1*x0^-1*x2^2*x0*x2^-3*x0*x1^-1*x0^-2*x2^-1*x0*x1^-1*x0^-1*x2*x0*x2^2*x0^-1*x2^-2*x1^-1*x0^-1*x2^-1*x0*x1^-1*x0^-1*x2]}"
      ]
     },
     "execution_count": 26,
     "metadata": {},
     "output_type": "execute_result"
    }
   ],
   "source": [
    "mer1 = H1.meridians()\n",
    "mer1"
   ]
  },
  {
   "cell_type": "markdown",
   "id": "c870cc21-bd96-4cda-89a7-0c5bce98d9f7",
   "metadata": {},
   "source": [
    "Let us recall that we have computed the group of a projective plane curve composed by an octic curve and two lines. We need to add as relations that the meridians of these two lines are of order $3$, and for a particular choice of them, with coincides with the known meridians, their product is trivial.\n",
    "\n",
    "We add these relations and compute the group."
   ]
  },
  {
   "cell_type": "code",
   "execution_count": 27,
   "id": "9c15159f-1b1a-459e-b7cf-9482edf47742",
   "metadata": {},
   "outputs": [
    {
     "data": {
      "text/plain": [
       "Finitely presented group < x0, x2 | x2^3, x2^-1*x0^-1*x2*x0, x0^8 >"
      ]
     },
     "execution_count": 27,
     "metadata": {},
     "output_type": "execute_result"
    }
   ],
   "source": [
    "F3 = g1.free_group()\n",
    "rlk1 = g1.relations() + (mer1[2][0] * mer1[1][0], mer1[1][0]^3)\n",
    "g1a = (F3 / rlk1).simplified()\n",
    "g1a"
   ]
  },
  {
   "cell_type": "markdown",
   "id": "6147c39f-094d-4ff8-a6e8-f99a3ffbaef3",
   "metadata": {},
   "source": [
    "The group  $G^\\text{orb}$ is $\\mathbb{Z}/24$ as expected."
   ]
  },
  {
   "cell_type": "markdown",
   "id": "964c03cb-27e5-4136-97ab-d630a167b064",
   "metadata": {},
   "source": [
    "We continue with the second embedding, following the same strategy. The computation time in my laptop is:\n",
    "```\n",
    "CPU times: user 1min 28s, sys: 565 ms, total: 1min 29s\n",
    "Wall time: 12min 35s\n",
    "```"
   ]
  },
  {
   "cell_type": "code",
   "execution_count": 28,
   "id": "0e64d02e-32e9-4a14-b870-9a3e1ec76e13",
   "metadata": {},
   "outputs": [
    {
     "name": "stdout",
     "output_type": "stream",
     "text": [
      "CPU times: user 39.4 ms, sys: 1.08 ms, total: 40.4 ms\n",
      "Wall time: 39.5 ms\n"
     ]
    }
   ],
   "source": [
    "%%time\n",
    "if verif:\n",
    "    Af2.<u, v>=AffinePlaneCurveArrangements(K2)\n",
    "    H2 = Af2([C2, u])\n",
    "    Bm02 = H2.braid_monodromy()\n",
    "    save(H2, 'filesorb3/Bm02')\n",
    "else:\n",
    "    H2 = load('filesorb3/Bm02.sobj')\n",
    "    Af2 = H2.parent()\n",
    "    Af2.inject_variables(verbose=False)\n",
    "    Bm02 = H2.braid_monodromy()"
   ]
  },
  {
   "cell_type": "markdown",
   "id": "1733f1a5-f351-48ea-b658-be95c1dfe32c",
   "metadata": {},
   "source": [
    "We simplify the braid monodromy."
   ]
  },
  {
   "cell_type": "code",
   "execution_count": 29,
   "id": "58e87ccd-86a7-4427-a0a9-f3cb7f6e93f3",
   "metadata": {},
   "outputs": [],
   "source": [
    "puiseux02 = []"
   ]
  },
  {
   "cell_type": "code",
   "execution_count": 30,
   "id": "f54179f7-8645-47b5-981f-7addb6fc6b14",
   "metadata": {},
   "outputs": [
    {
     "data": {
      "text/plain": [
       "True"
      ]
     },
     "execution_count": 30,
     "metadata": {},
     "output_type": "execute_result"
    }
   ],
   "source": [
    "j = 0\n",
    "u = (7, 2, 6, 5, 2, 4,)\n",
    "v = (3, )\n",
    "m=1\n",
    "Bm02[j]==B(u)*B(v)^m/B(u)"
   ]
  },
  {
   "cell_type": "code",
   "execution_count": 31,
   "id": "239652bd-6ff0-4790-b3dc-3da7b0beb29b",
   "metadata": {},
   "outputs": [],
   "source": [
    "puiseux02.append((u, v, m))"
   ]
  },
  {
   "cell_type": "code",
   "execution_count": 32,
   "id": "62fc4534-d3e5-4450-809d-0ca1a9fd1b7d",
   "metadata": {},
   "outputs": [
    {
     "data": {
      "text/plain": [
       "True"
      ]
     },
     "execution_count": 32,
     "metadata": {},
     "output_type": "execute_result"
    }
   ],
   "source": [
    "j = 1\n",
    "u = (6, 7, 1, 2, 5, 6, 4, 5, 5, 4)\n",
    "v = (3, )\n",
    "m=1\n",
    "Bm02[j]==B(u)*B(v)^m/B(u)"
   ]
  },
  {
   "cell_type": "code",
   "execution_count": 33,
   "id": "740949e0-0c2f-4ce0-a769-4aa57491c921",
   "metadata": {},
   "outputs": [],
   "source": [
    "puiseux02.append((u, v, m))"
   ]
  },
  {
   "cell_type": "code",
   "execution_count": 34,
   "id": "9bb46856-d0af-470a-ae5d-d0c5f7811219",
   "metadata": {},
   "outputs": [
    {
     "data": {
      "text/plain": [
       "True"
      ]
     },
     "execution_count": 34,
     "metadata": {},
     "output_type": "execute_result"
    }
   ],
   "source": [
    "j = 2\n",
    "u = (-4, -5)\n",
    "v = (6, 7)\n",
    "m = 4\n",
    "Bm02[j]== B(u) * B(v)^m / B(u)"
   ]
  },
  {
   "cell_type": "code",
   "execution_count": 35,
   "id": "bf8cee6c-edfb-44a8-95ba-915eae2b2b98",
   "metadata": {},
   "outputs": [],
   "source": [
    "puiseux02.append((u, v, m))"
   ]
  },
  {
   "cell_type": "code",
   "execution_count": 36,
   "id": "7d754fde-5687-400f-81d7-00b4d4be96af",
   "metadata": {},
   "outputs": [
    {
     "data": {
      "text/plain": [
       "True"
      ]
     },
     "execution_count": 36,
     "metadata": {},
     "output_type": "execute_result"
    }
   ],
   "source": [
    "j = 3\n",
    "u = (6, 7, 2, 1, 2, 1)\n",
    "v = (5, 6, 5, 1, 2, 1, 3, 4, 5, 6, 7, 5, 4, 3, 2, 6, 5, 4, 3,)\n",
    "m = 1\n",
    "Bm02[j] == B(u) * B(v)^m / B(u)"
   ]
  },
  {
   "cell_type": "code",
   "execution_count": 37,
   "id": "c8541766-3242-4152-93e9-b18941039f49",
   "metadata": {},
   "outputs": [],
   "source": [
    "puiseux02.append((u, v, m))"
   ]
  },
  {
   "cell_type": "code",
   "execution_count": 38,
   "id": "278697d8-aaa6-48af-bdcb-f51414606e63",
   "metadata": {},
   "outputs": [
    {
     "data": {
      "text/plain": [
       "True"
      ]
     },
     "execution_count": 38,
     "metadata": {},
     "output_type": "execute_result"
    }
   ],
   "source": [
    "j = 4\n",
    "u = ()\n",
    "v = (2, 1)\n",
    "m = 4\n",
    "Bm02[j] == B(u) * B(v)^m / B(u)"
   ]
  },
  {
   "cell_type": "code",
   "execution_count": 39,
   "id": "bb77453b-03e9-4b0d-b829-801f625fb437",
   "metadata": {},
   "outputs": [],
   "source": [
    "puiseux02.append((u, v, m))"
   ]
  },
  {
   "cell_type": "code",
   "execution_count": 40,
   "id": "3d95d3bd-cfec-408b-ab9c-f2957f629716",
   "metadata": {},
   "outputs": [],
   "source": [
    "infi02= B.delta()^2 / prod(B(u) * B(v)^m / B(u) for u, v, m  in puiseux02)"
   ]
  },
  {
   "cell_type": "code",
   "execution_count": 41,
   "id": "cf191740-9607-469f-a0ec-193573aff049",
   "metadata": {},
   "outputs": [
    {
     "data": {
      "text/plain": [
       "True"
      ]
     },
     "execution_count": 41,
     "metadata": {},
     "output_type": "execute_result"
    }
   ],
   "source": [
    "u = ()\n",
    "v = (4, 2, 5, 4, 3, 2, 1, 6, 5, 4, 3, 2, 7, 6, 5, 4, 3, 1, 4)\n",
    "m = 1\n",
    "infi02 == B(u)*B(v)^m/B(u)"
   ]
  },
  {
   "cell_type": "markdown",
   "id": "149cae7c-41b6-445b-a1cf-e97c67e7c45c",
   "metadata": {},
   "source": [
    "We compute the fundamental group of the whole projective curve."
   ]
  },
  {
   "cell_type": "code",
   "execution_count": 42,
   "id": "da84d757-f020-4dc9-bc00-ab07f8b95174",
   "metadata": {},
   "outputs": [],
   "source": [
    "g2 = H2.fundamental_group()"
   ]
  },
  {
   "cell_type": "code",
   "execution_count": 43,
   "id": "b1a82e58-891e-4640-98bb-252579ffcdac",
   "metadata": {},
   "outputs": [
    {
     "data": {
      "text/plain": [
       "{0: [x1,\n",
       "  (x1^-1*x0^-1*x3^-1*x2^-1)^2*x1^-1*x2*(x1*x2*x3*x0)^2*x1,\n",
       "  x2^-1*x1^-1*x0^-1*x3^-1*x2^-1*x1^-1*x2*x1*x2*x3*x0*x1*x2,\n",
       "  x1^-1*x0^-1*x3^-1*x2^-1*x1^-1*x2*x1*x2*x3*x0*x1,\n",
       "  x0,\n",
       "  x2^-1*x1^-1*x2*x1*x2,\n",
       "  (x1^-1*x0^-1*x3^-1*x2^-1)^2*x1^-1*x2^-1*(x1*x2*x3*x0)^2*x1*x2^-1*x1^-1*x0^-1*x3^-1*x2^-1*x1^-1*x2^-1*(x1*x2)^2*x3*x0*x1*x2*(x1^-1*x0^-1*x3^-1*x2^-1)^2*x1^-1*x2*(x1*x2*x3*x0)^2*x1,\n",
       "  x2],\n",
       " 1: [x3],\n",
       " 2: [x3^-1*x2^-1*x1^-1*x2^-1*x1*x2*x1^-1*(x0^-1*x3^-1*x2^-1*x1^-1*x2^-1)^2*(x1*x2*x3*x0)^2*x1*x2^-1*x1^-1*x0^-1*x3^-1*x2^-1*x1^-1*x3]}"
      ]
     },
     "execution_count": 43,
     "metadata": {},
     "output_type": "execute_result"
    }
   ],
   "source": [
    "mer2 = H2.meridians()\n",
    "mer2"
   ]
  },
  {
   "cell_type": "markdown",
   "id": "e2941fca-f2be-4c86-970d-27de609f1cc2",
   "metadata": {},
   "source": [
    "We compute the orbifold fundamental group."
   ]
  },
  {
   "cell_type": "code",
   "execution_count": 44,
   "id": "b19bf866-0b90-4991-af14-5c603317362b",
   "metadata": {},
   "outputs": [
    {
     "data": {
      "text/plain": [
       "Finitely presented group < x0, x1, x2, x3 | x3^3, x0^-1*x2^-1*x1^-1*x0^-1*x2*x0*x1*x2, x1*x2*x0*x1*x2^-1*x1^-1*x0^-1*x2^-1, x3*x2^-1*x1*x2*x3^-1*x0*x1^-1*x0^-1, x1*x2*x3^-1*x0*x2^-1*x1^-1*x2^-1*x1*x2*x1^-1*x0^-1*x3, x2^-1*x1^-1*x3^-1*x2^-1*x1^-1*x0*x2*x1*x2*x0^-1*x2*x3, x1^-1*x0^-1*x3^-1*x2^-1*x1^-1*x2^-1*x1*x2*x3*x0*x1*x3^-1*x0*x3, x2^-1*x1^-1*x2^-1*x1*x3^-1*x0^-1*x3*x1^-1*(x0^-1*x3)^2*x2^-1*x1^-1*x3, x0^-1*x3*x2^-1*x1^-1*x3*x0^-1*x3*x2^-1*x1^-1*x0*x2*x0*x1*x3^-1*x0*x3*x2, x0*x1^-1*x2*x1*x2*x3^-1*x1*x2*x1^-1*x0^-1*x3^-1*x2^-1*x3^-1*x0^-1*x3*x2*x3*x0*x1*x2^-1*x1^-1*x3*x2^-1*x1^-1*x2^-1*x1, x2*x0*x2^-1*x0^-1*x3^-1*x2^-1*x1^-1*x0*x2^-1*x1*x2*x1^-1*x0^-1*x3^-1*x2^-1*x3^-1*x0^-1*x3*x1^-1*x0^-1*x3*x0*x2*x0*x1*x3^-1*x0*x3*x1^-1*x0^-1*x1*x2*x3*x0 >"
      ]
     },
     "execution_count": 44,
     "metadata": {},
     "output_type": "execute_result"
    }
   ],
   "source": [
    "F3 = g2.free_group()\n",
    "rlk2 = g2.relations() + (mer2[2][0] * mer2[1][0], mer2[1][0]^3)\n",
    "g2a = (F3 / rlk2).simplified()\n",
    "g2a"
   ]
  },
  {
   "cell_type": "markdown",
   "id": "691f6579-1b4b-4354-8a17-6dbe4a9e03ba",
   "metadata": {},
   "source": [
    "We obtain a complicated presentation. To save time we consider the natural epimorphism onto $\\mathbb{Z}/3$\n",
    "(the abelianization is $\\mathbb{Z}/24$) and we check that is kernel is of order $8$. "
   ]
  },
  {
   "cell_type": "code",
   "execution_count": 45,
   "id": "a8fd59c9-8ce2-4530-bf1c-069aa4d48d4f",
   "metadata": {},
   "outputs": [
    {
     "name": "stdout",
     "output_type": "stream",
     "text": [
      "Finitely presented group < F1 | F1^24 >\n",
      "8\n"
     ]
    }
   ],
   "source": [
    "ab = g2a.abelianization_map()\n",
    "C24 = ab.codomain()\n",
    "print(C24)\n",
    "Cy3 = FreeGroup(1) / [3 * (1, )]\n",
    "h24 = C24.hom(codomain=Cy3, im_gens=[Cy3.gen(0)])\n",
    "h2a = g2a.hom(codomain=Cy3, im_gens=[h24(ab(x0)) for x0 in g2a.gens()])\n",
    "k2a = libgap(h2a.kernel())\n",
    "print(k2a.Size())"
   ]
  },
  {
   "cell_type": "markdown",
   "id": "c98e4c50-ae52-43e0-a355-c98ba024a70a",
   "metadata": {},
   "source": [
    "We end with the third embedding. The computation time in my laptop with parallel computation is:\n",
    "```\n",
    "CPU times: user 1min 27s, sys: 584 ms, total: 1min 28s\n",
    "Wall time: 12min 24s\n",
    "```"
   ]
  },
  {
   "cell_type": "code",
   "execution_count": 46,
   "id": "bebbd88f-cbbf-4148-a790-abf142d9dff6",
   "metadata": {},
   "outputs": [
    {
     "name": "stdout",
     "output_type": "stream",
     "text": [
      "CPU times: user 30.3 ms, sys: 1.94 ms, total: 32.2 ms\n",
      "Wall time: 31.7 ms\n"
     ]
    }
   ],
   "source": [
    "%%time\n",
    "if verif:\n",
    "    Af3.<u, v>=AffinePlaneCurveArrangements(K3)\n",
    "    H3 = Af3([C3, u])\n",
    "    Bm03 = H3.braid_monodromy()\n",
    "    save(H3, 'filesorb3/Bm03')\n",
    "else:\n",
    "    H3 = load('filesorb3/Bm03.sobj')\n",
    "    Af3 = H3.parent()\n",
    "    Af3.inject_variables(verbose=False)\n",
    "    Bm03 = H3.braid_monodromy()"
   ]
  },
  {
   "cell_type": "markdown",
   "id": "9f3284e3-29eb-4eff-997d-f9ef12f8b4de",
   "metadata": {},
   "source": [
    "Let us simplify the braid monodromy."
   ]
  },
  {
   "cell_type": "code",
   "execution_count": 47,
   "id": "e9b961d9-7f99-4640-938c-1e1b2c820afd",
   "metadata": {},
   "outputs": [],
   "source": [
    "puiseux03 = []"
   ]
  },
  {
   "cell_type": "code",
   "execution_count": 48,
   "id": "8747c7f0-9ad3-4966-85f9-8f649d788daa",
   "metadata": {},
   "outputs": [
    {
     "data": {
      "text/plain": [
       "True"
      ]
     },
     "execution_count": 48,
     "metadata": {},
     "output_type": "execute_result"
    }
   ],
   "source": [
    "j = 0\n",
    "u = (-6, 3, 1, 5, 2, 4, 5, 3, 2)\n",
    "v = (1, 2, 3, 6, 5, 4, 7, 3, 2, 6, 6, 5, 4, 3, 6, 5, 7, 7, 4)\n",
    "m= 1\n",
    "Bm03[j] == B(u) * B(v)^m / B(u)"
   ]
  },
  {
   "cell_type": "code",
   "execution_count": 49,
   "id": "43c257b9-ed24-4d94-9e61-e13be95ac06b",
   "metadata": {},
   "outputs": [],
   "source": [
    "puiseux03.append((u, v, m))"
   ]
  },
  {
   "cell_type": "code",
   "execution_count": 50,
   "id": "d36324a9-969f-403a-aa27-50147a1f25aa",
   "metadata": {},
   "outputs": [
    {
     "data": {
      "text/plain": [
       "True"
      ]
     },
     "execution_count": 50,
     "metadata": {},
     "output_type": "execute_result"
    }
   ],
   "source": [
    "j = 1\n",
    "u = (-6, 5, 4)\n",
    "v = (3,)\n",
    "m=1\n",
    "Bm03[j]==B(u)*B(v)^m/B(u)"
   ]
  },
  {
   "cell_type": "code",
   "execution_count": 51,
   "id": "6af15c87-00a8-490a-814b-70b507d8ba65",
   "metadata": {},
   "outputs": [],
   "source": [
    "puiseux03.append((u, v, m))"
   ]
  },
  {
   "cell_type": "code",
   "execution_count": 52,
   "id": "42b7ed45-d10d-40ed-bb54-a137a87ba6cc",
   "metadata": {},
   "outputs": [
    {
     "data": {
      "text/plain": [
       "True"
      ]
     },
     "execution_count": 52,
     "metadata": {},
     "output_type": "execute_result"
    }
   ],
   "source": [
    "j = 2\n",
    "u = (-4, -6,)\n",
    "v = (5, 4)\n",
    "m = 4\n",
    "Bm03[j]==B(u)*B(v)^m/B(u)"
   ]
  },
  {
   "cell_type": "code",
   "execution_count": 53,
   "id": "c0ec3082-53a6-48af-ba2d-a1beec23bc7d",
   "metadata": {},
   "outputs": [],
   "source": [
    "puiseux03.append((u, v, m))"
   ]
  },
  {
   "cell_type": "code",
   "execution_count": 54,
   "id": "56961f81-67ca-46b4-a964-767a1ad29642",
   "metadata": {},
   "outputs": [
    {
     "data": {
      "text/plain": [
       "True"
      ]
     },
     "execution_count": 54,
     "metadata": {},
     "output_type": "execute_result"
    }
   ],
   "source": [
    "j = 3\n",
    "u = (7, -6, -4,)\n",
    "v = (5, )\n",
    "m = 1\n",
    "Bm03[j]==B(u)*B(v)^m/B(u)"
   ]
  },
  {
   "cell_type": "code",
   "execution_count": 55,
   "id": "1144d941-7c10-49c1-bf93-2792424f0284",
   "metadata": {},
   "outputs": [],
   "source": [
    "puiseux03.append((u, v, m))"
   ]
  },
  {
   "cell_type": "code",
   "execution_count": 56,
   "id": "4b73f6e9-a512-443f-8231-7edeb05d199f",
   "metadata": {},
   "outputs": [
    {
     "data": {
      "text/plain": [
       "True"
      ]
     },
     "execution_count": 56,
     "metadata": {},
     "output_type": "execute_result"
    }
   ],
   "source": [
    "j = 4\n",
    "u = ()\n",
    "v = (1, 2,)\n",
    "m = 4\n",
    "Bm03[j]==B(u)*B(v)^m/B(u)"
   ]
  },
  {
   "cell_type": "code",
   "execution_count": 57,
   "id": "c123ff52-2853-46bf-ad13-47aa3dc4139a",
   "metadata": {},
   "outputs": [],
   "source": [
    "puiseux03.append((u, v, m))"
   ]
  },
  {
   "cell_type": "code",
   "execution_count": 58,
   "id": "3c1a5c38-f7f5-46f3-ba34-e0a6b4c00174",
   "metadata": {},
   "outputs": [],
   "source": [
    "infi03 = B.delta()^2 / prod(B(u) * B(v)^m / B(u) for u, v, m  in puiseux03)"
   ]
  },
  {
   "cell_type": "code",
   "execution_count": 59,
   "id": "cf0ee339-0431-4398-a738-c51945a28888",
   "metadata": {},
   "outputs": [
    {
     "data": {
      "text/plain": [
       "True"
      ]
     },
     "execution_count": 59,
     "metadata": {},
     "output_type": "execute_result"
    }
   ],
   "source": [
    "u = ()\n",
    "v = (1, 3, 2, 1, 4, 5, 6, 7, 3, 2, 1, 4, 3, 2, 6, 5, 4, 6, 5)\n",
    "m = 1\n",
    "infi03 == B(u)*B(v)^m/B(u)"
   ]
  },
  {
   "cell_type": "markdown",
   "id": "6c08990d-8f50-44ab-ba8f-da2f05e3cb72",
   "metadata": {},
   "source": [
    "We compute the fundamental group of the whole projective curve."
   ]
  },
  {
   "cell_type": "code",
   "execution_count": 60,
   "id": "19a39811-ede1-44e6-b613-8ed928e4e541",
   "metadata": {},
   "outputs": [],
   "source": [
    "g3 = H3.fundamental_group()"
   ]
  },
  {
   "cell_type": "code",
   "execution_count": 61,
   "id": "afde1bc1-0b6a-4ba5-b95b-21fb8cc5edd6",
   "metadata": {},
   "outputs": [
    {
     "data": {
      "text/plain": [
       "{0: [x1^-1*x0*x1,\n",
       "  x0,\n",
       "  x1*x0^-1*x1^-1*x0*x1*x0*x1^-1,\n",
       "  x1*x0*x1^-1,\n",
       "  x0^2*x1*x0*x1^-1*x0^-2],\n",
       " 1: [x1],\n",
       " 2: [(x0^-2*x1^-1*x0^-2)^2*x1]}"
      ]
     },
     "execution_count": 61,
     "metadata": {},
     "output_type": "execute_result"
    }
   ],
   "source": [
    "mer3 = H3.meridians()\n",
    "mer3"
   ]
  },
  {
   "cell_type": "markdown",
   "id": "4cae4f2e-60f7-4b1a-ac63-cca68aee84a9",
   "metadata": {},
   "source": [
    "Finally, the orbifold group is computed with the expected results."
   ]
  },
  {
   "cell_type": "code",
   "execution_count": 62,
   "id": "e60ec473-12a2-487f-972d-81694d4b5c2c",
   "metadata": {},
   "outputs": [
    {
     "data": {
      "text/plain": [
       "Finitely presented group < x0, x1 | x1^3, x1*x0*x1^-1*x0^-1, x0^8 >"
      ]
     },
     "execution_count": 62,
     "metadata": {},
     "output_type": "execute_result"
    }
   ],
   "source": [
    "F3 = g3.free_group()\n",
    "rlk3 = g3.relations() + (mer3[2][0] * mer3[1][0], mer3[1][0]^3)\n",
    "g3a = (F3 / rlk3).simplified()\n",
    "g3a"
   ]
  }
 ],
 "metadata": {
  "kernelspec": {
   "display_name": "SageMath 10.3.beta0",
   "language": "sage",
   "name": "sagemath-310"
  },
  "language_info": {
   "codemirror_mode": {
    "name": "ipython",
    "version": 3
   },
   "file_extension": ".py",
   "mimetype": "text/x-python",
   "name": "python",
   "nbconvert_exporter": "python",
   "pygments_lexer": "ipython3",
   "version": "3.11.1"
  }
 },
 "nbformat": 4,
 "nbformat_minor": 5
}
