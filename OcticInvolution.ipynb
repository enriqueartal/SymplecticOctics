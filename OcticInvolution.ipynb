{
 "cells": [
  {
   "cell_type": "markdown",
   "id": "0e53639f-b63a-4daf-a577-0abfbc5df5c1",
   "metadata": {},
   "source": [
    "The goal of this notebook is to prove Theorem 6.3. \n",
    "\n",
    "We want to compute all the curves $C_8$ of degree $8$ in $\\mathbb{P}^2$ having six $E_6$ points and invariant by an involution $\\Phi:\\mathbb{P}^2\\to\\mathbb{P}^2$. It is known that in that case two of the singular points are in the line $L_1$ of fixed points by $\\Phi$, the isolated fixed point is not in $C$, and the remaining singular points are in two orbits. Let \n",
    "$$\n",
    "\\pi:\\mathbb{P}^2\\to\\mathbb{P}^2/\\Phi=\\mathbb{P}^2_\\omega,\\qquad\\omega=(1,1,2).\n",
    "$$\n",
    "Actually the quotient has an orbifold structure where the points in the line $2$-curve $L=\\pi(C)$ are orbifold point. Let $C:=\\pi(C_8)$.\n",
    "Hence we look for all the curves $C$ of degree $8$ in $\\mathbb{P}^2_\\omega$, $\\omega=(1,1,2)$, having two cusps and two $E_6$ points (not passing through the singular point of the weighted projective plane), and such that there is a curve of degree $2$ tangent to the cusps.\n",
    "\n",
    "Some of the computations may be skipped if ``verif = False``. It can be changed at any time.\n",
    "\n",
    "We start fixing some rings to work with."
   ]
  },
  {
   "cell_type": "code",
   "execution_count": 1,
   "id": "c0460668-b45b-4a67-92b5-84c5cae6704f",
   "metadata": {},
   "outputs": [],
   "source": [
    "verif = False\n",
    "R0 = PolynomialRing(QQ, 'a', 26)\n",
    "R0.inject_variables(verbose=False)\n",
    "R1.<x, y, z> = R0[]\n",
    "R2.<u, v> = R0[]"
   ]
  },
  {
   "cell_type": "markdown",
   "id": "a35aea33-99aa-45d9-8889-f7d7efb55c9b",
   "metadata": {},
   "source": [
    "Some helpful functions are loaded; they are documented in the file."
   ]
  },
  {
   "cell_type": "code",
   "execution_count": 2,
   "id": "8580afc0-ce14-4d28-b413-d010d4afa1d3",
   "metadata": {},
   "outputs": [],
   "source": [
    "load('functions/functions.sage')"
   ]
  },
  {
   "cell_type": "markdown",
   "id": "3947945c-28f6-40a9-8888-982348fe39ef",
   "metadata": {},
   "source": [
    "We start with a generic polynomial of $\\omega$-degree $8$, monic in $z^4$, since the curve does not pass throught the singular point"
   ]
  },
  {
   "cell_type": "code",
   "execution_count": 3,
   "id": "c3bd8e87-d1c1-4edd-8aeb-23f361867966",
   "metadata": {},
   "outputs": [
    {
     "data": {
      "text/plain": [
       "a23*x^8 + a22*x^7*y + a21*x^6*y^2 + a19*x^5*y^3 + a17*x^4*y^4 + a14*x^3*y^5 + a11*x^2*y^6 + a7*x*y^7 + a3*y^8 + a20*x^6*z + a18*x^5*y*z + a16*x^4*y^2*z + a13*x^3*y^3*z + a10*x^2*y^4*z + a6*x*y^5*z + a2*y^6*z + a15*x^4*z^2 + a12*x^3*y*z^2 + a9*x^2*y^2*z^2 + a5*x*y^3*z^2 + a1*y^4*z^2 + a8*x^2*z^3 + a4*x*y*z^3 + a0*y^2*z^3 + z^4"
      ]
     },
     "execution_count": 3,
     "metadata": {},
     "output_type": "execute_result"
    }
   ],
   "source": [
    "VC = vector((1, ) + R0.gens()[: 24])\n",
    "VM = vector(x^i * y^j * z^k for i in range(9) for j in range(9 - i) for k in range(floor((8 - i - j) / 2) + 1) if i + j + 2 * k == 8)\n",
    "f = VC * VM\n",
    "f"
   ]
  },
  {
   "cell_type": "markdown",
   "id": "a53ef2eb-44e9-4b48-b351-2888377daf3a",
   "metadata": {},
   "source": [
    "We impose that the cusps are at $[1:0:0]_\\omega$ and $[0:1:0]_\\omega$, and tangent to $z=z+a_{24}x y$. It has been experienced it is more effective than supposing this curve to be $z=0$."
   ]
  },
  {
   "cell_type": "code",
   "execution_count": 4,
   "id": "04b1b176-5b05-4e2c-8287-61701e6a6868",
   "metadata": {},
   "outputs": [],
   "source": [
    "f1 = f(x=u, y=1, z=v + a24 * u)\n",
    "L = [f1.monomial_coefficient(u^i * v^j) for i, j in f1.exponents() if 2 * i + 3 * j < 6]\n",
    "GL = R0.ideal(L).groebner_basis()"
   ]
  },
  {
   "cell_type": "code",
   "execution_count": 5,
   "id": "7a9c7d2a-d6e5-48fb-824a-92a027075af0",
   "metadata": {},
   "outputs": [
    {
     "name": "stdout",
     "output_type": "stream",
     "text": [
      "[a1*a24^2 + a6*a24 + a11, 2*a1*a24 + a6]\n"
     ]
    }
   ],
   "source": [
    "f = f.map_coefficients(lambda _: _.reduce(GL))\n",
    "f1 = f(x=u, y=1, z=v + a24 * u)\n",
    "L = [f1.monomial_coefficient(u^i * v^j) for i, j in f1.exponents() if 2 * i + 3 * j < 6]\n",
    "print(L)"
   ]
  },
  {
   "cell_type": "code",
   "execution_count": 6,
   "id": "de743b40-8425-44de-92b9-5d3e06f64bcc",
   "metadata": {},
   "outputs": [
    {
     "name": "stdout",
     "output_type": "stream",
     "text": [
      "[-a1*a24^2 + a11]\n"
     ]
    }
   ],
   "source": [
    "f = f.map_coefficients(lambda _: _.subs(a6=-2 * a1 * a24))\n",
    "f1 = f(x=u, y=1, z=v + a24 * u)\n",
    "L = [f1.monomial_coefficient(u^i * v^j) for i, j in f1.exponents() if 2 * i + 3 * j < 6]\n",
    "print(L)"
   ]
  },
  {
   "cell_type": "code",
   "execution_count": 7,
   "id": "5f7815ac-d27e-426f-a23e-065d4b1a35b4",
   "metadata": {},
   "outputs": [
    {
     "name": "stdout",
     "output_type": "stream",
     "text": [
      "[]\n"
     ]
    }
   ],
   "source": [
    "f = f.map_coefficients(lambda _: _.subs(a11=a1 * a24^2))\n",
    "f1 = f(x=u, y=1, z=v + a24 * u)\n",
    "L = [f1.monomial_coefficient(u^i * v^j) for i, j in f1.exponents() if 2 * i + 3 * j < 6]\n",
    "print(L)"
   ]
  },
  {
   "cell_type": "markdown",
   "id": "3205284d-4918-4f49-a5bf-792c4406debe",
   "metadata": {},
   "source": [
    "Once these conditions have been solved, we check that we have the right Newton polygon and then we continue with the other cusp."
   ]
  },
  {
   "cell_type": "code",
   "execution_count": 8,
   "id": "73bc567d-d7c6-4340-bcf3-4a5866365914",
   "metadata": {},
   "outputs": [
    {
     "data": {
      "image/png": "[encoded data removed]",
      "text/plain": [
       "A 2-dimensional polyhedron in ZZ^2 defined as the convex hull of 4 vertices"
      ]
     },
     "execution_count": 8,
     "metadata": {},
     "output_type": "execute_result"
    }
   ],
   "source": [
    "f1.newton_polytope()"
   ]
  },
  {
   "cell_type": "code",
   "execution_count": 9,
   "id": "c2d062b3-c18b-4f64-826b-686e36b739e9",
   "metadata": {},
   "outputs": [],
   "source": [
    "f2 = f(x=1, y=u, z=v + a24 * u)\n",
    "L = [f2.monomial_coefficient(u^i * v^j) for i, j in f2.exponents() if 2 * i + 3 * j < 6]\n",
    "GL = R0.ideal(L).groebner_basis()"
   ]
  },
  {
   "cell_type": "code",
   "execution_count": 10,
   "id": "8836d120-49cb-4bc2-92b2-f97a6a5c535a",
   "metadata": {},
   "outputs": [
    {
     "data": {
      "text/plain": [
       "[a18^2 - 4*a15*a21, a15*a24 + 1/2*a18, a18*a24 + 2*a21, a20, a22, a23]"
      ]
     },
     "execution_count": 10,
     "metadata": {},
     "output_type": "execute_result"
    }
   ],
   "source": [
    "GL"
   ]
  },
  {
   "cell_type": "code",
   "execution_count": 11,
   "id": "448b7f5b-ed62-46d4-9278-9b26dd4fd78f",
   "metadata": {},
   "outputs": [
    {
     "data": {
      "text/plain": [
       "[a18^2 - 4*a15*a21, a15*a24 + 1/2*a18, a18*a24 + 2*a21]"
      ]
     },
     "execution_count": 11,
     "metadata": {},
     "output_type": "execute_result"
    }
   ],
   "source": [
    "f = f.map_coefficients(lambda _: _.reduce(GL))\n",
    "f2 = f(x=1, y=u, z=v + a24 * u)\n",
    "L = [f2.monomial_coefficient(u^i * v^j) for i, j in f2.exponents() if 2 * i + 3 * j < 6]\n",
    "GL = R0.ideal(L).groebner_basis()\n",
    "GL"
   ]
  },
  {
   "cell_type": "code",
   "execution_count": 12,
   "id": "a47e7e38-fa6f-4a75-b3b1-e1d73201d374",
   "metadata": {},
   "outputs": [
    {
     "name": "stdout",
     "output_type": "stream",
     "text": [
      "[a15*a24^2 + 1/2*a18*a24, 2*a15*a24 + a18]\n"
     ]
    }
   ],
   "source": [
    "f = f.map_coefficients(lambda _:_.subs(a21=-a18 * a24 / 2))\n",
    "f2 = f(x=1, y=u, z=v + a24 * u)\n",
    "L = [f2.monomial_coefficient(u^i * v^j) for i, j in f2.exponents() if 2 * i + 3 * j < 6]\n",
    "print(L)"
   ]
  },
  {
   "cell_type": "code",
   "execution_count": 13,
   "id": "9eba7e0c-ed35-4f39-a8bc-89314a1d2283",
   "metadata": {},
   "outputs": [
    {
     "name": "stdout",
     "output_type": "stream",
     "text": [
      "[]\n"
     ]
    }
   ],
   "source": [
    "f = f.map_coefficients(lambda _: _.subs(a18=-2 * a15 * a24))\n",
    "f2 = f(x=1, y=u, z=v + a24 * u)\n",
    "L = [f2.monomial_coefficient(u^i * v^j) for i, j in f2.exponents() if 2 * i + 3 * j < 6]\n",
    "print(L)"
   ]
  },
  {
   "cell_type": "code",
   "execution_count": 14,
   "id": "4f518aab-8ad2-448b-bbb8-780375415d3f",
   "metadata": {},
   "outputs": [
    {
     "data": {
      "image/png": "[encoded data removed]",
      "text/plain": [
       "A 2-dimensional polyhedron in ZZ^2 defined as the convex hull of 5 vertices"
      ]
     },
     "execution_count": 14,
     "metadata": {},
     "output_type": "execute_result"
    }
   ],
   "source": [
    "f2.newton_polytope()"
   ]
  },
  {
   "cell_type": "markdown",
   "id": "19c366a4-81a8-4fd4-9ade-4aad9d43d82c",
   "metadata": {},
   "source": [
    "We simplify the coefficent ring since we need much less coefficients."
   ]
  },
  {
   "cell_type": "code",
   "execution_count": 15,
   "id": "7d91c512-949c-4101-8016-5565a2954ee3",
   "metadata": {},
   "outputs": [],
   "source": [
    "lvrs = lvr(f.coefficients()) + [a2]\n",
    "lvrs.sort()\n",
    "R0 = PolynomialRing(QQ, lvrs)\n",
    "R0.inject_variables(verbose=False)\n",
    "R1.<x, y, z> = R0[]\n",
    "R2.<u, v> = R0[]\n",
    "f = R1(f)"
   ]
  },
  {
   "cell_type": "markdown",
   "id": "fdeb8dc8-b4cb-4914-9ac4-f61899c38f65",
   "metadata": {},
   "source": [
    "The next goal is to impose an $\\mathbb{E}_6$-point at $[1:1:0]_\\omega$. The list ``L`` is started with the annihilation\n",
    "of the derivatives up to order $3$; then the condition for the tangent cone to be a third power is added."
   ]
  },
  {
   "cell_type": "code",
   "execution_count": 16,
   "id": "5ac99df0-e2b1-4990-89e7-23dfe344115a",
   "metadata": {},
   "outputs": [
    {
     "data": {
      "text/plain": [
       "9"
      ]
     },
     "execution_count": 16,
     "metadata": {},
     "output_type": "execute_result"
    }
   ],
   "source": [
    "f3 = f(x=u + 1, y=1, z=v)\n",
    "L = [f3.monomial_coefficient(u^i * v^j) for i, j in f3.exponents() if i + j < 3]\n",
    "cs = [f3.monomial_coefficient(u^i * v^(3 - i)) for i in (0 .. 3)]\n",
    "L += [9 * cs[0] * cs[3] - cs[1] * cs[2], 3 * cs[0] * cs[2] - cs[1]^2, 3 * cs[1] * cs[3] - cs[2]^2]\n",
    "len(L)"
   ]
  },
  {
   "cell_type": "markdown",
   "id": "b5b64518-312b-4d0e-b78b-bcc67969f42b",
   "metadata": {},
   "source": [
    "We do the same at $[a_2:1:1]_\\omega$."
   ]
  },
  {
   "cell_type": "code",
   "execution_count": 17,
   "id": "6f85cf40-7256-469e-807f-0df041450e2b",
   "metadata": {},
   "outputs": [
    {
     "data": {
      "text/plain": [
       "18"
      ]
     },
     "execution_count": 17,
     "metadata": {},
     "output_type": "execute_result"
    }
   ],
   "source": [
    "f4 = f(x =u + a2, y=1, z=v + 1)\n",
    "L += [f4.monomial_coefficient(u^i * v^j) for i, j in f4.exponents() if i + j < 3]\n",
    "cs = [f4.monomial_coefficient(u^i * v^(3 - i)) for i in (0 .. 3)]\n",
    "L += [9 * cs[0] * cs[3] - cs[1] * cs[2], 3 * cs[0] * cs[2] - cs[1]^2, 3 * cs[1] * cs[3] - cs[2]^2]\n",
    "len(L)"
   ]
  },
  {
   "cell_type": "markdown",
   "id": "dd25266c-7cbf-4c4e-a718-3c789c987866",
   "metadata": {},
   "source": [
    "We need to solve this system, unfortunately is not possible to do it directly. The procedure has been explained in the notebook for the curves invariant by an involution of order $3$ and also in the Appendix A."
   ]
  },
  {
   "cell_type": "code",
   "execution_count": 18,
   "id": "e6d35775-6a2c-4b23-9c74-ac40d9aecdc8",
   "metadata": {},
   "outputs": [],
   "source": [
    "Ls = [L]"
   ]
  },
  {
   "cell_type": "code",
   "execution_count": 19,
   "id": "57030edf-e520-4354-83d9-2f371a003039",
   "metadata": {},
   "outputs": [
    {
     "name": "stdout",
     "output_type": "stream",
     "text": [
      "(1, 0, 4, 1)\n",
      "Number of variables:  15\n",
      "Number of equations 17\n",
      "(1, 0, 3, 1)\n",
      "Number of variables:  14\n",
      "Number of equations 16\n",
      "(1, 0, 2, 1)\n",
      "Number of variables:  13\n",
      "Number of equations 15\n",
      "(1, 0, 4, 1)\n",
      "Number of variables:  12\n",
      "Number of equations 14\n",
      "(1, 0, 5, 1)\n",
      "Number of variables:  11\n",
      "Number of equations 13\n",
      "(1, 0, 5, 1)\n",
      "Number of variables:  10\n",
      "Number of equations 12\n",
      "(1, 0, 11, 1)\n",
      "Number of variables:  9\n",
      "Number of equations 11\n",
      "(1, 0, 21, 1)\n",
      "Number of variables:  8\n",
      "Number of equations 10\n",
      "(1, 0, 31, 1)\n",
      "Number of variables:  7\n",
      "Number of equations 9\n",
      "(1, 3, 33, 3)\n",
      "Number of variables:  6\n",
      "Number of equations 8\n",
      "1 0 a2 - 1\n",
      "1 1 number of terms:  505\n",
      "3 0 a2\n",
      "3 1 a2 - 1\n",
      "3 2 number of terms:  55\n",
      "4 0 a2\n",
      "4 1 a2 - 1\n",
      "4 2 number of terms:  56\n",
      "5 0 a2\n",
      "5 1 a2 - 1\n",
      "5 2 2*a2 - 1\n",
      "5 3 number of terms:  421\n",
      "6 0 a2\n",
      "6 1 a2 - 1\n",
      "6 2 2*a2 - 1\n",
      "6 3 number of terms:  358\n"
     ]
    }
   ],
   "source": [
    "for i, vr in [(0, a14), (4, a17), (2, a19), (1, a1), (1, a10), (0, a13), (5, a0), (4, a4), (3, a8), (3, a16)]:\n",
    "    Ls, L1, Lf = reducir_paso(Ls, i, vr)"
   ]
  },
  {
   "cell_type": "markdown",
   "id": "502e9571-26be-414f-813f-064575d00bd3",
   "metadata": {},
   "source": [
    "The cases $a_2=0,1$ are easily discarded. We eliminate them."
   ]
  },
  {
   "cell_type": "code",
   "execution_count": 20,
   "id": "f356e492-4122-4973-b57a-e99b5456b8dc",
   "metadata": {},
   "outputs": [],
   "source": [
    "for j in (1, 3, 4):\n",
    "    Lf[j] = Lf[j][-1: ]\n",
    "for j in (5, 6):\n",
    "    Lf[j] = Lf[j][-2: ]"
   ]
  },
  {
   "cell_type": "code",
   "execution_count": 21,
   "id": "3958fe23-190e-4743-bd66-0628a98dd967",
   "metadata": {},
   "outputs": [],
   "source": [
    "Ls0, Ls1, Ls2, Ls3 = nuevos(Ls, Lf)"
   ]
  },
  {
   "cell_type": "code",
   "execution_count": 22,
   "id": "b15a2bb9-8b6a-4b9c-ae68-c6377b0ef6b7",
   "metadata": {},
   "outputs": [
    {
     "name": "stdout",
     "output_type": "stream",
     "text": [
      "(1, 8, 42, 13)\n",
      "Number of variables:  5\n",
      "Number of equations 7\n",
      "No solution\n"
     ]
    }
   ],
   "source": [
    "res = reducir_paso(Ls3, 3, a9)"
   ]
  },
  {
   "cell_type": "markdown",
   "id": "a81f97e3-ce07-4205-a6a1-725a7ae73fde",
   "metadata": {},
   "source": [
    "Then, $a_2=\\frac{1}{2}$ is also discarded, and we restrict our attention to the first list of lists."
   ]
  },
  {
   "cell_type": "code",
   "execution_count": 23,
   "id": "2166d597-8511-409b-8043-2a26627afc43",
   "metadata": {},
   "outputs": [
    {
     "name": "stdout",
     "output_type": "stream",
     "text": [
      "(1, 8, 42, 13)\n",
      "Number of variables:  5\n",
      "Number of equations 7\n",
      "1 0 a2 - 1\n",
      "1 1 number of terms:  618\n",
      "3 0 a2 - 1\n",
      "3 1 number of terms:  53\n",
      "5 0 a2 - 1\n",
      "5 1 number of terms:  581\n"
     ]
    }
   ],
   "source": [
    "Ls, L1, Lf = reducir_paso(Ls0, 3, a9)"
   ]
  },
  {
   "cell_type": "markdown",
   "id": "1a5f2e4c-09ce-47a1-89be-8cfffdfe017f",
   "metadata": {},
   "source": [
    "We discard again the case $a_2=1$."
   ]
  },
  {
   "cell_type": "code",
   "execution_count": 24,
   "id": "9696bc8b-b4be-46a7-ae45-9c5cee689a4f",
   "metadata": {},
   "outputs": [],
   "source": [
    "Ls[-1]= [_[-1] for _ in Lf]"
   ]
  },
  {
   "cell_type": "code",
   "execution_count": 25,
   "id": "f77eb589-56b6-4bf1-8eee-242316544132",
   "metadata": {},
   "outputs": [
    {
     "name": "stdout",
     "output_type": "stream",
     "text": [
      "(1, 7, 46, 7)\n",
      "Number of variables:  4\n",
      "Number of equations 6\n",
      "(2, 12, 185, 7)\n",
      "Number of variables:  3\n",
      "Number of equations 5\n",
      "0 0 a24\n",
      "0 1 a2\n",
      "0 2 number of terms:  11\n",
      "0 3 number of terms:  229\n",
      "1 0 a2\n",
      "1 1 number of terms:  24\n",
      "1 2 number of terms:  229\n",
      "2 0 a24\n",
      "2 1 a2\n",
      "2 2 number of terms:  488\n",
      "3 0 a24\n",
      "3 1 a2\n",
      "3 2 number of terms:  370\n"
     ]
    }
   ],
   "source": [
    "for i, vr in [(3, a12), (2, a5)]:\n",
    "    Ls, L1, Lf = reducir_paso(Ls, i, vr)"
   ]
  },
  {
   "cell_type": "markdown",
   "id": "dbb11a34-78e0-40c4-8189-e1c720d27d5d",
   "metadata": {},
   "source": [
    "We discard the cases $a_2=0$ and $a_{24}=0$. "
   ]
  },
  {
   "cell_type": "code",
   "execution_count": 26,
   "id": "d9c45dad-e457-497a-94de-b25ceabe5b49",
   "metadata": {},
   "outputs": [],
   "source": [
    "for j in (0, 1):\n",
    "    Lf[j] = Lf[j][-2: ]\n",
    "for j in (2, 3):\n",
    "    Lf[j] = Lf[j][-1: ]"
   ]
  },
  {
   "cell_type": "code",
   "execution_count": 27,
   "id": "fc675f26-dcbc-4b2e-bbbe-98751ca14d04",
   "metadata": {},
   "outputs": [],
   "source": [
    "Ls0, Ls1, Ls2, Ls3 = nuevos(Ls, Lf)"
   ]
  },
  {
   "cell_type": "code",
   "execution_count": 28,
   "id": "22696960-bf24-49c3-9c73-b383490df936",
   "metadata": {},
   "outputs": [
    {
     "name": "stdout",
     "output_type": "stream",
     "text": [
      "(1, 8, 1, 10)\n",
      "Number of variables:  2\n",
      "Number of equations 4\n",
      "0 0 a2 + 1\n",
      "0 1 2*a24*a2 - 1\n",
      "0 2 3*a24*a2 - 2\n",
      "1 0 number of terms:  16\n",
      "1 1 number of terms:  23\n",
      "2 0 number of terms:  9\n",
      "2 1 number of terms:  18\n",
      "3 0 number of terms:  24\n",
      "3 1 number of terms:  31\n"
     ]
    }
   ],
   "source": [
    "Ls3, L1, Lf = reducir_paso(Ls3, 0, a15)"
   ]
  },
  {
   "cell_type": "code",
   "execution_count": 29,
   "id": "746255d4-fe0a-49c3-bbe5-713de0e4e1be",
   "metadata": {},
   "outputs": [
    {
     "data": {
      "text/plain": [
       "[a2, a2 + 1]"
      ]
     },
     "execution_count": 29,
     "metadata": {},
     "output_type": "execute_result"
    }
   ],
   "source": [
    "fcts = []\n",
    "for u in cartesian_product(Lf):\n",
    "    CT1 = rslt([(u[0], v, a24) for v in u[1: ]])\n",
    "    T1 = [b[1] for b in CT1]\n",
    "    u = gcd(T1).factor()\n",
    "    fcts += [_[0] for _ in u]\n",
    "fcts = list(Set(fcts))\n",
    "fcts.sort()\n",
    "fcts"
   ]
  },
  {
   "cell_type": "markdown",
   "id": "6eaa9625-3d60-4344-884d-edac0e7587d2",
   "metadata": {},
   "source": [
    "The case $a_2=0$ is not allowed. Let us check for $a_2=-1$."
   ]
  },
  {
   "cell_type": "code",
   "execution_count": 30,
   "id": "25d87448-5b49-45a7-b0b6-c5046dd67bc8",
   "metadata": {},
   "outputs": [
    {
     "name": "stdout",
     "output_type": "stream",
     "text": [
      "1\n"
     ]
    }
   ],
   "source": [
    "for U in [-1]:\n",
    "    print(gcd([_(a2=U) for _ in Ls3[-2]]).factor())"
   ]
  },
  {
   "cell_type": "code",
   "execution_count": 31,
   "id": "4203d74b-afd6-406c-ab78-2702bc1ae39b",
   "metadata": {},
   "outputs": [
    {
     "name": "stdout",
     "output_type": "stream",
     "text": [
      "(1, 8, 1, 10)\n",
      "Number of variables:  2\n",
      "Number of equations 4\n",
      "0 0 a2 + 1\n",
      "0 1 2*a24*a2 - 1\n",
      "0 2 number of terms:  10\n",
      "1 0 number of terms:  16\n",
      "1 1 number of terms:  23\n",
      "2 0 number of terms:  9\n",
      "2 1 number of terms:  18\n",
      "3 0 number of terms:  24\n",
      "3 1 number of terms:  31\n"
     ]
    }
   ],
   "source": [
    "Ls2, L1, Lf = reducir_paso(Ls2, 0, a15)"
   ]
  },
  {
   "cell_type": "code",
   "execution_count": 32,
   "id": "ba94cfb8-3e55-49c2-b52a-d57717f81370",
   "metadata": {},
   "outputs": [
    {
     "data": {
      "text/plain": [
       "[a2, a2 - 1, a2 + 1]"
      ]
     },
     "execution_count": 32,
     "metadata": {},
     "output_type": "execute_result"
    }
   ],
   "source": [
    "fcts = []\n",
    "for u in cartesian_product(Lf):\n",
    "    CT1 = rslt([(u[0], v, a24) for v in u[1: ]])\n",
    "    T1 = [b[1] for b in CT1]\n",
    "    u = gcd(T1).factor()\n",
    "    fcts += [_[0] for _ in u]\n",
    "fcts = list(Set(fcts))\n",
    "fcts.sort()\n",
    "fcts"
   ]
  },
  {
   "cell_type": "code",
   "execution_count": 33,
   "id": "3635099d-ceab-419f-a027-e2533d3fd4bf",
   "metadata": {},
   "outputs": [
    {
     "name": "stdout",
     "output_type": "stream",
     "text": [
      "1\n"
     ]
    }
   ],
   "source": [
    "for U in [-1]:\n",
    "    print(gcd([_(a2=U) for _ in Ls2[-2]]).factor())"
   ]
  },
  {
   "cell_type": "code",
   "execution_count": 34,
   "id": "035cc8ef-96ea-47ee-b856-8c2276225d79",
   "metadata": {},
   "outputs": [
    {
     "name": "stdout",
     "output_type": "stream",
     "text": [
      "(1, 13, 4, 20)\n",
      "Number of variables:  2\n",
      "Number of equations 4\n",
      "0 0 a2 + 1\n",
      "0 1 2*a24*a2 - 1\n",
      "0 2 a24*a2 - 1\n",
      "0 3 number of terms:  10\n",
      "0 4 number of terms:  20\n",
      "1 0 number of terms:  30\n",
      "1 1 number of terms:  50\n",
      "2 0 number of terms:  19\n",
      "2 1 number of terms:  42\n",
      "3 0 number of terms:  39\n",
      "3 1 number of terms:  61\n"
     ]
    }
   ],
   "source": [
    "Ls1, L1, Lf = reducir_paso(Ls1, 1, a15)"
   ]
  },
  {
   "cell_type": "code",
   "execution_count": 35,
   "id": "3af7e0a2-240b-4fba-a58c-25aad9d1359d",
   "metadata": {},
   "outputs": [
    {
     "data": {
      "text/plain": [
       "[a2, a2 - 1, a2 + 1]"
      ]
     },
     "execution_count": 35,
     "metadata": {},
     "output_type": "execute_result"
    }
   ],
   "source": [
    "fcts = []\n",
    "for u in cartesian_product(Lf):\n",
    "    CT1 = rslt([(u[0], v, a24) for v in u[1: ]])\n",
    "    T1 = [b[1] for b in CT1]\n",
    "    u = gcd(T1).factor()\n",
    "    fcts += [_[0] for _ in u]\n",
    "fcts = list(Set(fcts))\n",
    "fcts.sort()\n",
    "fcts"
   ]
  },
  {
   "cell_type": "code",
   "execution_count": 36,
   "id": "236b45b7-e84d-497c-b346-79ab9b8c8598",
   "metadata": {},
   "outputs": [
    {
     "name": "stdout",
     "output_type": "stream",
     "text": [
      "1\n"
     ]
    }
   ],
   "source": [
    "for U in [-1]:\n",
    "    print(gcd([_(a2=U) for _ in Ls1[-2]]).factor())"
   ]
  },
  {
   "cell_type": "markdown",
   "id": "653b23d7-2fdb-4ee9-ae96-efdc757ca9a6",
   "metadata": {},
   "source": [
    "We are restricted to only one case."
   ]
  },
  {
   "cell_type": "code",
   "execution_count": 37,
   "id": "4124e843-166e-4d36-9023-ff71ad97cbb5",
   "metadata": {},
   "outputs": [
    {
     "name": "stdout",
     "output_type": "stream",
     "text": [
      "(3, 32, 141, 88)\n",
      "Number of variables:  2\n",
      "Number of equations 3\n",
      "0 0 number of terms:  194\n",
      "0 1 number of terms:  386\n",
      "1 0 number of terms:  135\n",
      "1 1 number of terms:  319\n",
      "2 0 number of terms:  250\n",
      "2 1 number of terms:  487\n"
     ]
    }
   ],
   "source": [
    "Ls, L1, Lf = reducir_paso(Ls0, 0, a15)"
   ]
  },
  {
   "cell_type": "markdown",
   "id": "abc4d51d-74a7-4c04-bf15-4ed083113b40",
   "metadata": {},
   "source": [
    "This computation can be skipped, it may take\n",
    "```\n",
    "CPU times: user 137 ms, sys: 110 ms, total: 248 ms\n",
    "Wall time: 32.3 s\n",
    "```"
   ]
  },
  {
   "cell_type": "code",
   "execution_count": 38,
   "id": "adcc66c9-71f9-4a86-842e-9d2a1da9072e",
   "metadata": {},
   "outputs": [
    {
     "name": "stdout",
     "output_type": "stream",
     "text": [
      "The polynomial in position 0 is a2\n",
      "The polynomial in position 1 is a2 - 1\n",
      "The polynomial in position 2 is a2 + 1\n",
      "The polynomial in position 3 is 27*a2^2 - 10*a2 + 27\n",
      "The degree of the polynomial in position 4 is 4\n",
      "The degree of the polynomial in position 5 is 32\n"
     ]
    }
   ],
   "source": [
    "verif = False\n",
    "if verif:\n",
    "    fcts = []\n",
    "    for u in cartesian_product(Lf):\n",
    "        CT1 = rslt([(u[0], v, a24) for v in u[1: ]])\n",
    "        T1 = [b[1] for b in CT1]\n",
    "        u = gcd(T1).factor()\n",
    "        fcts += [_[0] for _ in u]\n",
    "    fcts = list(Set(fcts))\n",
    "    fcts.sort()\n",
    "    save(fcts, 'files2/cnd-2')\n",
    "else:\n",
    "    fcts = load('files2/cnd-2.sobj')\n",
    "for j, p in enumerate(fcts):\n",
    "    if p.degree() <= 2:\n",
    "        print(\"The polynomial in position\", j, \"is\", p)\n",
    "    else:\n",
    "        print(\"The degree of the polynomial in position\", j, \"is\", p.degree())"
   ]
  },
  {
   "cell_type": "markdown",
   "id": "0a651aed-f30e-4708-b477-2b93f49b1022",
   "metadata": {},
   "source": [
    "We start checking the case $a_2=-1$."
   ]
  },
  {
   "cell_type": "code",
   "execution_count": 39,
   "id": "5e924cba-6319-49f8-ad11-4bc6deb286ce",
   "metadata": {},
   "outputs": [
    {
     "name": "stdout",
     "output_type": "stream",
     "text": [
      "1\n"
     ]
    }
   ],
   "source": [
    "for U in [-1]:\n",
    "    print(gcd([_(a2=U) for _ in Ls1[-2]]).factor())"
   ]
  },
  {
   "cell_type": "markdown",
   "id": "9efdab1b-0a67-42d7-b9c4-5189da78e502",
   "metadata": {},
   "source": [
    "We check now the field of index $4$:"
   ]
  },
  {
   "cell_type": "code",
   "execution_count": 40,
   "id": "0c5ef2ef-bdac-4592-a108-8da197d9b281",
   "metadata": {},
   "outputs": [],
   "source": [
    "Rs.<s> = QQ[]\n",
    "p1 = fcts[-2](a2=s)\n",
    "K1.<aa2> = NumberField(p1)"
   ]
  },
  {
   "cell_type": "code",
   "execution_count": 41,
   "id": "19898794-3d57-4ec2-b0bc-dcf22de440c1",
   "metadata": {},
   "outputs": [
    {
     "name": "stdout",
     "output_type": "stream",
     "text": [
      "No solution\n"
     ]
    }
   ],
   "source": [
    "RK0 = R0.change_ring(K1)\n",
    "RK0.inject_variables(verbose=False)\n",
    "Lsa = [[RK0(p) for p in L] for L in Ls]\n",
    "sb1 = {a2: aa2}\n",
    "j = -1\n",
    "for vr in (a24, a15):\n",
    "    qq = [_[0] for _ in gcd([RK0(_).subs(sb1) for _ in Ls[j]]).factor()]\n",
    "    if qq == []:\n",
    "        print(\"No solution\")\n",
    "        break\n",
    "    else:\n",
    "        sb1[vr] = K1(vr.reduce(qq))\n",
    "        j += -1"
   ]
  },
  {
   "cell_type": "markdown",
   "id": "0158aace-78a3-4beb-b87c-a5bc7b72cf0d",
   "metadata": {},
   "source": [
    "The case of index $32$ takes several hours to give no solution. The following code shows this fact.\n",
    "```\n",
    "K1, RK0, Lsa = load('grado32-2.sobj')\n",
    "RK0.inject_variables(verbose=False)\n",
    "K1.inject_variables(verbose=False)\n",
    "sb1 = {a2: aa2}\n",
    "j = -1\n",
    "for vr in (a24, a15, a5):\n",
    "    qq = [_[0] for _ in gcd([_.subs(sb1) for _ in Lsa[j]]).factor()]\n",
    "    if qq == []:\n",
    "        print(\"No solution\")\n",
    "        break\n",
    "    else:\n",
    "        sb1[vr] = K1(vr.reduce(qq))\n",
    "        j += -1\n",
    "```"
   ]
  },
  {
   "cell_type": "code",
   "execution_count": 42,
   "id": "f5715bad-1ca7-4954-b738-88867dcdbd21",
   "metadata": {},
   "outputs": [],
   "source": [
    "Rs.<s> = QQ[]\n",
    "p1 = fcts[1](a2=s)\n",
    "K1.<aa2> = NumberField(p1)\n",
    "save((K1, RK0, Lsa), 'files2/grado32-2.sobj')"
   ]
  },
  {
   "cell_type": "markdown",
   "id": "c2c3afe2-caf9-46be-9635-d82191838a43",
   "metadata": {},
   "source": [
    "Only one case has to be checked, the field of index $2$. The data are saved."
   ]
  },
  {
   "cell_type": "code",
   "execution_count": 43,
   "id": "a23ee5f4-0105-4c00-9b81-2bcd691b04c1",
   "metadata": {},
   "outputs": [],
   "source": [
    "Rs.<s> = QQ[]\n",
    "p1 = fcts[3](a2=s)\n",
    "K1.<aa2> = NumberField(p1)"
   ]
  },
  {
   "cell_type": "code",
   "execution_count": 44,
   "id": "458276ee-5644-4413-9ce9-546a07ecd165",
   "metadata": {},
   "outputs": [],
   "source": [
    "RK0 = R0.change_ring(K1)\n",
    "RK0.inject_variables(verbose=False)\n",
    "Lsa = [[RK0(p) for p in L] for L in Ls]\n",
    "sb1 = {a2: aa2}\n",
    "j = -1\n",
    "for vr in (a24, a15, a5, a12, a9, a16, a8, a4, a0, a13, a10, a1, a19, a17, a14):\n",
    "    qq = [_[0] for _ in gcd([_.subs(sb1) for _ in Lsa[j]]).factor()]\n",
    "    if qq == []:\n",
    "        print(\"No solution\")\n",
    "        break\n",
    "    else:\n",
    "        sb1[vr] = K1(vr.reduce(qq))\n",
    "        j += -1"
   ]
  },
  {
   "cell_type": "markdown",
   "id": "9240ef76-798c-4c38-935b-9d5875b79d97",
   "metadata": {},
   "source": [
    "With this data we can construct the polynomial over a field $K_1$ of index $2$."
   ]
  },
  {
   "cell_type": "code",
   "execution_count": 45,
   "id": "cfbbbea4-e499-47d8-8383-4657c5232111",
   "metadata": {},
   "outputs": [],
   "source": [
    "cfs = [K1(RK0(_).subs(sb1)) for _ in f.coefficients()]\n",
    "RK1.<x, y, z> = K1[]\n",
    "SK1.<u, v> = K1[]\n",
    "f1 = vector(cfs) * vector([x^i * y^j * z^k for i, j, k in f.exponents()])"
   ]
  },
  {
   "cell_type": "markdown",
   "id": "a3987d9b-37a8-428c-a637-80e949040441",
   "metadata": {},
   "source": [
    "Let us see the result."
   ]
  },
  {
   "cell_type": "code",
   "execution_count": 46,
   "id": "a8c69f47-8fab-47fb-9547-253dd0a719e0",
   "metadata": {},
   "outputs": [
    {
     "data": {
      "text/plain": [
       "(322741/12702096*aa2 - 6563615/171478296)*x^6*y^2 + (-84947/2117016*aa2 + 446695/5196312)*x^5*y^3 + (-16975/529254*aa2 - 1613705/57159432)*x^4*y^4 + (526441/6351048*aa2 - 8286115/171478296)*x^3*y^5 + (-629/17424*aa2 + 3395/117612)*x^2*y^6 + (3395/29403*aa2 + 322741/3175524)*x^5*y*z + (10951/58806*aa2 - 852361/1587762)*x^4*y^2*z + (-45917/58806*aa2 + 495670/793881)*x^3*y^3*z + (10607/19602*aa2 - 23693/529254)*x^2*y^4*z + (-15/242*aa2 - 629/4356)*x*y^5*z + (-629/4356*aa2 + 3395/29403)*x^4*z^2 + (16003/13068*aa2 + 103139/352836)*x^3*y*z^2 + (-2305/3267*aa2 - 289969/176418)*x^2*y^2*z^2 + (-787/1452*aa2 + 50881/39204)*x*y^3*z^2 + (81/484*aa2 - 15/242)*y^4*z^2 + (-85/198*aa2 + 4495/5346)*x^2*z^3 + (2*aa2 - 20/27)*x*y*z^3 + (-15/22*aa2 - 85/198)*y^2*z^3 + z^4"
      ]
     },
     "execution_count": 46,
     "metadata": {},
     "output_type": "execute_result"
    }
   ],
   "source": [
    "f1"
   ]
  },
  {
   "cell_type": "markdown",
   "id": "caf6d47e-f7df-4ba1-9f9f-854194b095bd",
   "metadata": {},
   "source": [
    "We compute the tangent cone at a cusp."
   ]
  },
  {
   "cell_type": "code",
   "execution_count": 47,
   "id": "1b30b94a-2944-46b0-8180-ead59b824045",
   "metadata": {},
   "outputs": [
    {
     "data": {
      "text/plain": [
       "((322741/12702096*aa2 - 6563615/171478296)) * (u + (-2*aa2)*v)^2"
      ]
     },
     "execution_count": 47,
     "metadata": {},
     "output_type": "execute_result"
    }
   ],
   "source": [
    "g1 = f1(x=1, y=u, z=v)\n",
    "sum(a*b for a, b in g1 if b.degree() == 2).factor()"
   ]
  },
  {
   "cell_type": "markdown",
   "id": "16085a75-42ec-4d16-aabe-eb01a373540d",
   "metadata": {},
   "source": [
    "We make a suitable change of variables, such that $z=0$ is the common tangent $2$-curve at the cusps."
   ]
  },
  {
   "cell_type": "code",
   "execution_count": 48,
   "id": "2b7bb1c4-7ff8-4167-822f-ca1b57e019fb",
   "metadata": {},
   "outputs": [
    {
     "data": {
      "text/plain": [
       "(((-629/4356*aa2 + 3395/29403)) * v^2, ((81/484*aa2 - 15/242)) * v^2)"
      ]
     },
     "execution_count": 48,
     "metadata": {},
     "output_type": "execute_result"
    }
   ],
   "source": [
    "f2 = f1(z=z + x*y/2/aa2)\n",
    "gx = f2(x=1, y=u, z=v)\n",
    "gy = f2(x=u, y=1, z=v)\n",
    "sum(a*b for a, b in gx if b.degree() == 2).factor(), sum(a*b for a, b in gy if b.degree() == 2).factor()"
   ]
  },
  {
   "cell_type": "markdown",
   "id": "0d844f7a-1664-4cbb-85b0-186ac9b46ad8",
   "metadata": {},
   "source": [
    "Let us look for the coordinates of the $\\mathbb{E}_6$, singularities. The only automorphism of $K_1$ is the complex conjugation. We look for a change of variables such that the polynomial has rational coefficients."
   ]
  },
  {
   "cell_type": "code",
   "execution_count": 49,
   "id": "a837fdd7-a606-46da-9788-a0d4772befbc",
   "metadata": {},
   "outputs": [
    {
     "data": {
      "text/plain": [
       "((-8562881155418812386589/64348236132735668471087202*aa2 + 2650127952029871421281563/19111426131422493535912898994)) * y^3 * x^3 * (x + (-aa2)*y)^8 * (x - y)^8 * (x^2 + (9/2*aa2 + 9/2)*x*y + aa2*y^2)"
      ]
     },
     "execution_count": 49,
     "metadata": {},
     "output_type": "execute_result"
    }
   ],
   "source": [
    "f2.discriminant(z).factor()"
   ]
  },
  {
   "cell_type": "code",
   "execution_count": 50,
   "id": "56541d3b-0129-4387-b1be-ac77e7bedbdc",
   "metadata": {},
   "outputs": [],
   "source": [
    "h1 = K1.automorphisms()[1]"
   ]
  },
  {
   "cell_type": "markdown",
   "id": "3c54964d-db7f-4c4d-82f2-6813ddeb2be1",
   "metadata": {},
   "source": [
    "We look for the diagonal factors that will avoid the field $K_1$."
   ]
  },
  {
   "cell_type": "code",
   "execution_count": 51,
   "id": "0a753177-4e65-402f-bcbe-d45fa86e50fe",
   "metadata": {},
   "outputs": [
    {
     "data": {
      "text/plain": [
       "(37/27*aa2 - 37/27)*u + (aa2 - 1)*v"
      ]
     },
     "execution_count": 51,
     "metadata": {},
     "output_type": "execute_result"
    }
   ],
   "source": [
    "aa2*(u*aa2 + v) - (u*aa2 + v).map_coefficients(h1)"
   ]
  },
  {
   "cell_type": "code",
   "execution_count": 52,
   "id": "944543ca-4f98-4538-88dc-e470b5f6f39e",
   "metadata": {},
   "outputs": [
    {
     "data": {
      "text/plain": [
       "27*aa2 - 37"
      ]
     },
     "execution_count": 52,
     "metadata": {},
     "output_type": "execute_result"
    }
   ],
   "source": [
    "h1(aa2*(27*aa2 - 37))"
   ]
  },
  {
   "cell_type": "code",
   "execution_count": 53,
   "id": "006957d8-6093-40c6-961d-0cfd4607e38a",
   "metadata": {},
   "outputs": [
    {
     "data": {
      "text/plain": [
       "-27*aa2 + 37"
      ]
     },
     "execution_count": 53,
     "metadata": {},
     "output_type": "execute_result"
    }
   ],
   "source": [
    "h1(27*aa2 + 27)"
   ]
  },
  {
   "cell_type": "code",
   "execution_count": 54,
   "id": "93f5651a-82bb-4b39-b0cb-bb13957355be",
   "metadata": {},
   "outputs": [
    {
     "data": {
      "text/plain": [
       "((940447687673657153899540480/353915298730046176590979611*aa2 + 111744910791518455416902309888/9555713065711246767956449497)) * y^3 * x^3 * (x + (-27*aa2 + 37)*y)^8 * (x + (27*aa2 + 27)*y)^8 * (x^2 - 288*x*y + 1728*y^2)"
      ]
     },
     "execution_count": 54,
     "metadata": {},
     "output_type": "execute_result"
    }
   ],
   "source": [
    "f3 = f2(y=y*(27*aa2 - 37))\n",
    "f3.discriminant(z).factor()"
   ]
  },
  {
   "cell_type": "code",
   "execution_count": 55,
   "id": "3fd7e935-de43-4e19-99ba-0198c6ef0ae0",
   "metadata": {},
   "outputs": [
    {
     "data": {
      "text/plain": [
       "((222250204291566883686205114461125360011040018079982682437682473621163868160/84691693590553674074496416886812218599536240797713*aa2 - 928098003467731519459995694611290902533184473619934136870580095498286268416/2286675726944949200011403255943929902187478501538251)) * z^4 * (x^2 + (-17/132*aa2 - 9/44)*z) * (x^2 + (17/11*aa2 + 27/11)*z) * (x^2 + (2*aa2)*z)^8 * (x^2 + (-20/27*aa2 + 2)*z)^8"
      ]
     },
     "execution_count": 55,
     "metadata": {},
     "output_type": "execute_result"
    }
   ],
   "source": [
    "f3.discriminant(y).factor()"
   ]
  },
  {
   "cell_type": "code",
   "execution_count": 56,
   "id": "caccd552-76af-41ab-a4aa-7dee48b2f23a",
   "metadata": {},
   "outputs": [
    {
     "data": {
      "text/plain": [
       "(899/729*aa2 - 33263/19683)*u + (17/27*aa2 - 629/729)*v"
      ]
     },
     "execution_count": 56,
     "metadata": {},
     "output_type": "execute_result"
    }
   ],
   "source": [
    "aa2*(u*aa2 + v) - ((1-10/27*aa2)*(u*aa2 + v)).map_coefficients(h1)"
   ]
  },
  {
   "cell_type": "code",
   "execution_count": 57,
   "id": "b096233b-75a9-4bdb-9ace-90f4201796a3",
   "metadata": {},
   "outputs": [
    {
     "data": {
      "text/plain": [
       "0"
      ]
     },
     "execution_count": 57,
     "metadata": {},
     "output_type": "execute_result"
    }
   ],
   "source": [
    "aa2*(27 * 17 * aa2 - 899) - h1((27 * 17 * aa2 - 899)*(1-10/27*aa2))"
   ]
  },
  {
   "cell_type": "code",
   "execution_count": 58,
   "id": "ec410ee9-610e-49da-97f1-d4fcfa09713f",
   "metadata": {},
   "outputs": [
    {
     "data": {
      "text/plain": [
       "-64/6366131739*x^5*y^3 - 592/707347971*x^4*y^4 - 4096/235782657*x^3*y^5 - 2/7144929*x^4*y^2*z + 128/264627*x^2*y^4*z + 1/5174928*x^4*z^2 - 16/2910897*x^3*y*z^2 - 784/970299*x^2*y^2*z^2 - 1024/107811*x*y^3*z^2 + 768/1331*y^4*z^2 - 5/5346*x^2*z^3 + 160/99*y^2*z^3 + z^4"
      ]
     },
     "execution_count": 58,
     "metadata": {},
     "output_type": "execute_result"
    }
   ],
   "source": [
    "f4 = f3(z=z*(27 * 17 * aa2 - 899))\n",
    "f4 = f4/f4.monomial_coefficient(z^4)\n",
    "f4"
   ]
  },
  {
   "cell_type": "markdown",
   "id": "9e92deef-2492-4958-ab09-0f4ef629cece",
   "metadata": {},
   "source": [
    "The coefficients are two complicated, let us try to simplify them."
   ]
  },
  {
   "cell_type": "code",
   "execution_count": 59,
   "id": "0b5d3018-c017-4a88-8644-4440ec0414b0",
   "metadata": {},
   "outputs": [
    {
     "data": {
      "text/plain": [
       "-352/3*x^5*y^3 - 407*x^4*y^4 - 352*x^3*y^5 - 22*x^4*y^2*z + 66*x^2*y^4*z + 27/11*x^4*z^2 - 32/11*x^3*y*z^2 - 196/11*x^2*y^2*z^2 - 96/11*x*y^3*z^2 + 243/11*y^4*z^2 - 10/3*x^2*z^3 + 10*y^2*z^3 + z^4"
      ]
     },
     "execution_count": 59,
     "metadata": {},
     "output_type": "execute_result"
    }
   ],
   "source": [
    "f5 = f4(x=2*x, y=y/4/3, z=z/81/11)\n",
    "f5 = f5/f5.monomial_coefficient(z^4)\n",
    "f5"
   ]
  },
  {
   "cell_type": "code",
   "execution_count": 60,
   "id": "7b0c267b-a252-41fa-b0d7-27214a039bdb",
   "metadata": {},
   "outputs": [
    {
     "data": {
      "text/plain": [
       "-352/3*x^5*y^3 - 407*x^4*y^4 - 352*x^3*y^5 - 22*x^4*y^2*z + 66*x^2*y^4*z + 27/11*x^4*z^2 - 32/11*x^3*y*z^2 - 196/11*x^2*y^2*z^2 - 96/11*x*y^3*z^2 + 243/11*y^4*z^2 - 10/3*x^2*z^3 + 10*y^2*z^3 + z^4"
      ]
     },
     "execution_count": 60,
     "metadata": {},
     "output_type": "execute_result"
    }
   ],
   "source": [
    "f5"
   ]
  },
  {
   "cell_type": "code",
   "execution_count": 61,
   "id": "f59e6e1a-8697-4425-8f32-49d8c3521ac5",
   "metadata": {},
   "outputs": [
    {
     "data": {
      "text/plain": [
       "-11/3*x^5*y^3 - 407/16*x^4*y^4 - 44*x^3*y^5 - 11/8*x^4*y^2*z + 33/2*x^2*y^4*z + 27/176*x^4*z^2 - 4/11*x^3*y*z^2 - 49/11*x^2*y^2*z^2 - 48/11*x*y^3*z^2 + 243/11*y^4*z^2 - 5/6*x^2*z^3 + 10*y^2*z^3 + z^4"
      ]
     },
     "execution_count": 61,
     "metadata": {},
     "output_type": "execute_result"
    }
   ],
   "source": [
    "f6 = f5(x=x / 2)\n",
    "f6"
   ]
  },
  {
   "cell_type": "code",
   "execution_count": 62,
   "id": "92e28223-d4f2-4227-8a53-e755430651d7",
   "metadata": {},
   "outputs": [],
   "source": [
    "save(f6.change_ring(QQ), 'files2/octica-sim2-rational')"
   ]
  },
  {
   "cell_type": "code",
   "execution_count": null,
   "id": "4ba1c705-8fc1-4ae4-a7ec-82373d0cd9ac",
   "metadata": {},
   "outputs": [],
   "source": []
  }
 ],
 "metadata": {
  "kernelspec": {
   "display_name": "SageMath 10.3.beta0",
   "language": "sage",
   "name": "sagemath-310"
  },
  "language_info": {
   "codemirror_mode": {
    "name": "ipython",
    "version": 3
   },
   "file_extension": ".py",
   "mimetype": "text/x-python",
   "name": "python",
   "nbconvert_exporter": "python",
   "pygments_lexer": "ipython3",
   "version": "3.11.1"
  }
 },
 "nbformat": 4,
 "nbformat_minor": 5
}
