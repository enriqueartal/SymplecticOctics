{
 "cells": [
  {
   "cell_type": "markdown",
   "id": "b9cdf96a-449e-4c7e-b832-8b1325a79618",
   "metadata": {},
   "source": [
    "In this notebook we prove Theorem 7.2; the goal is to compute all the plane projective curves $C_8$ in $\\mathbb{P}^2$  (over $\\mathbb{C}$) with the following properties:\n",
    "- The singular locus of $C_8$ is composed by six singular points of type $\\mathbb{E}_6$ \n",
    "- There is a projective automorphism $\\Phi_3$ of order $3$ such that $\\Phi_3(C)=C$.\n",
    "\n",
    "It is not hard to see that $\\Phi_3$ has only isolated fixed points and two of them are in $C_8$. Let us consider the image $D_8$ of $C_8$ in $\\mathbb{P}^2/\\Phi_3$ by the quotient $\\pi$. This orbifold has three singular points, two of them in $D_8$. In the paper we construct a Cremona transformation, such that it is equivalent to look for a curve $D$ in $\\mathbb{P}^2$, up to projective isomorphism, having three irreducible components $C$ (of degree $8$) and $L_1,L_2$ (lines) with the following properties:\n",
    "\n",
    "- $C$ has two singularities $P_1,P_2$ of type $\\mathbb{E}_6$.\n",
    "- $C$ has two singularities $P_3,P_4$, with three smooth tangent branches $A_1,A_2,A_3$, where $A_1\\cdot A_2=3$ and $A_1\\cdot A_3=A_2\\cdot A_3=2$.\n",
    "- The lines $L_1, L_2$ are tangent to $C$ at $P_3,P_4$ having intersection number three with the two branches.\n",
    "\n",
    "With these conditions we can choose coordinates such that $P_3=[1:0:0]$ (with $L_1:y=0$) and $P_4=[0:1:0]$ (with $L_2:x=0$). The rational map $\\pi\\circ\\Phi_3:\\mathbb{P}^2\\dashrightarrow\\mathbb{P}^2$ has coordinates $[x:y:z]\\mapsto[x^3:y^3:xyz]$.\n",
    "\n",
    "We define the following rings in `Sagemath`:\n",
    "- `R0`, ring in $45$ variables (the number of monomials of degree $8$).\n",
    "- `R1,R2`, rings of polynomials with coefficients in `R0`, in two and three variables.\n",
    "\n",
    "We consider a *generic* polynomial $f$ for the equation of $C$. Since $C$ cannot pass through $[0:0:1]$, the coefficient of $z^8$ does not vanish and it can be assumed to be $1$.\n",
    "\n",
    "**Note.** Some of the verifications can be *expensive*. Changing the variable ``verif`` to ``True``, it performs it. It can be changed independently at various places."
   ]
  },
  {
   "cell_type": "code",
   "execution_count": 1,
   "id": "58b95776-b1a9-4f82-abac-61aa23973a75",
   "metadata": {
    "tags": []
   },
   "outputs": [
    {
     "name": "stdout",
     "output_type": "stream",
     "text": [
      "The coefficient of z^8 is a0\n"
     ]
    }
   ],
   "source": [
    "verif = False\n",
    "R0 = PolynomialRing(QQ, 'a', 45)\n",
    "R0.inject_variables(verbose=False)\n",
    "R1.<x, y, z> = R0[]\n",
    "R2.<u, v> = R0[]\n",
    "f = vector(R0.gens()) * vector(x^i * y^j * z^(8 - i - j) for i in (0 .. 8) for j in (0 .. 8 - i))\n",
    "print(\"The coefficient of z^8 is\", f.monomial_coefficient(z^8))\n",
    "f = f.map_coefficients(lambda _: _.subs(a0=1))"
   ]
  },
  {
   "cell_type": "markdown",
   "id": "b08f8d6e-f521-4443-b51d-eb1e6b58b033",
   "metadata": {},
   "source": [
    "With these conditions the Newton polytopes at $P_3,P_4$ are fixed and conditions can be imposed to eliminate variables."
   ]
  },
  {
   "cell_type": "code",
   "execution_count": 2,
   "id": "c4415d37-47ff-4d4d-9e68-a6c7650fe2a9",
   "metadata": {},
   "outputs": [
    {
     "data": {
      "image/png": "[encoded data removed]",
      "text/plain": [
       "A 2-dimensional polyhedron in ZZ^2 defined as the convex hull of 5 vertices"
      ]
     },
     "execution_count": 2,
     "metadata": {},
     "output_type": "execute_result"
    }
   ],
   "source": [
    "L = [f.monomial_coefficient(x^i * y^j * z^k) for i, j, k in f.exponents() if 3 * i + k < 8 or 3 * j + k < 8]\n",
    "f = f.map_coefficients(lambda _: _.reduce(L))\n",
    "f(x=1, y=u, z=v).newton_polytope()"
   ]
  },
  {
   "cell_type": "markdown",
   "id": "f372789e-598c-4f3b-a369-5170674dd2b5",
   "metadata": {},
   "source": [
    "The original ring `R0` had two many variables. We simplify it and we construct also a new ring `R3` in one variable"
   ]
  },
  {
   "cell_type": "code",
   "execution_count": 3,
   "id": "68b90764-518c-4ca1-ab54-f3394d8a120f",
   "metadata": {},
   "outputs": [],
   "source": [
    "vrs = list(Set(flatten([_.variables() for _ in f.coefficients()]))) + [a39, a40]\n",
    "vrs.sort()\n",
    "R0 = PolynomialRing(QQ, vrs)\n",
    "R0.inject_variables(verbose=False)\n",
    "R1.<x, y, z> = R0[]\n",
    "R2.<u, v> = R0[]\n",
    "R3.<t> = R0[]\n",
    "f = R1(f)"
   ]
  },
  {
   "cell_type": "markdown",
   "id": "8cf5726c-4644-443d-8e67-cfc3a3f0e1df",
   "metadata": {},
   "source": [
    "We put the two $\\mathbb{E}_6$ points at $[1:1:1]$ and $[a_{39}:1:a_{40}]$. We impose a point of multiplicity three with an irreducible reduced tangent cone.\n",
    "With these conditions the projective automorphisms sending such a curve to another one with the same properties are the identity and $[x:y:z]\\mapsto[y:x:z]$."
   ]
  },
  {
   "cell_type": "code",
   "execution_count": 4,
   "id": "566cf629-701e-48f4-9ae4-bb7ae43aeb93",
   "metadata": {},
   "outputs": [
    {
     "data": {
      "text/plain": [
       "18"
      ]
     },
     "execution_count": 4,
     "metadata": {},
     "output_type": "execute_result"
    }
   ],
   "source": [
    "f1 = f(x=u + 1, y=1, z=v + 1)\n",
    "L = [f1.monomial_coefficient(u^i * v^j) for i, j in f1.exponents() if i + j < 3]\n",
    "cs = [f1.monomial_coefficient(u^i * v^(3 - i)) for i in (0 .. 3)]\n",
    "L += [9 * cs[0] * cs[3] - cs[1] * cs[2], 3 * cs[0] * cs[2] - cs[1]^2, 3 * cs[1] * cs[3] - cs[2]^2]\n",
    "f2 = f(x=u + a39, y=1, z=v + a40)\n",
    "L += [f2.monomial_coefficient(u^i * v^j) for i, j in f2.exponents() if i + j < 3]\n",
    "cs = [f2.monomial_coefficient(u^i * v^(3 - i)) for i in (0 .. 3)]\n",
    "L += [9 * cs[0] * cs[3] - cs[1] * cs[2], 3 * cs[0] * cs[2] - cs[1]^2, 3 * cs[1] * cs[3] - cs[2]^2]\n",
    "len(L)"
   ]
  },
  {
   "cell_type": "markdown",
   "id": "cf2e72e1-3efe-45cf-9621-4aef3f6c70c1",
   "metadata": {},
   "source": [
    "We obtain $18$ conditions. Unfortunately, solving them directly is impossible and we have to take a longer way. We load some functions to make the following process. We are going to construct a *tree* ``Ls`` of lists of lists of polynomials. The root of this tree is `[L]`. There is a choice of a variable in one polynomial in the last list to produce resultants eliminating the equation and the variable. For each choice of factor in each resultant we produce a new list\n",
    "to be added, generating the next step of the tree."
   ]
  },
  {
   "cell_type": "code",
   "execution_count": 5,
   "id": "e9be2dd6-0b13-4d94-a546-778e7dc031fb",
   "metadata": {},
   "outputs": [],
   "source": [
    "load('functions/functions.sage')"
   ]
  },
  {
   "cell_type": "markdown",
   "id": "2d820a63-a8ea-4b24-a6e0-f277161af15a",
   "metadata": {
    "tags": []
   },
   "source": [
    "We start the process. We define a list `Ls`, whose only element is the list `L` of conditions.\n",
    "There was a previous process of reduction that had some choices. In order to guarantee a process that was successful, we fix the equations to reduce and also the variables to eliminate. "
   ]
  },
  {
   "cell_type": "code",
   "execution_count": 6,
   "id": "5aa73703-a60d-4065-b070-0de2cbb1d2d0",
   "metadata": {},
   "outputs": [
    {
     "name": "stdout",
     "output_type": "stream",
     "text": [
      "(1, 0, 9, 1)\n",
      "Number of variables:  15\n",
      "Number of equations 17\n",
      "(1, 0, 8, 1)\n",
      "Number of variables:  14\n",
      "Number of equations 16\n",
      "(1, 0, 7, 1)\n",
      "Number of variables:  13\n",
      "Number of equations 15\n",
      "(1, 0, 11, 1)\n",
      "Number of variables:  12\n",
      "Number of equations 14\n",
      "(1, 0, 10, 1)\n",
      "Number of variables:  11\n",
      "Number of equations 13\n",
      "(1, 0, 9, 1)\n",
      "Number of variables:  10\n",
      "Number of equations 12\n",
      "(1, 4, 31, 2)\n",
      "Number of variables:  9\n",
      "Number of equations 11\n",
      "4 0 a39\n",
      "4 1 number of terms:  92\n",
      "5 0 a39\n",
      "5 1 number of terms:  140\n",
      "6 0 a39 - 1\n",
      "6 1 a39\n",
      "6 2 number of terms:  61\n",
      "7 0 a39 - 1\n",
      "7 1 a39\n",
      "7 2 number of terms:  110\n",
      "8 0 a39\n",
      "8 1 number of terms:  1597\n",
      "9 0 a39\n",
      "9 1 number of terms:  1129\n"
     ]
    }
   ],
   "source": [
    "Ls = [L]\n",
    "for i, vr in [(2, a21), (3, a18), (1, a28), (0, a29), (0, a33), (0, a32), (5, a38)]:\n",
    "    Ls, L1, Lf = reducir_paso(Ls, i, vr)"
   ]
  },
  {
   "cell_type": "markdown",
   "id": "40d4294f-fd76-4cfe-b661-8897c374ce56",
   "metadata": {},
   "source": [
    "Till now the tree was lineal. Actually the *short* factors $a_{39}, a_{39}-1$ correspond to degenerated solutions, and the tree continues to be linear."
   ]
  },
  {
   "cell_type": "code",
   "execution_count": 7,
   "id": "5c858cda-c57f-4cc5-8889-228a4625ed29",
   "metadata": {},
   "outputs": [],
   "source": [
    "Ls[-1] = [_[-1] for _ in Lf]"
   ]
  },
  {
   "cell_type": "code",
   "execution_count": 8,
   "id": "449c8d47-1b85-4da9-85b8-11e35829b5dc",
   "metadata": {},
   "outputs": [
    {
     "name": "stdout",
     "output_type": "stream",
     "text": [
      "(1, 7, 52, 9)\n",
      "Number of variables:  8\n",
      "Number of equations 10\n",
      "(1, 11, 131, 24)\n",
      "Number of variables:  7\n",
      "Number of equations 9\n",
      "(1, 15, 243, 48)\n",
      "Number of variables:  6\n",
      "Number of equations 8\n",
      "(1, 18, 301, 71)\n",
      "Number of variables:  5\n",
      "Number of equations 7\n",
      "0 0 a40 - 1\n",
      "0 1 number of terms:  3107\n",
      "2 0 a40 - 1\n",
      "2 1 number of terms:  3064\n",
      "3 0 a40 - 1\n",
      "3 1 -a40^2 + a39\n",
      "3 2 number of terms:  251\n",
      "4 0 a40 - 1\n",
      "4 1 number of terms:  3357\n",
      "6 0 a40 - 1\n",
      "6 1 number of terms:  3368\n"
     ]
    }
   ],
   "source": [
    "for i, vr in [(6, a26), (4, a11), (5, a19), (4, a34)]:\n",
    "    Ls, L1, Lf = reducir_paso(Ls, i, vr)"
   ]
  },
  {
   "cell_type": "markdown",
   "id": "a897e110-9800-40d0-a1c7-a73d32e68abc",
   "metadata": {},
   "source": [
    "The factors $a_{40}-1, a_{40}^2-a_{39}$ correspond also to degenerate solutions."
   ]
  },
  {
   "cell_type": "code",
   "execution_count": 9,
   "id": "cc82ee3e-3190-4045-941f-5bce76b58f15",
   "metadata": {},
   "outputs": [],
   "source": [
    "Ls[-1] = [_[-1] for _ in Lf]"
   ]
  },
  {
   "cell_type": "code",
   "execution_count": 10,
   "id": "6fe70720-864e-4f28-8d13-267061dfbec8",
   "metadata": {},
   "outputs": [
    {
     "name": "stdout",
     "output_type": "stream",
     "text": [
      "(1, 16, 199, 52)\n",
      "Number of variables:  4\n",
      "Number of equations 6\n",
      "2 0 a40\n",
      "2 1 number of terms:  918\n",
      "3 0 a40\n",
      "3 1 number of terms:  1039\n",
      "5 0 a40\n",
      "5 1 number of terms:  918\n"
     ]
    }
   ],
   "source": [
    "Ls,L1,Lf = reducir_paso(Ls, 3, a20)"
   ]
  },
  {
   "cell_type": "markdown",
   "id": "a2530411-acf1-497b-a7d8-5fdc1334ff60",
   "metadata": {},
   "source": [
    "The same happens for $a_{40}$."
   ]
  },
  {
   "cell_type": "code",
   "execution_count": 11,
   "id": "b99d5906-26b7-4490-a554-3ed5db905add",
   "metadata": {},
   "outputs": [],
   "source": [
    "Ls[-1] = [_[-1] for _ in Lf]"
   ]
  },
  {
   "cell_type": "code",
   "execution_count": 12,
   "id": "5c08e192-dc20-4e99-a0f2-e8b57bcd20eb",
   "metadata": {},
   "outputs": [
    {
     "name": "stdout",
     "output_type": "stream",
     "text": [
      "(2, 24, 823, 95)\n",
      "Number of variables:  3\n",
      "Number of equations 5\n",
      "0 0 number of terms:  65\n",
      "0 1 number of terms:  514\n",
      "1 0 number of terms:  110\n",
      "1 1 number of terms:  514\n"
     ]
    }
   ],
   "source": [
    "Ls,L1,Lf = reducir_paso(Ls, 2, a27)"
   ]
  },
  {
   "cell_type": "code",
   "execution_count": 13,
   "id": "5c17b086-cd10-4a04-95b6-65b7dc19c570",
   "metadata": {},
   "outputs": [
    {
     "data": {
      "text/plain": [
       "[2, 2, 1, 1, 1]"
      ]
     },
     "execution_count": 13,
     "metadata": {},
     "output_type": "execute_result"
    }
   ],
   "source": [
    "[len(_) for _ in Lf]"
   ]
  },
  {
   "cell_type": "markdown",
   "id": "95943df0-5afd-42ff-ba1a-14c5eea93793",
   "metadata": {},
   "source": [
    "Since two of the equations have two factors, the tree continues with four new vertices. We treat them one by one. The last one has the longest factors."
   ]
  },
  {
   "cell_type": "code",
   "execution_count": 14,
   "id": "e1a36537-4427-4c23-91e7-7485cebdeb2f",
   "metadata": {},
   "outputs": [],
   "source": [
    "Ls0, Ls1, Ls2, Ls3 = nuevos(Ls, Lf)"
   ]
  },
  {
   "cell_type": "markdown",
   "id": "6e87578a-a5e9-48a8-a193-87a9b9f8cbc6",
   "metadata": {},
   "source": [
    "We consider the case `Ls3`. We end with four equations in two variables that we study separately. There is no solution and some of the computations may take a while.\n",
    "\n",
    "We eliminate the variable $a_{39}$ and we have a list of $8$ possible cases for $a_{40}$."
   ]
  },
  {
   "cell_type": "code",
   "execution_count": 15,
   "id": "ffe4b827-9bbc-4fc1-98f3-7c6c5b7f06ed",
   "metadata": {},
   "outputs": [
    {
     "name": "stdout",
     "output_type": "stream",
     "text": [
      "(1, 12, 36, 29)\n",
      "Number of variables:  2\n",
      "Number of equations 4\n",
      "0 0 number of terms:  4\n",
      "0 1 number of terms:  8\n",
      "0 2 number of terms:  12\n",
      "1 0 number of terms:  165\n",
      "1 1 number of terms:  376\n",
      "2 0 number of terms:  184\n",
      "2 1 number of terms:  404\n",
      "3 0 number of terms:  146\n",
      "3 1 number of terms:  349\n",
      "a40\n",
      "a40 - 4\n",
      "a40 - 1\n",
      "a40 + 2\n",
      "a40 + 5\n",
      "16*a40 - 1\n",
      "a40^2 + 14*a40 - 3\n",
      "17*a40^2 + 20*a40 - 1\n"
     ]
    }
   ],
   "source": [
    "Ls3, L1, Lf = reducir_paso(Ls3, 0, a10)\n",
    "fcts = []\n",
    "for u in cartesian_product(Lf):\n",
    "    CT1 = rslt([(u[0], v, a39) for v in u[1:]])\n",
    "    T1 = [b[1] for b in CT1]\n",
    "    u = gcd(T1).factor()\n",
    "    fcts += [_[0] for _ in u]\n",
    "fcts = list(Set(fcts))\n",
    "fcts.sort()\n",
    "for p in fcts:\n",
    "    print(p)"
   ]
  },
  {
   "attachments": {},
   "cell_type": "markdown",
   "id": "e15a6241-4a3c-4500-a2f6-a2761e63130d",
   "metadata": {},
   "source": [
    "We discard first the values of $a_{40}$ in $\\mathbb{Q}$. We know already that $0,1$ have degenerate solutions. Let us check $\\frac{1}{6},4,-2,-5$. We evaluate $a_{40}$ in the previous set of equations, getting polynomials in $a_{39}$ and compute their `gcd`; as it is $1$, there is no solution."
   ]
  },
  {
   "cell_type": "code",
   "execution_count": 16,
   "id": "1589f4e6-ac7e-45df-90b2-6011c1841035",
   "metadata": {},
   "outputs": [
    {
     "name": "stdout",
     "output_type": "stream",
     "text": [
      "1\n",
      "1\n",
      "1\n",
      "1\n"
     ]
    }
   ],
   "source": [
    "for u in [1 / 16, 4, -2, -5]:\n",
    "    print(gcd([_(a40=u) for _ in Ls3[-2]]).factor())"
   ]
  },
  {
   "cell_type": "markdown",
   "id": "5577ac21-203f-4641-9620-b4a6a419057d",
   "metadata": {},
   "source": [
    "For the positions $5, 6$, the value of $a_{40}$ lives in a number field. We change thechnically the approach."
   ]
  },
  {
   "cell_type": "code",
   "execution_count": 17,
   "id": "99dd163f-83df-4188-8199-195f6ebd52d8",
   "metadata": {},
   "outputs": [
    {
     "name": "stdout",
     "output_type": "stream",
     "text": [
      "For the case s^2 + 14*s - 3 the gcd is 1\n",
      "For the case 17*s^2 + 20*s - 1 the gcd is 1\n"
     ]
    }
   ],
   "source": [
    "for u in [6, 7]:\n",
    "    R0.inject_variables(verbose=False)\n",
    "    Rs.<s> = QQ[]\n",
    "    p1 = fcts[u](a40=s)\n",
    "    K1.<aa40> = NumberField(p1)\n",
    "    RK1 = R1.change_ring(K1)\n",
    "    RK0 = R0.change_ring(K1)\n",
    "    RK2 = R2.change_ring(K1)\n",
    "    RK10 = R1.change_ring(RK0)\n",
    "    RK0.inject_variables(verbose=False)\n",
    "    Rs1.<s1> = K1[]\n",
    "    gc = gcd([_(a40=aa40) for _ in Ls3[-2]]).factor()\n",
    "    print(\"For the case\", p1, \"the gcd is\", gc)\n",
    "R0.inject_variables(verbose=False)"
   ]
  },
  {
   "cell_type": "markdown",
   "id": "9f208c30-9373-4ba4-a416-6b211ffeb506",
   "metadata": {},
   "source": [
    "We discard the solutions for `Ls2` and `Ls1` in the following cells."
   ]
  },
  {
   "cell_type": "code",
   "execution_count": 18,
   "id": "05502669-d76d-4b44-a5d0-88a06b0a76a9",
   "metadata": {},
   "outputs": [
    {
     "name": "stdout",
     "output_type": "stream",
     "text": [
      "(1, 12, 36, 29)\n",
      "Number of variables:  2\n",
      "Number of equations 4\n",
      "0 0 number of terms:  4\n",
      "0 1 number of terms:  8\n",
      "0 2 number of terms:  49\n",
      "1 0 number of terms:  165\n",
      "1 1 number of terms:  376\n",
      "2 0 number of terms:  184\n",
      "2 1 number of terms:  404\n",
      "3 0 number of terms:  146\n",
      "3 1 number of terms:  349\n",
      "a40\n",
      "a40 - 4\n",
      "a40 - 1\n",
      "a40 + 2\n",
      "a40 + 5\n",
      "16*a40 - 1\n",
      "a40^2 + 14*a40 - 3\n",
      "17*a40^2 + 20*a40 - 1\n"
     ]
    }
   ],
   "source": [
    "Ls2, L1, Lf = reducir_paso(Ls2, 0, a10)    \n",
    "fcts = []\n",
    "for u in cartesian_product(Lf):\n",
    "    CT1 = rslt([(u[0], v, a39) for v in u[1:]])\n",
    "    T1 = [b[1] for b in CT1]\n",
    "    u = gcd(T1).factor()\n",
    "    fcts += [_[0] for _ in u]\n",
    "fcts = list(Set(fcts))\n",
    "fcts.sort()\n",
    "for p in fcts:\n",
    "    print(p)"
   ]
  },
  {
   "cell_type": "code",
   "execution_count": 19,
   "id": "3d715721-e7f0-4a66-9509-c362829b58b9",
   "metadata": {},
   "outputs": [
    {
     "name": "stdout",
     "output_type": "stream",
     "text": [
      "1\n",
      "1\n",
      "1\n",
      "1\n"
     ]
    }
   ],
   "source": [
    "for u in [1 / 16, 4, -2, -5]:\n",
    "    print(gcd([_(a40=u) for _ in Ls2[-2]]).factor())"
   ]
  },
  {
   "cell_type": "code",
   "execution_count": 20,
   "id": "267b131c-2f6f-42ac-abff-c964dcd11b46",
   "metadata": {},
   "outputs": [
    {
     "name": "stdout",
     "output_type": "stream",
     "text": [
      "For the case s^2 + 14*s - 3 the gcd is 1\n",
      "For the case 17*s^2 + 20*s - 1 the gcd is 1\n"
     ]
    }
   ],
   "source": [
    "for u in [6, 7]:\n",
    "    R0.inject_variables(verbose=False)\n",
    "    Rs.<s> = QQ[]\n",
    "    p1 = fcts[u](a40=s)\n",
    "    K1.<aa40> = NumberField(p1)\n",
    "    RK1 = R1.change_ring(K1)\n",
    "    RK0 = R0.change_ring(K1)\n",
    "    RK2 = R2.change_ring(K1)\n",
    "    RK10 = R1.change_ring(RK0)\n",
    "    RK0.inject_variables(verbose=False)\n",
    "    Rs1.<s1> = K1[]\n",
    "    gc = gcd([_(a40=aa40) for _ in Ls3[-2]]).factor()\n",
    "    print(\"For the case\", p1, \"the gcd is\", gc)\n",
    "R0.inject_variables(verbose=False)"
   ]
  },
  {
   "cell_type": "code",
   "execution_count": 21,
   "id": "8943211b-1bb2-41f0-b4fa-bc865c51846b",
   "metadata": {},
   "outputs": [
    {
     "name": "stdout",
     "output_type": "stream",
     "text": [
      "(1, 15, 60, 50)\n",
      "Number of variables:  2\n",
      "Number of equations 4\n",
      "0 0 number of terms:  4\n",
      "0 1 number of terms:  8\n",
      "0 2 number of terms:  25\n",
      "0 3 number of terms:  91\n",
      "1 0 number of terms:  257\n",
      "1 1 number of terms:  533\n",
      "2 0 number of terms:  277\n",
      "2 1 number of terms:  561\n",
      "3 0 number of terms:  237\n",
      "3 1 number of terms:  502\n",
      "a40\n",
      "a40 - 4\n",
      "a40 - 1\n",
      "a40 + 2\n",
      "a40 + 5\n",
      "2*a40 - 5\n",
      "2*a40 + 3\n",
      "16*a40 - 1\n",
      "a40^2 + 14*a40 - 3\n",
      "155*a40^2 - 490*a40 + 11\n",
      "121*a40^4 - 730*a40^3 + 276*a40^2 + 8012*a40 - 2738\n"
     ]
    }
   ],
   "source": [
    "Ls1, L1, Lf = reducir_paso(Ls1, 1, a10)\n",
    "fcts = []\n",
    "for u in cartesian_product(Lf):\n",
    "    CT1 = rslt([(u[0], v, a39) for v in u[1:]])\n",
    "    T1 = [b[1] for b in CT1]\n",
    "    u = gcd(T1).factor()\n",
    "    fcts += [_[0] for _ in u]\n",
    "fcts = list(Set(fcts))\n",
    "fcts.sort()\n",
    "for p in fcts:\n",
    "    print(p)"
   ]
  },
  {
   "cell_type": "code",
   "execution_count": 22,
   "id": "7946b0fa-6e41-4051-b5ff-a76c976e577b",
   "metadata": {},
   "outputs": [
    {
     "name": "stdout",
     "output_type": "stream",
     "text": [
      "1\n",
      "1\n",
      "1\n",
      "1\n",
      "1\n"
     ]
    }
   ],
   "source": [
    "for u in [1 / 16, -2, -5, 5 / 2, -3 / 2]:\n",
    "    print(gcd([_(a40=u) for _ in Ls1[-2]]).factor())"
   ]
  },
  {
   "cell_type": "code",
   "execution_count": 23,
   "id": "a53f2c9d-db33-4d5a-b6ca-0d5ae3dbf03d",
   "metadata": {},
   "outputs": [
    {
     "name": "stdout",
     "output_type": "stream",
     "text": [
      "For the case s^2 + 14*s - 3 the gcd is 1\n",
      "For the case 155*s^2 - 490*s + 11 the gcd is 1\n",
      "For the case 121*s^4 - 730*s^3 + 276*s^2 + 8012*s - 2738 the gcd is 1\n"
     ]
    }
   ],
   "source": [
    "for u in [8, 9, 10]:\n",
    "    R0.inject_variables(verbose=False)\n",
    "    Rs.<s> = QQ[]\n",
    "    p1 = fcts[u](a40=s)\n",
    "    K1.<aa40> = NumberField(p1)\n",
    "    RK1 = R1.change_ring(K1)\n",
    "    RK0 = R0.change_ring(K1)\n",
    "    RK2 = R2.change_ring(K1)\n",
    "    RK10 = R1.change_ring(RK0)\n",
    "    RK0.inject_variables(verbose=False)\n",
    "    Rs1.<s1> = K1[]\n",
    "    gc = gcd([_(a40=aa40) for _ in Ls3[-2]]).factor()\n",
    "    print(\"For the case\", p1, \"the gcd is\", gc)\n",
    "R0.inject_variables(verbose=False)"
   ]
  },
  {
   "cell_type": "markdown",
   "id": "19402188-d042-4fa8-9c6f-39a4ea41a9a4",
   "metadata": {},
   "source": [
    "Let us study the last case."
   ]
  },
  {
   "cell_type": "code",
   "execution_count": 24,
   "id": "03e234ce-4594-48d4-b512-9efab7d38cfb",
   "metadata": {},
   "outputs": [
    {
     "name": "stdout",
     "output_type": "stream",
     "text": [
      "(3, 23, 409, 105)\n",
      "Number of variables:  2\n",
      "Number of equations 3\n",
      "0 0 number of terms:  759\n",
      "0 1 number of terms:  2168\n",
      "1 0 number of terms:  872\n",
      "1 1 number of terms:  2348\n",
      "2 0 number of terms:  655\n",
      "2 1 number of terms:  1986\n"
     ]
    }
   ],
   "source": [
    "Ls, L1, Lf = reducir_paso(Ls0, 0, a10)"
   ]
  },
  {
   "cell_type": "markdown",
   "id": "5633f0b4-72c0-4854-8dc8-580742418c48",
   "metadata": {},
   "source": [
    "Next computation can be heavy. If it has been done it can be skipped by setting ``verif = False``. In my computer it took:\n",
    "```\n",
    "CPU times: user 3.31 s, sys: 179 ms, total: 3.49 s\n",
    "Wall time: 1h 18min 27s\n",
    "```"
   ]
  },
  {
   "cell_type": "code",
   "execution_count": 25,
   "id": "e4c1421c-93ac-460e-ba20-90fe04db46f2",
   "metadata": {},
   "outputs": [
    {
     "name": "stdout",
     "output_type": "stream",
     "text": [
      "The polynomial in position 0 is a40\n",
      "The polynomial in position 1 is a40 - 4\n",
      "The polynomial in position 2 is a40 - 1\n",
      "The polynomial in position 3 is a40 + 2\n",
      "The polynomial in position 4 is a40 + 5\n",
      "The polynomial in position 5 is 2*a40 + 1\n",
      "The polynomial in position 6 is 2*a40 + 3\n",
      "The polynomial in position 7 is 16*a40 - 1\n",
      "The degree of the polynomial in position 8 is 2\n",
      "The degree of the polynomial in position 9 is 8\n",
      "The degree of the polynomial in position 10 is 8\n",
      "The degree of the polynomial in position 11 is 128\n"
     ]
    }
   ],
   "source": [
    "verif = False\n",
    "if verif:\n",
    "    fcts = []\n",
    "    for u in cartesian_product(Lf):\n",
    "        CT1 = rslt([(u[0], v, a39) for v in u[1:]])\n",
    "        T1 = [b[1] for b in CT1]\n",
    "        u = gcd(T1).factor()\n",
    "        fcts += [_[0] for _ in u]\n",
    "    fcts = list(Set(fcts))\n",
    "    fcts.sort()\n",
    "    save(fcts, 'files3/cnd-3')\n",
    "else:\n",
    "    fcts = load('files3/cnd-3.sobj')\n",
    "for j, p in enumerate(fcts):\n",
    "    if p.degree() == 1:\n",
    "        print(\"The polynomial in position\", j, \"is\", p)\n",
    "    else:\n",
    "        print(\"The degree of the polynomial in position\", j, \"is\", p.degree())"
   ]
  },
  {
   "cell_type": "code",
   "execution_count": 26,
   "id": "c3c550ae-17e5-4420-a0c1-5e86c89719a7",
   "metadata": {},
   "outputs": [],
   "source": [
    "save(fcts[-1], 'files3/p128')"
   ]
  },
  {
   "cell_type": "markdown",
   "id": "09bbf425-49d3-405b-a9fa-0001908d298c",
   "metadata": {},
   "source": [
    "We eliminate some candidate of solutions for the cases where $a_{40}$ in $\\mathbb{Q}$ or in the extension of index $2$."
   ]
  },
  {
   "cell_type": "code",
   "execution_count": 27,
   "id": "e35356aa-6c49-4004-bf0a-12941ea74007",
   "metadata": {},
   "outputs": [
    {
     "name": "stdout",
     "output_type": "stream",
     "text": [
      "1\n",
      "1\n",
      "1\n",
      "1\n",
      "1\n",
      "1\n"
     ]
    }
   ],
   "source": [
    "for u in [1 / 16, -2, -5, -1 / 2, -3 / 2, 4]:\n",
    "    print(gcd([_(a40=u) for _ in Ls[-2]]).factor())"
   ]
  },
  {
   "cell_type": "code",
   "execution_count": 28,
   "id": "690794ae-93d4-44fd-8456-42477b7424f7",
   "metadata": {},
   "outputs": [
    {
     "name": "stdout",
     "output_type": "stream",
     "text": [
      "For the case s^2 + 14*s - 3 the gcd is 1\n"
     ]
    }
   ],
   "source": [
    "R0.inject_variables(verbose=False)\n",
    "Rs.<s> = QQ[]\n",
    "p1 = fcts[8](a40=s)\n",
    "K1.<aa40> = NumberField(p1)\n",
    "RK1 = R1.change_ring(K1)\n",
    "RK0 = R0.change_ring(K1)\n",
    "RK2 = R2.change_ring(K1)\n",
    "RK10 = R1.change_ring(RK0)\n",
    "RK0.inject_variables(verbose=False)\n",
    "Rs1.<s1> = K1[]\n",
    "gc = gcd([_(a40=aa40) for _ in Ls3[-2]]).factor()\n",
    "print(\"For the case\", p1, \"the gcd is\", gc)"
   ]
  },
  {
   "cell_type": "markdown",
   "id": "14188edc-5b89-478d-b130-f7c0b9ce19ff",
   "metadata": {},
   "source": [
    "For the extension of index $128$, the  computations are long (more than $12$ hours in a server) and consume a lot of RAM memory (more 400Gb). This the code used to check that it gives no solution:\n",
    "```\n",
    "R0 = PolynomialRing(QQ, 'a', 45)\n",
    "R0.inject_variables(verbose=False)\n",
    "R1.<x, y, z> = R0[]\n",
    "f = vector(R0.gens()) * vector(x^i * y^j * z^(8 - i - j) for i in (0 .. 8) for j in (0 .. 8 - i))\n",
    "f = f.map_coefficients(lambda _: _.subs(a0=1))\n",
    "L = [f.monomial_coefficient(x^i * y^j * z^k) for i, j, k in f.exponents() if 3 * i + k < 8 or 3 * j + k < 8]\n",
    "f = f.map_coefficients(lambda _: _.reduce(L)\n",
    "vrs = tuple(Set(flatten([_.variables() for _ in f.coefficients()]))) + (a39, a40)R0 = PolynomialRing(QQ, vrs)\n",
    "R0 = PolynomialRing(QQ, vrs)\n",
    "R0.inject_variables(verbose=False)\n",
    "Rs.<s> = QQ[]\n",
    "p3 = p128(a40=s)\n",
    "K3.<aa40> = NumberField(p3)\n",
    "Ls = load('Ls.sobj')\n",
    "RK0 = R0.change_ring(K3)\n",
    "Ls = [[RK0(g) for g in L] for L in Ls]\n",
    "L = Ls[-1]\n",
    "qq = [_[0] for _ in gcd([_.subs({a40: aa40}) for _ in L]).factor()]\n",
    "print(qq)\n",
    "```\n",
    "We study the two remaining cases where the index of the field is $8$. This computation takes several minutes. You can avoid it if ``verif=True``"
   ]
  },
  {
   "cell_type": "code",
   "execution_count": 29,
   "id": "c928da70-5ad7-4d8e-abde-982259e3bdf4",
   "metadata": {},
   "outputs": [],
   "source": [
    "Rs.<s> = QQ[]\n",
    "p1 = fcts[9](a40=s)\n",
    "K1.<aa40> = NumberField(p1)\n",
    "RK0 = R0.change_ring(K1)\n",
    "RK0.inject_variables(verbose=False)\n",
    "verif = False\n",
    "if verif:\n",
    "    Lsa = [[RK0(p) for p in L] for L in Ls]\n",
    "    sb1 = {a40: aa40}\n",
    "    j = -1\n",
    "    for vr in (a39, a10, a27, a20, a34, a19, a11, a26, a38, a32, a33, a29, a28, a18, a21):\n",
    "        qq = [_[0] for _ in gcd([_.subs(sb1) for _ in Lsa[j]]).factor()]\n",
    "        if qq == []:\n",
    "            print(\"No solution\")\n",
    "            break\n",
    "        else:\n",
    "            sb1[vr] = K1(vr.reduce(qq))\n",
    "            j += -1\n",
    "    save([RK0, sb1], 'file3/sb1')\n",
    "else:\n",
    "    RK0a, sb1a = load('files3/sb1.sobj')\n",
    "    K1a = RK0a.base_ring()\n",
    "    k1a = K1a.embeddings(K1)[0]\n",
    "    sb1 = {RK0(vr): k1a(sb1a[vr]) for vr in RK0a.gens()}"
   ]
  },
  {
   "cell_type": "code",
   "execution_count": 30,
   "id": "6be1cc4a-e352-44de-9be5-291228252269",
   "metadata": {},
   "outputs": [],
   "source": [
    "cfs = [K1(RK0(_).subs(sb1)) for _ in f.coefficients()]"
   ]
  },
  {
   "cell_type": "code",
   "execution_count": 31,
   "id": "8b18fc5f-a3a9-4037-bec1-bc0a08d97107",
   "metadata": {},
   "outputs": [],
   "source": [
    "RK1.<x, y, z> = K1[]\n",
    "SK1.<u, v> = K1[]\n",
    "f1 = vector(cfs) * vector([x^i * y^j * z^k for i, j, k in f.exponents()])"
   ]
  },
  {
   "cell_type": "markdown",
   "id": "171bbe02-1dba-4984-9135-862466ac5853",
   "metadata": {},
   "source": [
    "We have obtained a first solution. Let us check the singularities. For $P_3,P_4$ we see the right Newton polygon:"
   ]
  },
  {
   "cell_type": "code",
   "execution_count": 32,
   "id": "f76d4d4c-45dd-44bd-8c5b-cf4a8fc07566",
   "metadata": {},
   "outputs": [
    {
     "data": {
      "image/png": "[encoded data removed]",
      "text/plain": [
       "A 2-dimensional polyhedron in ZZ^2 defined as the convex hull of 5 vertices"
      ]
     },
     "execution_count": 32,
     "metadata": {},
     "output_type": "execute_result"
    }
   ],
   "source": [
    "f1(x=1, y=u, z=v).newton_polytope()"
   ]
  },
  {
   "cell_type": "code",
   "execution_count": 33,
   "id": "edd3db51-6aeb-4a78-ac49-71821ccc7f88",
   "metadata": {},
   "outputs": [
    {
     "data": {
      "image/png": "[encoded data removed]",
      "text/plain": [
       "A 2-dimensional polyhedron in ZZ^2 defined as the convex hull of 5 vertices"
      ]
     },
     "execution_count": 33,
     "metadata": {},
     "output_type": "execute_result"
    }
   ],
   "source": [
    "f1(x=u, y=1, z=v).newton_polytope()"
   ]
  },
  {
   "cell_type": "markdown",
   "id": "9f0c79c0-e880-4dac-98a3-b3e4dbfb0b3d",
   "metadata": {},
   "source": [
    "For $P_1=[1:1:1]$, we compute first the tangent cone. The following code shows that it is a perfect square"
   ]
  },
  {
   "cell_type": "code",
   "execution_count": 34,
   "id": "a913b6ab-ec77-4a76-b99d-a7b0100f892d",
   "metadata": {},
   "outputs": [
    {
     "name": "stdout",
     "output_type": "stream",
     "text": [
      "powers of the factors of the tangent cone: [3]\n"
     ]
    }
   ],
   "source": [
    "f11 = f1(x=1, y=1 + u,  z=1 + v)\n",
    "f11tc = sum(a * b for a, b in f11 if b.degree() <= 3)\n",
    "f11tcfactors= f11tc.factor()\n",
    "print(\"powers of the factors of the tangent cone:\", [a[1] for a in f11tcfactors])\n",
    "u11 = u.reduce([a[0] for a in f11tcfactors]).monomial_coefficient(v)"
   ]
  },
  {
   "cell_type": "markdown",
   "id": "4bf29fc0-4245-49a0-a8fd-36729deedbe2",
   "metadata": {},
   "source": [
    "We draw the local newton polygon."
   ]
  },
  {
   "cell_type": "code",
   "execution_count": 35,
   "id": "dc0b515b-2ca4-4bcb-aa12-25fd9a133de3",
   "metadata": {},
   "outputs": [
    {
     "data": {
      "image/png": "[encoded data removed]",
      "text/plain": [
       "A 2-dimensional polyhedron in ZZ^2 defined as the convex hull of 5 vertices"
      ]
     },
     "execution_count": 35,
     "metadata": {},
     "output_type": "execute_result"
    }
   ],
   "source": [
    "f1(x=1, y=1 + u + u11 * v, z=1 + v).newton_polytope()"
   ]
  },
  {
   "cell_type": "markdown",
   "id": "6588eb8f-928f-4ad9-87b1-c5652419c253",
   "metadata": {},
   "source": [
    "We repeat the same procedure for $P_2$."
   ]
  },
  {
   "cell_type": "code",
   "execution_count": 36,
   "id": "0d9c93fd-7a2b-40d3-b9bb-1b112a4123e1",
   "metadata": {},
   "outputs": [
    {
     "name": "stdout",
     "output_type": "stream",
     "text": [
      "powers of the factors of the tangent cone: [3]\n"
     ]
    }
   ],
   "source": [
    "f12 = f1(x=sb1[a39] + u, y=1,  z=sb1[a40] + v)\n",
    "f12tc = sum(a * b for a, b in f12 if b.degree() <= 3)\n",
    "f12tcfactors= f12tc.factor()\n",
    "print(\"powers of the factors of the tangent cone:\", [a[1] for a in f12tcfactors])\n",
    "u12 = u.reduce([a[0] for a in f12tcfactors]).monomial_coefficient(v)"
   ]
  },
  {
   "cell_type": "code",
   "execution_count": 37,
   "id": "a07427a9-5688-43ef-8b25-87e7a2175bd5",
   "metadata": {},
   "outputs": [
    {
     "data": {
      "image/png": "[encoded data removed]",
      "text/plain": [
       "A 2-dimensional polyhedron in ZZ^2 defined as the convex hull of 5 vertices"
      ]
     },
     "execution_count": 37,
     "metadata": {},
     "output_type": "execute_result"
    }
   ],
   "source": [
    "f1(x=sb1[a39] + u + u12 * v, y=1, z=sb1[a40] + v).newton_polytope()"
   ]
  },
  {
   "cell_type": "markdown",
   "id": "2a77a894-6765-4c17-bba7-b7847adf5938",
   "metadata": {},
   "source": [
    "We check the other polynomial of degree $8$ only if needed, since they are projectively equivalent."
   ]
  },
  {
   "cell_type": "code",
   "execution_count": 38,
   "id": "36afaa8d-d265-4330-8f10-6a2905cf63a2",
   "metadata": {},
   "outputs": [],
   "source": [
    "verif= False\n",
    "if verif:\n",
    "    Rs.<s> = QQ[]\n",
    "    p2 = fcts[10](a40=s)\n",
    "    K2.<ab40> = NumberField(p2)\n",
    "    RK0 = R0.change_ring(K2)\n",
    "    RK0.inject_variables(verbose=False)\n",
    "    Lsa = [[RK0(p) for p in L] for L in Ls]\n",
    "    sb2 = {a40: ab40}\n",
    "    j = -1\n",
    "    for vr in (a39, a10, a27, a20, a34, a19, a11, a26, a38, a32, a33, a29, a28, a18, a21):\n",
    "        qq = [_[0] for _ in gcd([_.subs(sb2) for _ in Lsa[j]]).factor()]\n",
    "        if qq == []:\n",
    "            print(\"No solution\")\n",
    "            break\n",
    "        else:\n",
    "            sb2[vr] = K2(vr.reduce(qq))\n",
    "            j += -1\n",
    "    ab39 = sb2[a39]\n",
    "    cfs = [K2(RK0(_).subs(sb2)) for _ in f.coefficients()]\n",
    "    RK2.<x, y, z> = K2[]\n",
    "    SK2.<u, v> = K2[]\n",
    "    f2 = vector(cfs) * vector([x^i * y^j * z^k for i, j, k in f.exponents()])\n",
    "    h = K2.embeddings(K1)[1]\n",
    "    cfs0 = [h(b0) for b0 in cfs]\n",
    "    f0 = vector(cfs0) * vector([RK1(y^i * x^j * z^k) for i, j, k in f2.exponents()])\n",
    "    print(f0 == f1)"
   ]
  },
  {
   "cell_type": "markdown",
   "id": "306aa68e-f2fe-4d56-adc6-8cbe82bd7965",
   "metadata": {},
   "source": [
    "We are going to simplify the presentation of the number field and the presentation of the polynomial.  We apply a transformation to have that $x+y+z=0$ is the line joining the $\\mathbb{E}_6$ points and we check that exchanging $x$ and $y$ has the same effect as conjugating (complex conjugation is the non-trivial automorphism of $K_1$)."
   ]
  },
  {
   "cell_type": "code",
   "execution_count": 39,
   "id": "42ef4d87-5dc4-4653-9c09-ba42c33fdd9a",
   "metadata": {},
   "outputs": [
    {
     "data": {
      "text/plain": [
       "[(1, 3), (1, 3), (2, 1)]"
      ]
     },
     "execution_count": 39,
     "metadata": {},
     "output_type": "execute_result"
    }
   ],
   "source": [
    "rct = vector(3 * [1]).cross_product(vector([sb1[a39], 1, sb1[a40]]))\n",
    "rct = rct / rct[2]\n",
    "RK1.inject_variables(verbose=False)\n",
    "f3 = f1(x=x/rct[0], y=y/rct[1])\n",
    "[(_[0].degree(), _[1]) for _ in f3(z=-(x+y)).factor()]"
   ]
  },
  {
   "cell_type": "code",
   "execution_count": 40,
   "id": "82ecf99d-b3a1-439a-99f4-55c2b39ac40e",
   "metadata": {},
   "outputs": [
    {
     "data": {
      "text/plain": [
       "0"
      ]
     },
     "execution_count": 40,
     "metadata": {},
     "output_type": "execute_result"
    }
   ],
   "source": [
    "f3(x=y, y=x) - f3.map_coefficients(K1.automorphisms()[1])"
   ]
  },
  {
   "cell_type": "code",
   "execution_count": 41,
   "id": "585b65b2-ac92-4b08-878f-eb70d5cc32fd",
   "metadata": {},
   "outputs": [],
   "source": [
    "pp = K1.primes_of_bounded_norm(4)[1].gen(1).minpoly()\n",
    "K2.<b0> = NumberField(pp)\n",
    "h2 = K1.embeddings(K2)[0]\n",
    "RK1a = RK1.change_ring(K2)\n",
    "RK1a.inject_variables(verbose=False)"
   ]
  },
  {
   "cell_type": "code",
   "execution_count": 42,
   "id": "0cdc753e-ca8e-466f-9d78-c16681d0d129",
   "metadata": {},
   "outputs": [],
   "source": [
    "f4 = sum(h2(a) * RK1a(b) for a, b in f3)"
   ]
  },
  {
   "cell_type": "markdown",
   "id": "dbf5aa5d-6a12-4c69-b35a-fe26ba1bda7c",
   "metadata": {},
   "source": [
    "The $3$-cyclotomic field is a subfield of $K_2$; $z_3$ is a primitive cubic root of unity in $K_2$. We try to simplify $f_4$ using diagonal change of variables."
   ]
  },
  {
   "cell_type": "code",
   "execution_count": 43,
   "id": "38bfbdec-f6ac-4297-98d8-0e364b6e70bc",
   "metadata": {},
   "outputs": [],
   "source": [
    "C3 = CyclotomicField(3,'r3')\n",
    "zeta3 = C3.embeddings(K2)[0](C3.gen())"
   ]
  },
  {
   "cell_type": "code",
   "execution_count": 44,
   "id": "ae27b9f1-76ef-4dfd-940f-577d71a9b2a8",
   "metadata": {},
   "outputs": [],
   "source": [
    "k2 = K2.automorphisms()[1]"
   ]
  },
  {
   "cell_type": "code",
   "execution_count": 45,
   "id": "959c8a0d-75ad-463e-b594-8711d33c49ce",
   "metadata": {},
   "outputs": [
    {
     "name": "stdout",
     "output_type": "stream",
     "text": [
      "[x^5*y^3, x^4*y^4, x^3*y^5, x^4*y^3*z, x^3*y^4*z, x^4*y^2*z^2, x^3*y^3*z^2, x^2*y^4*z^2, x^3*y^2*z^3, x^2*y^3*z^3, x^2*y^2*z^4, x^2*y*z^5, x*y^2*z^5, x*y*z^6, z^8]\n"
     ]
    }
   ],
   "source": [
    "print(f4.monomials())"
   ]
  },
  {
   "cell_type": "code",
   "execution_count": 46,
   "id": "847cb12b-bd39-4c05-9df8-cebf50f4b7d2",
   "metadata": {},
   "outputs": [
    {
     "name": "stdout",
     "output_type": "stream",
     "text": [
      "2\n"
     ]
    }
   ],
   "source": [
    "b = f4.monomial_coefficient(x^5 * y^3)\n",
    "bf = b.factor()\n",
    "U = [a[0] for a in bf if a[1] == 10]\n",
    "print(len(U))\n",
    "x0 = (prod(U))^2 / 19\n",
    "y0 = k2(x0)\n",
    "f4a = f4(x=x / x0, y=y / y0)"
   ]
  },
  {
   "cell_type": "code",
   "execution_count": 47,
   "id": "e962625c-278a-4632-872a-89c610b2c371",
   "metadata": {},
   "outputs": [
    {
     "name": "stdout",
     "output_type": "stream",
     "text": [
      "0\n"
     ]
    }
   ],
   "source": [
    "b = f4a.monomial_coefficient(x^3 * y^5)\n",
    "bf = b.factor()\n",
    "U = [a[0] for a in bf if a[1] == 6]\n",
    "print(len(U))\n",
    "f4b = f4a(x=x * 2, y=y * 2)"
   ]
  },
  {
   "cell_type": "code",
   "execution_count": 48,
   "id": "4c897b9a-6853-4db0-88fd-936a30647c91",
   "metadata": {},
   "outputs": [],
   "source": [
    "b = f4b.monomial_coefficient(x^3 * y^3 * z^2)\n",
    "bf = b.factor()\n",
    "U = [a[0] for a in bf if a[1] == 6]\n",
    "x0 = prod(U[1:])\n",
    "y0 = k2(x0)\n",
    "f4c = f4b(x=x / x0, y=y / y0)"
   ]
  },
  {
   "cell_type": "code",
   "execution_count": 49,
   "id": "d5172c92-bd34-4ddc-a18c-b466be1f09af",
   "metadata": {},
   "outputs": [],
   "source": [
    "b = f4c.monomial_coefficient(x^3 * y^3 * z^2)\n",
    "bf = b.factor()\n",
    "U = [a[0] for a in bf if a[1] == 6]\n",
    "x0 = U[0]\n",
    "y0 = k2(x0)\n",
    "f4d = f4c(x=x / x0, y=y / y0)"
   ]
  },
  {
   "cell_type": "markdown",
   "id": "904ebf6a-d348-4a04-9122-3829aeb19cba",
   "metadata": {},
   "source": [
    "The next goal is to construct the curve $C_8$. A change of variables give a smaller field of coefficients."
   ]
  },
  {
   "cell_type": "code",
   "execution_count": 50,
   "id": "78e03d6b-7b32-4818-af61-7974ac8d0ec0",
   "metadata": {},
   "outputs": [
    {
     "data": {
      "text/plain": [
       "{1, 4}"
      ]
     },
     "execution_count": 50,
     "metadata": {},
     "output_type": "execute_result"
    }
   ],
   "source": [
    "F0 = RK1a(f4c(x=x^3, y=y^3, z=x * y * z) / x^8 / y^8)\n",
    "F1 = F0(x=x + zeta3 * y, y=x + zeta3^-1 * y)\n",
    "Set([b.minpoly().degree() for b in F1.coefficients()])"
   ]
  },
  {
   "cell_type": "markdown",
   "id": "399d64a1-5d58-4fd4-bd4a-92f1baf6cea7",
   "metadata": {},
   "source": [
    "We want to find a better presentation for the field of index $4$. "
   ]
  },
  {
   "cell_type": "code",
   "execution_count": 51,
   "id": "8bd896af-311d-490c-b6ab-a144609f2d01",
   "metadata": {},
   "outputs": [
    {
     "data": {
      "text/plain": [
       "x^4 - 2*x^3 + x^2 - 2*x - 2"
      ]
     },
     "execution_count": 51,
     "metadata": {},
     "output_type": "execute_result"
    }
   ],
   "source": [
    "pmin4 = (b0 + k2(b0)).minpoly()\n",
    "K04 = NumberField(pmin4, 'b1')\n",
    "pmin4a = K04.primes_of_bounded_norm(2)[0].gen(1).minpoly()\n",
    "K04.<r4> = NumberField(pmin4a)\n",
    "h04 = K04.embeddings(K2)[0]\n",
    "pmin4a"
   ]
  },
  {
   "cell_type": "code",
   "execution_count": 52,
   "id": "f0b6710d-375d-4b36-b80f-5a3090e6edb3",
   "metadata": {},
   "outputs": [],
   "source": [
    "RK04 = RK1a.change_ring(K04)\n",
    "RK04.inject_variables(verbose=False)\n",
    "F2 = vector([h04.preimage(a) for a in F1.coefficients()]) * vector(RK04(m) for m in F1.monomials())"
   ]
  },
  {
   "cell_type": "code",
   "execution_count": 53,
   "id": "136378df-41bf-4307-b6cb-1300c74fe32f",
   "metadata": {},
   "outputs": [
    {
     "name": "stdout",
     "output_type": "stream",
     "text": [
      "[x^8, x^7*y, x^6*y^2, x^5*y^3, x^4*y^4, x^3*y^5, x^2*y^6, x*y^7, y^8, x^7*z, x^6*y*z, x^5*y^2*z, x^4*y^3*z, x^3*y^4*z, x^2*y^5*z, x*y^6*z, y^7*z, x^6*z^2, x^5*y*z^2, x^4*y^2*z^2, x^3*y^3*z^2, x^2*y^4*z^2, x*y^5*z^2, y^6*z^2, x^5*z^3, x^4*y*z^3, x^3*y^2*z^3, x^2*y^3*z^3, x*y^4*z^3, y^5*z^3, x^4*z^4, x^3*y*z^4, x^2*y^2*z^4, x*y^3*z^4, y^4*z^4, x^3*z^5, x^2*y*z^5, x*y^2*z^5, y^3*z^5, x^2*z^6, x*y*z^6, y^2*z^6, z^8]\n"
     ]
    }
   ],
   "source": [
    "print(F2.monomials())"
   ]
  },
  {
   "cell_type": "code",
   "execution_count": 54,
   "id": "c0b28eb4-01cd-4351-a346-166680ce01bb",
   "metadata": {},
   "outputs": [],
   "source": [
    "F2a = F2(x=19 * x / (-2*r4^3 + 16*r4^2 - 15*r4 - 2), y = 19^4 * y)"
   ]
  },
  {
   "cell_type": "code",
   "execution_count": 55,
   "id": "75972237-5f03-4e12-850f-96ecbfba4e2a",
   "metadata": {},
   "outputs": [
    {
     "name": "stdout",
     "output_type": "stream",
     "text": [
      "Defining x, y, z\n"
     ]
    },
    {
     "data": {
      "text/plain": [
       "0"
      ]
     },
     "execution_count": 55,
     "metadata": {},
     "output_type": "execute_result"
    }
   ],
   "source": [
    "f4d.parent().inject_variables()\n",
    "f4d(y=x, x=y) - f4d.map_coefficients(k2)"
   ]
  },
  {
   "cell_type": "code",
   "execution_count": 56,
   "id": "d2d6ff4d-c6b9-4501-b82b-07480fe392f8",
   "metadata": {},
   "outputs": [
    {
     "data": {
      "text/plain": [
       "\\left[z^{8}, x y z^{6}, x y^{2} z^{5}, x^{2} y z^{5}, x^{2} y^{2} z^{4}, x^{2} y^{3} z^{3}, x^{3} y^{2} z^{3}, x^{2} y^{4} z^{2}, x^{3} y^{3} z^{2}, x^{4} y^{2} z^{2}, x^{3} y^{4} z, x^{4} y^{3} z, x^{3} y^{5}, x^{4} y^{4}, x^{5} y^{3}\\right]"
      ]
     },
     "execution_count": 56,
     "metadata": {},
     "output_type": "execute_result"
    }
   ],
   "source": [
    "latex([bb for bb in reversed(f4d.monomials())])"
   ]
  },
  {
   "cell_type": "code",
   "execution_count": 57,
   "id": "95ec2d48-e989-44a8-aa50-57dad6fbfb73",
   "metadata": {},
   "outputs": [
    {
     "name": "stdout",
     "output_type": "stream",
     "text": [
      "monomial: x^5*y^3\n",
      "invariant coefficient:\n",
      "-16576810/19*r4^3 + 42960270/19*r4^2 - 41464096/19*r4 + 57463236/19\n",
      "anti-invariant coefficient:\n",
      "-22764536/19*r4^3 + 58881432/19*r4^2 - 56893728/19*r4 + 78729744/19\n",
      "------------------------\n",
      "monomial: x^4*y^4\n",
      "invariant coefficient:\n",
      "46098372/19*r4^3 - 115337580/19*r4^2 + 113584192/19*r4 - 153214440/19\n",
      "anti-invariant coefficient:\n",
      "0\n",
      "------------------------\n",
      "monomial: x^3*y^5\n",
      "invariant coefficient:\n",
      "6187726/19*r4^3 - 15921162/19*r4^2 + 15429632/19*r4 - 21266508/19\n",
      "anti-invariant coefficient:\n",
      "22764536/19*r4^3 - 58881432/19*r4^2 + 56893728/19*r4 - 78729744/19\n",
      "------------------------\n",
      "monomial: x^4*y^3*z\n",
      "invariant coefficient:\n",
      "-63549276/361*r4^3 + 172802820/361*r4^2 - 162340896/361*r4 + 233220216/361\n",
      "anti-invariant coefficient:\n",
      "304964784/361*r4^3 - 790701984/361*r4^2 + 762967392/361*r4 - 1057727232/361\n",
      "------------------------\n",
      "monomial: x^3*y^4*z\n",
      "invariant coefficient:\n",
      "-368514060/361*r4^3 + 963504804/361*r4^2 - 925308288/361*r4 + 1290947448/361\n",
      "anti-invariant coefficient:\n",
      "-304964784/361*r4^3 + 790701984/361*r4^2 - 762967392/361*r4 + 1057727232/361\n",
      "------------------------\n",
      "monomial: x^4*y^2*z^2\n",
      "invariant coefficient:\n",
      "74354/19*r4^3 - 196839/19*r4^2 + 187718/19*r4 - 264358/19\n",
      "anti-invariant coefficient:\n",
      "277978/19*r4^3 - 712526/19*r4^2 + 692032/19*r4 - 951044/19\n",
      "------------------------\n",
      "monomial: x^3*y^3*z^2\n",
      "invariant coefficient:\n",
      "66473430/361*r4^3 - 173134660/361*r4^2 + 166631436/361*r4 - 231804672/361\n",
      "anti-invariant coefficient:\n",
      "0\n",
      "------------------------\n",
      "monomial: x^2*y^4*z^2\n",
      "invariant coefficient:\n",
      "-203624/19*r4^3 + 515687/19*r4^2 - 504314/19*r4 + 686686/19\n",
      "anti-invariant coefficient:\n",
      "-277978/19*r4^3 + 712526/19*r4^2 - 692032/19*r4 + 951044/19\n",
      "------------------------\n",
      "monomial: x^3*y^2*z^3\n",
      "invariant coefficient:\n",
      "2552130/361*r4^3 - 6208888/361*r4^2 + 6214188/361*r4 - 8201240/361\n",
      "anti-invariant coefficient:\n",
      "-4128822/361*r4^3 + 11479174/361*r4^2 - 10652952/361*r4 + 15554340/361\n",
      "------------------------\n",
      "monomial: x^2*y^3*z^3\n",
      "invariant coefficient:\n",
      "6680952/361*r4^3 - 17688062/361*r4^2 + 16867140/361*r4 - 23755580/361\n",
      "anti-invariant coefficient:\n",
      "4128822/361*r4^3 - 11479174/361*r4^2 + 10652952/361*r4 - 15554340/361\n",
      "------------------------\n",
      "monomial: x^2*y^2*z^4\n",
      "invariant coefficient:\n",
      "-1790868/361*r4^3 + 4857021/361*r4^2 - 4571046/361*r4 + 6553242/361\n",
      "anti-invariant coefficient:\n",
      "0\n",
      "------------------------\n",
      "monomial: x^2*y*z^5\n",
      "invariant coefficient:\n",
      "-315848/6859*r4^3 + 616662/6859*r4^2 - 712756/6859*r4 + 775788/6859\n",
      "anti-invariant coefficient:\n",
      "365390/6859*r4^3 - 1095222/6859*r4^2 + 971400/6859*r4 - 1504356/6859\n",
      "------------------------\n",
      "monomial: x*y^2*z^5\n",
      "invariant coefficient:\n",
      "-681238/6859*r4^3 + 1711884/6859*r4^2 - 1684156/6859*r4 + 2280144/6859\n",
      "anti-invariant coefficient:\n",
      "-365390/6859*r4^3 + 1095222/6859*r4^2 - 971400/6859*r4 + 1504356/6859\n",
      "------------------------\n",
      "monomial: x*y*z^6\n",
      "invariant coefficient:\n",
      "46*r4^3 - 2540/19*r4^2 + 2260/19*r4 - 3392/19\n",
      "anti-invariant coefficient:\n",
      "0\n",
      "------------------------\n",
      "monomial: z^8\n",
      "invariant coefficient:\n",
      "1\n",
      "anti-invariant coefficient:\n",
      "0\n",
      "------------------------\n"
     ]
    }
   ],
   "source": [
    "for a, b in f4d:\n",
    "    print(\"monomial:\", b)\n",
    "    pr = (a - k2(a)) / (zeta3 - zeta3^2)\n",
    "    qr = a - zeta3 * pr\n",
    "    ps = h04.preimage(pr)\n",
    "    qs = h04.preimage(qr)\n",
    "    print(\"invariant coefficient:\")\n",
    "    print(qs)\n",
    "    print(\"anti-invariant coefficient:\")\n",
    "    print(ps)\n",
    "    print(\"------------------------\")"
   ]
  },
  {
   "cell_type": "code",
   "execution_count": 58,
   "id": "451ae503-b54e-44ff-b7b3-ec6c276798e9",
   "metadata": {},
   "outputs": [
    {
     "data": {
      "text/plain": [
       "(547319106/19*r4^3 - 1093166118/19*r4^2 + 1233335808/19*r4 - 1378738260/19)*x^8 + (2321575830/19*r4^3 - 7233862626/19*r4^2 + 6314858496/19*r4 - 9988331292/19)*x^7*y + (32704970022/19*r4^3 - 81672717474/19*r4^2 + 80518932576/19*r4 - 108452911068/19)*x^6*y^2 + (-122028408360/19*r4^3 + 310959516456/19*r4^2 - 303027508512/19*r4 + 414579387888/19)*x^5*y^3 + (182478110418/19*r4^3 - 466225760790/19*r4^2 + 453650502528/19*r4 - 621904121460/19)*x^4*y^4 + (-153604374138/19*r4^3 + 392205206142/19*r4^2 - 381764920608/19*r4 + 523102378212/19)*x^3*y^5 + (64280935800/19*r4^3 - 162918407160/19*r4^2 + 159256344672/19*r4 - 216975901392/19)*x^2*y^6 + (-6700128678/19*r4^3 + 15979191570/19*r4^2 - 16181544960/19*r4 + 21018237372/19)*x*y^7 + (547319106/19*r4^3 - 1093166118/19*r4^2 + 1233335808/19*r4 - 1378738260/19)*y^8 + (-5147491356/361*r4^3 + 13997028420/361*r4^2 - 13149612576/361*r4 + 18890837496/361)*x^7*z + (-63811459800/361*r4^3 + 164146525272/361*r4^2 - 159101851104/361*r4 + 219246042384/361)*x^6*y*z + (222319327536/361*r4^3 - 576421746336/361*r4^2 + 556203228768/361*r4 - 771083152128/361)*x^5*y^2*z + (-396269669340/361*r4^3 + 1030688052660/361*r4^2 - 992753444160/361*r4 + 1379592774360/361)*x^4*y^3*z + (422007126120/361*r4^3 - 1100673194760/361*r4^2 + 1058501507040/361*r4 - 1474046961840/361)*x^3*y^4*z + (-268646749740/361*r4^3 + 702395002116/361*r4^2 - 674549741952/361*r4 + 941100689592/361)*x^2*y^5*z + (5254942068/19*r4^3 - 13796090748/19*r4^2 + 13218375744/19*r4 - 18499047624/19)*x*y^6*z + (-5147491356/361*r4^3 + 13997028420/361*r4^2 - 13149612576/361*r4 + 18890837496/361)*y^7*z + (1975528926/361*r4^3 - 5141140065/361*r4^2 + 4950360522/361*r4 - 6882227370/361)*x^6*z^2 + (-6866718786/361*r4^3 + 17804347074/361*r4^2 - 17179499304/361*r4 + 23817111372/361)*x^5*y*z^2 + (11763428310/361*r4^3 - 30501350280/361*r4^2 + 29430498852/361*r4 - 40802170824/361)*x^4*y^2*z^2 + (-8948551950/361*r4^3 + 23392365840/361*r4^2 - 22467106404/361*r4 + 31341058488/361)*x^3*y^3*z^2 + (7062768270/361*r4^3 - 18596715885/361*r4^2 + 17788410162/361*r4 - 24950024514/361)*x^2*y^4*z^2 + (-4986454770/361*r4^3 + 13042493316/361*r4^2 - 12522663828/361*r4 + 17476252848/361)*x*y^5*z^2 + (1975528926/361*r4^3 - 5141140065/361*r4^2 + 4950360522/361*r4 - 6882227370/361)*y^6*z^2 + (68907510/361*r4^3 - 167639976/361*r4^2 + 167783076/361*r4 - 221433480/361)*x^5*z^3 + (265527072/361*r4^3 - 762173118/361*r4^2 + 695106036/361*r4 - 1038468060/361)*x^4*y*z^3 + (-806684184/361*r4^3 + 2194906140/361*r4^2 - 2061344376/361*r4 + 2962670040/361)*x^3*y^2*z^3 + (944499204/361*r4^3 - 2530186092/361*r4^2 + 2396910528/361*r4 - 3405537000/361)*x^2*y^3*z^3 + (-610064622/361*r4^3 + 1600372998/361*r4^2 - 1534021416/361*r4 + 2145635460/361)*x*y^4*z^3 + (68907510/361*r4^3 - 167639976/361*r4^2 + 167783076/361*r4 - 221433480/361)*y^5*z^3 + (-16117812/361*r4^3 + 43713189/361*r4^2 - 41139414/361*r4 + 58979178/361)*x^4*z^4 + (32235624/361*r4^3 - 87426378/361*r4^2 + 82278828/361*r4 - 117958356/361)*x^3*y*z^4 + (-48353436/361*r4^3 + 131139567/361*r4^2 - 123418242/361*r4 + 176937534/361)*x^2*y^2*z^4 + (32235624/361*r4^3 - 87426378/361*r4^2 + 82278828/361*r4 - 117958356/361)*x*y^3*z^4 + (-16117812/361*r4^3 + 43713189/361*r4^2 - 41139414/361*r4 + 58979178/361)*y^4*z^4 + (-2842632/6859*r4^3 + 5549958/6859*r4^2 - 6414804/6859*r4 + 6982092/6859)*x^3*z^5 + (-9865530/6859*r4^3 + 29570994/6859*r4^2 - 26227800/6859*r4 + 40617612/6859)*x^2*y*z^5 + (18393426/6859*r4^3 - 46220868/6859*r4^2 + 45472212/6859*r4 - 61563888/6859)*x*y^2*z^5 + (-2842632/6859*r4^3 + 5549958/6859*r4^2 - 6414804/6859*r4 + 6982092/6859)*y^3*z^5 + (138*r4^3 - 7620/19*r4^2 + 6780/19*r4 - 10176/19)*x^2*z^6 + (-138*r4^3 + 7620/19*r4^2 - 6780/19*r4 + 10176/19)*x*y*z^6 + (138*r4^3 - 7620/19*r4^2 + 6780/19*r4 - 10176/19)*y^2*z^6 + z^8"
      ]
     },
     "execution_count": 58,
     "metadata": {},
     "output_type": "execute_result"
    }
   ],
   "source": [
    "F2"
   ]
  },
  {
   "cell_type": "code",
   "execution_count": 59,
   "id": "ab489184-5720-4b43-b6c7-854971d960fd",
   "metadata": {},
   "outputs": [],
   "source": [
    "save([f4d, F0, F2],'files3/octica-3-final')"
   ]
  },
  {
   "cell_type": "code",
   "execution_count": null,
   "id": "a51c86a9-0393-481c-ab59-d9bee09a7a1c",
   "metadata": {},
   "outputs": [],
   "source": []
  }
 ],
 "metadata": {
  "kernelspec": {
   "display_name": "SageMath 10.3.beta0",
   "language": "sage",
   "name": "sagemath-310"
  },
  "language_info": {
   "codemirror_mode": {
    "name": "ipython",
    "version": 3
   },
   "file_extension": ".py",
   "mimetype": "text/x-python",
   "name": "python",
   "nbconvert_exporter": "python",
   "pygments_lexer": "ipython3",
   "version": "3.11.1"
  }
 },
 "nbformat": 4,
 "nbformat_minor": 5
}
