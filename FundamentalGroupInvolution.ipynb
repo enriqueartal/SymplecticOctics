{
 "cells": [
  {
   "cell_type": "markdown",
   "id": "e7afdfcc-7f4f-4b45-b991-21802d40eb08",
   "metadata": {},
   "source": [
    "We compute the fundamental group of the complement of the curve $C\\subset\\mathbb{P}^2$ invariant by an involution. "
   ]
  },
  {
   "cell_type": "code",
   "execution_count": 1,
   "id": "61f0a5d2-8025-405b-a32c-b66d5c27d1be",
   "metadata": {},
   "outputs": [],
   "source": [
    "F = load('files2/octica-sim2-rational.sobj')"
   ]
  },
  {
   "cell_type": "markdown",
   "id": "0a81c2ba-0b63-4959-bf42-b85465c20a75",
   "metadata": {},
   "source": [
    "We construct $F_2$, the equation of the curve."
   ]
  },
  {
   "cell_type": "code",
   "execution_count": 2,
   "id": "2fc13261-127a-4443-90c0-b4d7d36d7b89",
   "metadata": {},
   "outputs": [],
   "source": [
    "R = F.parent()\n",
    "R.inject_variables(verbose=False)\n",
    "F2 = F(z=z^2)\n",
    "C = Curve(F2)"
   ]
  },
  {
   "cell_type": "markdown",
   "id": "4c62b45b-e960-4ec1-bb6e-e2337b17c417",
   "metadata": {},
   "source": [
    "We compute the fundamental group $G:=\\pi_1(\\mathbb{P}^2\\setminus C)$"
   ]
  },
  {
   "cell_type": "code",
   "execution_count": 3,
   "id": "b6237e30-1667-49a0-9fb6-ee581ee06fbe",
   "metadata": {},
   "outputs": [
    {
     "name": "stdout",
     "output_type": "stream",
     "text": [
      "CPU times: user 926 ms, sys: 1.97 s, total: 2.9 s\n",
      "Wall time: 13.1 s\n"
     ]
    }
   ],
   "source": [
    "%%time\n",
    "G = C.fundamental_group()"
   ]
  },
  {
   "cell_type": "code",
   "execution_count": 4,
   "id": "6d41020b-3c8e-43f8-9133-e77bcd79fdfa",
   "metadata": {},
   "outputs": [
    {
     "name": "stdout",
     "output_type": "stream",
     "text": [
      "(1, 2, -1, -2, -1, 2)\n",
      "(-3, 2, 3, 2, -3, -2)\n",
      "(-3, 1, 3, 1, -3, -1)\n",
      "(-3, 1, -2, -1, 3, -2, 1, 2)\n",
      "(1, 2, 1, 3, 1, 2, 1, 3)\n",
      "(-3, 1, 3, 2, 1, -3, -1, -2)\n"
     ]
    }
   ],
   "source": [
    "G0 = G.simplified()\n",
    "for rel in G0.relations():\n",
    "    print(rel.Tietze())"
   ]
  },
  {
   "attachments": {},
   "cell_type": "markdown",
   "id": "fbbd747b-1ba4-4517-a0d9-cb9c20f15a0c",
   "metadata": {},
   "source": [
    "The last relation is a consequence of the previous ones and we obtain the presentation in Theorem 6.4. Note that sometimes the presentation may change, but the following computations do not depend on the particular presesntation.\n",
    "\n",
    "We end the proof of Theorem 6.5 with the computation of the derived series of $G_0:=G$. With the help of `GAP` we compute a presentation of $G_1:=G_0'$."
   ]
  },
  {
   "cell_type": "code",
   "execution_count": 5,
   "id": "abd5f356-babe-4567-9a1f-e1e8f3ff2b0c",
   "metadata": {},
   "outputs": [],
   "source": [
    "from sage.groups.finitely_presented import wrap_FpGroup"
   ]
  },
  {
   "cell_type": "markdown",
   "id": "090ce74a-5b57-4925-8d2e-db6902589208",
   "metadata": {},
   "source": [
    "We check that $G/G'\\cong\\mathbb{Z}/8$."
   ]
  },
  {
   "cell_type": "code",
   "execution_count": 6,
   "id": "34c57271-100d-4e2b-b250-29b463a49008",
   "metadata": {},
   "outputs": [
    {
     "data": {
      "text/plain": [
       "(8,)"
      ]
     },
     "execution_count": 6,
     "metadata": {},
     "output_type": "execute_result"
    }
   ],
   "source": [
    "G0.abelian_invariants()"
   ]
  },
  {
   "cell_type": "code",
   "execution_count": 7,
   "id": "8d09f760-03c3-494c-8a50-a412004da5f5",
   "metadata": {},
   "outputs": [],
   "source": [
    "d = libgap(G0).DerivedSubgroup()\n",
    "G1 = wrap_FpGroup(d.IsomorphismFpGroup().Range())\n",
    "G1 = G1.simplified()"
   ]
  },
  {
   "cell_type": "markdown",
   "id": "0744ed2c-c32e-4ae8-958b-4b5d7e91bf3f",
   "metadata": {},
   "source": [
    "We check that $G_0'/G_0'' = G_1 / G_1'\\cong\\mathbb{Z}/3$."
   ]
  },
  {
   "cell_type": "code",
   "execution_count": 8,
   "id": "d671217b-9066-472b-b0fd-929a201c4b3a",
   "metadata": {},
   "outputs": [
    {
     "data": {
      "text/plain": [
       "(3,)"
      ]
     },
     "execution_count": 8,
     "metadata": {},
     "output_type": "execute_result"
    }
   ],
   "source": [
    "G1.abelian_invariants()"
   ]
  },
  {
   "cell_type": "markdown",
   "id": "b2ba86df-05ac-4b9a-8de7-72f1ba8c7a9a",
   "metadata": {},
   "source": [
    "The next step is to compute a presentation of $G_2=G_1'=G_0''$."
   ]
  },
  {
   "cell_type": "code",
   "execution_count": 9,
   "id": "d0e0a392-f80b-4e62-8514-34792ea02468",
   "metadata": {},
   "outputs": [],
   "source": [
    "d = libgap(G1).DerivedSubgroup()\n",
    "G2 = wrap_FpGroup(d.IsomorphismFpGroup().Range())\n",
    "G2 = G2.simplified()"
   ]
  },
  {
   "cell_type": "markdown",
   "id": "08e2a71c-3be0-4e05-9b6e-1ce76c77e944",
   "metadata": {},
   "source": [
    "We have that $G_0''/G_0''' = G_2 / G_2'\\cong(\\mathbb{Z}/2)^4$."
   ]
  },
  {
   "cell_type": "code",
   "execution_count": 10,
   "id": "5f5bea03-3ad9-4a8a-ba56-53416b34256d",
   "metadata": {},
   "outputs": [
    {
     "data": {
      "text/plain": [
       "(2, 2, 2, 2)"
      ]
     },
     "execution_count": 10,
     "metadata": {},
     "output_type": "execute_result"
    }
   ],
   "source": [
    "G2.abelian_invariants()"
   ]
  },
  {
   "cell_type": "markdown",
   "id": "c123eff6-abde-4285-a3bb-6597ca6cbb00",
   "metadata": {},
   "source": [
    "We compute $G_3= G_2'=G_0'''$."
   ]
  },
  {
   "cell_type": "code",
   "execution_count": 11,
   "id": "67ff6ee3-f389-415d-b44c-980c465689ae",
   "metadata": {},
   "outputs": [],
   "source": [
    "d = libgap(G2).DerivedSubgroup()\n",
    "G3 = wrap_FpGroup(d.IsomorphismFpGroup().Range())\n",
    "G3 = G3.simplified()"
   ]
  },
  {
   "cell_type": "markdown",
   "id": "2f628fa5-4b63-4938-bf07-1041d41bcf1c",
   "metadata": {},
   "source": [
    "We have that $G_0''' = G_3 \\cong\\mathbb{Z}^3\\times\\mathbb{Z}/2$."
   ]
  },
  {
   "cell_type": "code",
   "execution_count": 12,
   "id": "705ea9a5-c583-476a-8738-815bf2f0a38a",
   "metadata": {},
   "outputs": [
    {
     "data": {
      "text/plain": [
       "((0, 0, 0, 2), True)"
      ]
     },
     "execution_count": 12,
     "metadata": {},
     "output_type": "execute_result"
    }
   ],
   "source": [
    "G3.abelian_invariants(), G3.is_abelian()"
   ]
  },
  {
   "cell_type": "code",
   "execution_count": null,
   "id": "cd832967-3029-4040-a37d-3bfe078604a2",
   "metadata": {},
   "outputs": [],
   "source": []
  }
 ],
 "metadata": {
  "kernelspec": {
   "display_name": "SageMath 10.3.beta0",
   "language": "sage",
   "name": "sagemath-310"
  },
  "language_info": {
   "codemirror_mode": {
    "name": "ipython",
    "version": 3
   },
   "file_extension": ".py",
   "mimetype": "text/x-python",
   "name": "python",
   "nbconvert_exporter": "python",
   "pygments_lexer": "ipython3",
   "version": "3.11.1"
  }
 },
 "nbformat": 4,
 "nbformat_minor": 5
}
