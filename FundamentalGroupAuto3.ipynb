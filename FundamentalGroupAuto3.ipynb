{
 "cells": [
  {
   "cell_type": "markdown",
   "id": "cb94b907-550a-4fe2-974a-5f1be1af8cc5",
   "metadata": {},
   "source": [
    "We end the prove of Theorem 7.2: we compute the fundamental group of the complement of the curves $C\\subset\\mathbb{P}^2$ invariant by an automorphism of order $3$. We keep the equation `F2a` of the curve."
   ]
  },
  {
   "cell_type": "code",
   "execution_count": 1,
   "id": "61f0a5d2-8025-405b-a32c-b66d5c27d1be",
   "metadata": {},
   "outputs": [],
   "source": [
    "f, F0, F2a = load('files3/octica-3-final.sobj')"
   ]
  },
  {
   "cell_type": "markdown",
   "id": "d54d02db-fef0-4cc8-91ca-ed03f0538e2e",
   "metadata": {},
   "source": [
    "We recover the polynomial $p(t)$ such that the field of coefficients $\\mathbb{K}$ is isomorphic to $\\mathbb{Q}[t]/(p(t))$. We need the four embeddings of this field in $\\mathbb{C}$, for which the roots are computed."
   ]
  },
  {
   "cell_type": "code",
   "execution_count": 2,
   "id": "a7058b11-28a7-4922-80d6-a29ce0737de9",
   "metadata": {},
   "outputs": [
    {
     "data": {
      "text/plain": [
       "[-0.5800354148737186?,\n",
       " 2.162858301987836?,\n",
       " 0.2085885564429417? - 1.245274164339591?*I,\n",
       " 0.2085885564429417? + 1.245274164339591?*I]"
      ]
     },
     "execution_count": 2,
     "metadata": {},
     "output_type": "execute_result"
    }
   ],
   "source": [
    "p = F2a.base_ring().defining_polynomial()\n",
    "roots = p.roots(QQbar, multiplicities=False)\n",
    "roots"
   ]
  },
  {
   "cell_type": "markdown",
   "id": "4d5c9240-a3fb-49bf-820d-0467abd46ce7",
   "metadata": {},
   "source": [
    "We construct a list `Ks` with the four embedded subfields"
   ]
  },
  {
   "cell_type": "code",
   "execution_count": 3,
   "id": "340681f7-2b6d-4edc-82d1-2245aa2877b5",
   "metadata": {},
   "outputs": [],
   "source": [
    "Ks = [NumberField(p, a, embedding=b) for a, b in zip(('a1', 'a2', 'a3', 'a4'), roots)]\n",
    "K1, K2, K3, K4 = Ks\n",
    "for K in Ks:\n",
    "    K.inject_variables(verbose=False)\n",
    "Rs = [F2a.parent().change_ring(K) for K in Ks]\n",
    "Ss = [PolynomialRing(K, ('u', 'v')) for K in Ks]\n",
    "R1, R2, R3, R4 = Rs\n",
    "S1, S2, S3, S4 = Ss\n",
    "hs = [F2a.base_ring().embeddings(K)[0] for K in Ks]\n",
    "h1, h2, h3, h4 = hs\n",
    "Fs = [sum(h(a) * R(b) for a, b in F2a) for h, R in zip(hs, Rs)]\n",
    "F1, F2, F3, F4 = Fs\n",
    "Gs = [F(x=S.gen(0), y=1, z=S.gen(1)) for F, S in zip(Fs, Ss)]\n",
    "G1, G2, G3, G4 = Gs\n",
    "Cs = [Curve(G) for G in Gs]\n",
    "C1, C2, C3, C4 = Cs"
   ]
  },
  {
   "cell_type": "markdown",
   "id": "f741822c-6f80-4b59-bbf9-043b26f980b8",
   "metadata": {},
   "source": [
    "Change if you want to check."
   ]
  },
  {
   "cell_type": "code",
   "execution_count": 4,
   "id": "19567aa9-aadd-4635-886c-b9f3c1a75008",
   "metadata": {},
   "outputs": [],
   "source": [
    "verif = False"
   ]
  },
  {
   "cell_type": "markdown",
   "id": "86a52fcb-428d-4d6f-b672-6745b5a91470",
   "metadata": {},
   "source": [
    "That's the time in my laptop with parallel computation (8 cores):\n",
    "```\n",
    "CPU times: user 26.5 s, sys: 1.51 s, total: 28 s\n",
    "Wall time: 15min 40s\n",
    "```"
   ]
  },
  {
   "cell_type": "code",
   "execution_count": 5,
   "id": "7b241cba-fc8b-4aac-9692-9c5b85298b53",
   "metadata": {},
   "outputs": [],
   "source": [
    "if verif:\n",
    "    g1 = C1.fundamental_group()\n",
    "    n1 = g1.ngens()\n",
    "    r1 = [r.Tietze() for r in g1.relations()]\n",
    "    save((n1, r1), 'files3/g1')\n",
    "else:\n",
    "    n1, r1 = load('files3/g1.sobj')\n",
    "    g1 = FreeGroup(n1) / r1"
   ]
  },
  {
   "cell_type": "markdown",
   "id": "41aa00f1-017f-453b-aaca-0dfb0809d35c",
   "metadata": {},
   "source": [
    "The group is abelian. It is the affine group, so the projective one is $\\mathbb{Z}/8$."
   ]
  },
  {
   "cell_type": "code",
   "execution_count": 6,
   "id": "bd2dafad-ab42-4e35-99de-4245b89e08de",
   "metadata": {},
   "outputs": [
    {
     "data": {
      "text/plain": [
       "Finitely presented group < x |  >"
      ]
     },
     "execution_count": 6,
     "metadata": {},
     "output_type": "execute_result"
    }
   ],
   "source": [
    "g1.simplified()"
   ]
  },
  {
   "cell_type": "markdown",
   "id": "646c3c13-caf9-4694-bbd4-dadc6b22ea69",
   "metadata": {},
   "source": [
    "That's the time in my laptop with parallel computation (8 cores):\n",
    "```\n",
    "CPU times: user 40.9 s, sys: 1.8 s, total: 42.7 s\n",
    "Wall time: 19min 14s\n",
    "```"
   ]
  },
  {
   "cell_type": "code",
   "execution_count": 7,
   "id": "08ee373b-1803-4055-a72c-ee8572c157ff",
   "metadata": {},
   "outputs": [],
   "source": [
    "if verif:\n",
    "    g2 = C2.fundamental_group()\n",
    "    n2 = g2.ngens()\n",
    "    r2 = [r.Tietze() for r in g2.relations()]\n",
    "    save((n2, r2), 'files3/g2')\n",
    "else:\n",
    "    n2, r2 = load('files3/g2.sobj')\n",
    "    g2 = FreeGroup(n2) / r2"
   ]
  },
  {
   "cell_type": "markdown",
   "id": "d15b83cf-9f8e-413a-9e2b-86ea97eee3da",
   "metadata": {},
   "source": [
    "Again the affine group is abelian and the projective one is $\\mathbb{Z}/8$."
   ]
  },
  {
   "cell_type": "code",
   "execution_count": 8,
   "id": "460b5aa5-02ba-44da-818a-99bbcb563348",
   "metadata": {},
   "outputs": [
    {
     "data": {
      "text/plain": [
       "Finitely presented group < x |  >"
      ]
     },
     "execution_count": 8,
     "metadata": {},
     "output_type": "execute_result"
    }
   ],
   "source": [
    "g2.simplified()"
   ]
  },
  {
   "cell_type": "markdown",
   "id": "43f6b19b-4784-4d3a-ac1c-aac79b54f786",
   "metadata": {},
   "source": [
    "That's the time in my laptop with parallel computation (8 cores):\n",
    "```\n",
    "CPU times: user 31.1 s, sys: 1.85 s, total: 33 s\n",
    "Wall time: 22min 44s\n",
    "```"
   ]
  },
  {
   "cell_type": "code",
   "execution_count": 9,
   "id": "0940d852-a0be-4435-9186-87bb30ae1d06",
   "metadata": {},
   "outputs": [],
   "source": [
    "if verif:\n",
    "    g3 = C3.fundamental_group()\n",
    "    n3 = g3.ngens()\n",
    "    r3 = [r.Tietze() for r in g3.relations()]\n",
    "    save((n3, r3), 'files3/g3')\n",
    "else:\n",
    "    n3, r3 = load('files3/g3.sobj')\n",
    "    g3 = FreeGroup(n3) / r3"
   ]
  },
  {
   "cell_type": "markdown",
   "id": "97f7a5bf-9091-4b3d-8666-ec4d86b709c4",
   "metadata": {},
   "source": [
    "Again the affine group is abelian and the projective one is $\\mathbb{Z}/8$. We do not compute the last one since it is complex conjugate to this embedding."
   ]
  },
  {
   "cell_type": "code",
   "execution_count": 10,
   "id": "aa5f1f47-eb26-4541-ac3e-d1914f100221",
   "metadata": {},
   "outputs": [
    {
     "data": {
      "text/plain": [
       "Finitely presented group < x |  >"
      ]
     },
     "execution_count": 10,
     "metadata": {},
     "output_type": "execute_result"
    }
   ],
   "source": [
    "g3.simplified()"
   ]
  },
  {
   "cell_type": "code",
   "execution_count": null,
   "id": "63c47f8c-fd93-4659-a3a6-bde6a4e0b281",
   "metadata": {},
   "outputs": [],
   "source": []
  }
 ],
 "metadata": {
  "kernelspec": {
   "display_name": "SageMath 10.3.beta0",
   "language": "sage",
   "name": "sagemath-310"
  },
  "language_info": {
   "codemirror_mode": {
    "name": "ipython",
    "version": 3
   },
   "file_extension": ".py",
   "mimetype": "text/x-python",
   "name": "python",
   "nbconvert_exporter": "python",
   "pygments_lexer": "ipython3",
   "version": "3.11.1"
  }
 },
 "nbformat": 4,
 "nbformat_minor": 5
}
