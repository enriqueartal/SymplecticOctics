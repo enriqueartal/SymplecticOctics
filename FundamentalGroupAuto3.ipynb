{
 "cells": [
  {
   "cell_type": "markdown",
   "id": "cb94b907-550a-4fe2-974a-5f1be1af8cc5",
   "metadata": {},
   "source": [
    "We end the prove of Theorem 7.2: we compute the fundamental group of the complement of the curves $C\\subset\\mathbb{P}^2$ invariant by an automorphism of order $3$. We keep the equation `F2a` of the curve."
   ]
  },
  {
   "cell_type": "code",
   "execution_count": 1,
   "id": "61f0a5d2-8025-405b-a32c-b66d5c27d1be",
   "metadata": {},
   "outputs": [],
   "source": [
    "f, F0, F2a = load('files3/octica-3-final.sobj')"
   ]
  },
  {
   "cell_type": "markdown",
   "id": "d54d02db-fef0-4cc8-91ca-ed03f0538e2e",
   "metadata": {},
   "source": [
    "We recover the polynomial $p(t)$ such that the field of coefficients $\\mathbb{K}$ is isomorphic to $\\mathbb{Q}[t]/(p(t))$. We need the four embeddings of this field in $\\mathbb{C}$, for which the roots are computed."
   ]
  },
  {
   "cell_type": "code",
   "execution_count": 2,
   "id": "a7058b11-28a7-4922-80d6-a29ce0737de9",
   "metadata": {},
   "outputs": [
    {
     "data": {
      "text/plain": [
       "[-0.5800354148737186?,\n",
       " 2.162858301987836?,\n",
       " 0.2085885564429417? - 1.245274164339591?*I,\n",
       " 0.2085885564429417? + 1.245274164339591?*I]"
      ]
     },
     "execution_count": 2,
     "metadata": {},
     "output_type": "execute_result"
    }
   ],
   "source": [
    "p = F2a.base_ring().defining_polynomial()\n",
    "roots = p.roots(QQbar, multiplicities=False)\n",
    "roots"
   ]
  },
  {
   "cell_type": "markdown",
   "id": "4d5c9240-a3fb-49bf-820d-0467abd46ce7",
   "metadata": {},
   "source": [
    "We construct a list `Ks` with the four embedded subfields"
   ]
  },
  {
   "cell_type": "code",
   "execution_count": 3,
   "id": "340681f7-2b6d-4edc-82d1-2245aa2877b5",
   "metadata": {},
   "outputs": [],
   "source": [
    "Ks = [NumberField(p, a, embedding=b) for a, b in zip(('a1', 'a2', 'a3', 'a4'), roots)]\n",
    "K1, K2, K3, K4 = Ks\n",
    "for K in Ks:\n",
    "    K.inject_variables(verbose=False)\n",
    "Rs = [F2a.parent().change_ring(K) for K in Ks]\n",
    "Ss = [PolynomialRing(K, ('u', 'v')) for K in Ks]\n",
    "R1, R2, R3, R4 = Rs\n",
    "S1, S2, S3, S4 = Ss\n",
    "hs = [F2a.base_ring().embeddings(K)[0] for K in Ks]\n",
    "h1, h2, h3, h4 = hs\n",
    "Fs = [sum(h(a) * R(b) for a, b in F2a) for h, R in zip(hs, Rs)]\n",
    "F1, F2, F3, F4 = Fs\n",
    "Gs = [F(x=S.gen(0), y=1, z=S.gen(1)) for F, S in zip(Fs, Ss)]\n",
    "G1, G2, G3, G4 = Gs\n",
    "Cs = [Curve(G) for G in Gs]\n",
    "C1, C2, C3, C4 = Cs"
   ]
  },
  {
   "cell_type": "code",
   "execution_count": 4,
   "id": "821e5af6-0565-4bb3-ba1c-a8f01259ebe5",
   "metadata": {},
   "outputs": [],
   "source": [
    "Af1.<u, v>=AffinePlaneCurveArrangements(K1)"
   ]
  },
  {
   "cell_type": "markdown",
   "id": "f741822c-6f80-4b59-bbf9-043b26f980b8",
   "metadata": {},
   "source": [
    "That's the time in my laptop with parallel computation (8 cores):\n",
    "```\n",
    "CPU times: user 26.9 s, sys: 1.88 s, total: 28.8 s\n",
    "Wall time: 16min 18s\n",
    "```\n",
    "Put a variable to decide whether to check or not."
   ]
  },
  {
   "cell_type": "code",
   "execution_count": 6,
   "id": "19567aa9-aadd-4635-886c-b9f3c1a75008",
   "metadata": {},
   "outputs": [],
   "source": [
    "verif = False"
   ]
  },
  {
   "cell_type": "code",
   "execution_count": 7,
   "id": "7b241cba-fc8b-4aac-9692-9c5b85298b53",
   "metadata": {},
   "outputs": [],
   "source": [
    "if verif:\n",
    "    H1 = Af1([C1])\n",
    "    g1 = H1.fundamental_group()"
   ]
  },
  {
   "cell_type": "markdown",
   "id": "41aa00f1-017f-453b-aaca-0dfb0809d35c",
   "metadata": {},
   "source": [
    "The group is abelian. It is the affine group, so the projective one is $\\mathbb{Z}/8$."
   ]
  },
  {
   "cell_type": "code",
   "execution_count": 8,
   "id": "bd2dafad-ab42-4e35-99de-4245b89e08de",
   "metadata": {},
   "outputs": [],
   "source": [
    "if verif:\n",
    "    g1.simplified()"
   ]
  },
  {
   "cell_type": "code",
   "execution_count": 9,
   "id": "01d877d1-d9a2-42c0-82ce-470523b9ff10",
   "metadata": {},
   "outputs": [],
   "source": [
    "Af2.<u, v>=AffinePlaneCurveArrangements(K2)"
   ]
  },
  {
   "cell_type": "markdown",
   "id": "646c3c13-caf9-4694-bbd4-dadc6b22ea69",
   "metadata": {},
   "source": [
    "That's the time in my laptop with parallel computation (8 cores):\n",
    "```\n",
    "CPU times: user 41.1 s, sys: 2.2 s, total: 43.3 s\n",
    "Wall time: 20min 11s\n",
    "```"
   ]
  },
  {
   "cell_type": "code",
   "execution_count": 10,
   "id": "08ee373b-1803-4055-a72c-ee8572c157ff",
   "metadata": {},
   "outputs": [],
   "source": [
    "if verif:\n",
    "    H2 = Af2([C2])\n",
    "    g2 = H2.fundamental_group()"
   ]
  },
  {
   "cell_type": "markdown",
   "id": "d15b83cf-9f8e-413a-9e2b-86ea97eee3da",
   "metadata": {},
   "source": [
    "Again the affine group is abelian and the projective one is $\\mathbb{Z}/8$."
   ]
  },
  {
   "cell_type": "code",
   "execution_count": 11,
   "id": "460b5aa5-02ba-44da-818a-99bbcb563348",
   "metadata": {},
   "outputs": [],
   "source": [
    "if verif:\n",
    "    g2.simplified()"
   ]
  },
  {
   "cell_type": "code",
   "execution_count": 28,
   "id": "e5e24a1b-a3ae-467f-9a4e-cb3a599cf702",
   "metadata": {},
   "outputs": [],
   "source": [
    "Af3.<u, v>=AffinePlaneCurveArrangements(K3)"
   ]
  },
  {
   "cell_type": "markdown",
   "id": "43f6b19b-4784-4d3a-ac1c-aac79b54f786",
   "metadata": {},
   "source": [
    "That's the time in my laptop with parallel computation (8 cores):\n",
    "```\n",
    "CPU times: user 29.7 s, sys: 2.3 s, total: 32 s\n",
    "Wall time: 23min 12s\n",
    "```"
   ]
  },
  {
   "cell_type": "code",
   "execution_count": 12,
   "id": "0940d852-a0be-4435-9186-87bb30ae1d06",
   "metadata": {},
   "outputs": [],
   "source": [
    "if verif:\n",
    "    H3 = Af3([C3])\n",
    "    g3 = H3.fundamental_group()"
   ]
  },
  {
   "cell_type": "markdown",
   "id": "97f7a5bf-9091-4b3d-8666-ec4d86b709c4",
   "metadata": {},
   "source": [
    "Again the affine group is abelian and the projective one is $\\mathbb{Z}/8$. We do not compute the last one since it is complex conjugate to this embedding."
   ]
  },
  {
   "cell_type": "code",
   "execution_count": 13,
   "id": "aa5f1f47-eb26-4541-ac3e-d1914f100221",
   "metadata": {},
   "outputs": [],
   "source": [
    "if verif:\n",
    "    g3.simplified()"
   ]
  }
 ],
 "metadata": {
  "kernelspec": {
   "display_name": "SageMath 10.3.beta0",
   "language": "sage",
   "name": "sagemath-310"
  },
  "language_info": {
   "codemirror_mode": {
    "name": "ipython",
    "version": 3
   },
   "file_extension": ".py",
   "mimetype": "text/x-python",
   "name": "python",
   "nbconvert_exporter": "python",
   "pygments_lexer": "ipython3",
   "version": "3.11.1"
  }
 },
 "nbformat": 4,
 "nbformat_minor": 5
}
