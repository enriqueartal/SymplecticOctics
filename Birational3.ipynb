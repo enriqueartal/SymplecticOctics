{
 "cells": [
  {
   "cell_type": "markdown",
   "id": "d095759a-d41d-4d60-b803-24d87743b0de",
   "metadata": {},
   "source": [
    "The goal of this worksheet is to construct a smooth quartic birational to a curve of degree $8$ with six $\\mathbb{E}_6$ points invariant by an automorphism of order $3$. We recover previous computations. The curve with equation $F_0(x,y,z)=0$ is invariant by $(x,y,z)\\mapsto(\\zeta x, \\zeta^{-1} y, z)$, where $\\zeta^3=1$.\n",
    "\n",
    "Some long equations are skipped if the variable ``verif`` is set to ``True``. It can be changed at any time."
   ]
  },
  {
   "cell_type": "code",
   "execution_count": 1,
   "id": "77d38080-f117-4cf7-9f53-7995bcc8691f",
   "metadata": {},
   "outputs": [],
   "source": [
    "verif = False\n",
    "f, F0, F2a = load('files3/octica-3-final.sobj')"
   ]
  },
  {
   "cell_type": "code",
   "execution_count": 2,
   "id": "7bd45bc2-c86d-4569-ab5e-bb795e8ef264",
   "metadata": {},
   "outputs": [
    {
     "name": "stdout",
     "output_type": "stream",
     "text": [
      "Defining b0\n",
      "Defining x, y, z\n"
     ]
    }
   ],
   "source": [
    "K0 = F0.base_ring()\n",
    "K0.inject_variables()\n",
    "R = F0.parent()\n",
    "R.inject_variables()"
   ]
  },
  {
   "cell_type": "markdown",
   "id": "54924f84-92de-4dfc-ac36-fadbba7481bb",
   "metadata": {},
   "source": [
    "The field $K_0$ contains the cubic roots of unity."
   ]
  },
  {
   "cell_type": "code",
   "execution_count": 3,
   "id": "dce09e3a-f103-4418-a9f6-4c0297ad1bd9",
   "metadata": {},
   "outputs": [],
   "source": [
    "Cy3 = CyclotomicField(3, 'bb')\n",
    "zeta3 = Cy3.embeddings(K0)[0](Cy3.gen())"
   ]
  },
  {
   "cell_type": "markdown",
   "id": "8a97f5aa-81fa-4e9a-8530-8e38ed84b7c8",
   "metadata": {},
   "source": [
    "We need to place the singular points. Let us look for the $x$-coordinates ($y=1$)."
   ]
  },
  {
   "cell_type": "code",
   "execution_count": 4,
   "id": "0829105a-8178-426d-ad09-c5c6705914f6",
   "metadata": {},
   "outputs": [
    {
     "name": "stdout",
     "output_type": "stream",
     "text": [
      "CPU times: user 1.68 s, sys: 6.01 ms, total: 1.69 s\n",
      "Wall time: 1.69 s\n"
     ]
    },
    {
     "data": {
      "text/plain": [
       "2"
      ]
     },
     "execution_count": 4,
     "metadata": {},
     "output_type": "execute_result"
    }
   ],
   "source": [
    "%%time \n",
    "T.<t> = K0[]\n",
    "dis0 = F0.discriminant(z)(x=t, y=1)\n",
    "dis01 = dis0.derivative(t, 7)\n",
    "disgcd = dis01.gcd(dis0)\n",
    "dis = [f[0] for f in disgcd.factor()]\n",
    "len(dis)"
   ]
  },
  {
   "cell_type": "markdown",
   "id": "b0690174-4c53-4cc9-9085-bc5ca770f70a",
   "metadata": {},
   "source": [
    "The coordinates of the singular points live in an extension. Let us construct it."
   ]
  },
  {
   "cell_type": "code",
   "execution_count": 5,
   "id": "3b69f642-a925-42b4-aef6-7c29dd5c5bf9",
   "metadata": {},
   "outputs": [
    {
     "name": "stdout",
     "output_type": "stream",
     "text": [
      "CPU times: user 1min 7s, sys: 8.01 s, total: 1min 15s\n",
      "Wall time: 1min 16s\n"
     ]
    }
   ],
   "source": [
    "%%time\n",
    "p = dis[0]\n",
    "K1 = K0.extension(p, 's6')\n",
    "xs0 = [K1.gen(0) * a for a in (1, zeta3, zeta3^2)]\n",
    "L1.<a6> = K1.absolute_field()\n",
    "R1 = R.change_ring(L1)\n",
    "R1.inject_variables(verbose=False)\n",
    "T1 = T.change_ring(L1)\n",
    "T1.inject_variables(verbose=False)\n",
    "xs1 = [L1(a) for a in xs0]\n",
    "zeta3a = L1(K1(zeta3))\n",
    "q = dis[1].change_ring(K1).change_ring(L1)\n",
    "K2 = L1.extension(q, 's7') \n",
    "xs2 = [K2(a) for a in xs1] + [K2.gen(0) * a for a in (1, zeta3a, zeta3a^2)]\n",
    "L2.<s7> = K2.absolute_field()\n",
    "F1 = F0.change_ring(K1).change_ring(L1).change_ring(K2).change_ring(L2)\n",
    "xs = [L2(a) for a in xs2]\n",
    "zeta3b = L2(K2(zeta3a))\n",
    "R2 = R1.change_ring(L2)\n",
    "R2.inject_variables(verbose=False)\n",
    "T2 = T1.change_ring(L2)\n",
    "T2.inject_variables(verbose=False)"
   ]
  },
  {
   "cell_type": "code",
   "execution_count": 6,
   "id": "f656f253-9552-484a-9c1b-b2b6aaed98f6",
   "metadata": {},
   "outputs": [
    {
     "data": {
      "text/plain": [
       "0"
      ]
     },
     "execution_count": 6,
     "metadata": {},
     "output_type": "execute_result"
    }
   ],
   "source": [
    "dis[0].change_ring(K1).change_ring(L1).change_ring(K2).change_ring(L2)(t=xs[0])"
   ]
  },
  {
   "cell_type": "markdown",
   "id": "df875db0-d935-47f9-be85-94a70ac96048",
   "metadata": {},
   "source": [
    "Once in the right field $L_2$ we construct the list $L_6$ containing the six singular points."
   ]
  },
  {
   "cell_type": "code",
   "execution_count": 7,
   "id": "b6a89e5a-47f5-48ba-b121-99701fc0da12",
   "metadata": {},
   "outputs": [],
   "source": [
    "x0 = xs[0]\n",
    "f = F1(x=x0, y=1)(z=t)\n",
    "f1 = f.derivative(t)\n",
    "f0 = f.gcd(f1)\n",
    "z0 = f0.roots(multiplicities=False)[0]\n",
    "sing = [z0^-1 * vector([a * x0, a^2, z0]) for a in (1, zeta3b, zeta3b^2)]\n",
    "x0 = xs[3]\n",
    "f = F1(x=x0, y=1)(z=t)\n",
    "f1 = f.derivative(t)\n",
    "f0 = f.gcd(f1)\n",
    "z0 = f0.roots(multiplicities=False)[0]\n",
    "sing += [z0^-1 * vector([a * x0, a^2, z0]) for a in (1, zeta3b, zeta3b^2)]"
   ]
  },
  {
   "cell_type": "code",
   "execution_count": 8,
   "id": "10670980-9e10-4dae-9bb1-5a8b1ac74feb",
   "metadata": {},
   "outputs": [],
   "source": [
    "load('functions/functions1.sage')"
   ]
  },
  {
   "cell_type": "markdown",
   "id": "b173da25-052e-4253-9858-4f8cc6eb5889",
   "metadata": {},
   "source": [
    "We construct the six conics passing through five of the six singular points and we check their behaviour by the action."
   ]
  },
  {
   "cell_type": "code",
   "execution_count": 9,
   "id": "82d2174f-3360-4773-b3ce-e80df978c481",
   "metadata": {},
   "outputs": [
    {
     "data": {
      "text/plain": [
       "True"
      ]
     },
     "execution_count": 9,
     "metadata": {},
     "output_type": "execute_result"
    }
   ],
   "source": [
    "conicas = [conica(R2, sing[: j] + sing[j + 1:]) for j in range(6)]\n",
    "accion = conicas[1](x=zeta3b * x, y=zeta3b^-1 * y) == conicas[0]\n",
    "accion = accion and conicas[2](x=zeta3b^-1 * x, y=zeta3b * y) == conicas[0]\n",
    "accion = accion and conicas[4](x=zeta3b * x, y=zeta3b^-1 * y) == conicas[3]\n",
    "accion = accion and conicas[5](x=zeta3b^-1 * x, y=zeta3b * y) == conicas[3]\n",
    "accion"
   ]
  },
  {
   "cell_type": "markdown",
   "id": "11a14abf-d4b5-40e2-b1ca-bc92437b3995",
   "metadata": {},
   "source": [
    "We construct a basis for the equations of the quintics with double points at the singular points. Then we get another basis passing through the vertices of the coordinate system."
   ]
  },
  {
   "cell_type": "code",
   "execution_count": 10,
   "id": "cc77d969-2ad0-434e-b121-74d8f51cca59",
   "metadata": {},
   "outputs": [
    {
     "name": "stdout",
     "output_type": "stream",
     "text": [
      "[False, True, True]\n",
      "[True, False, True]\n",
      "[True, True, False]\n"
     ]
    }
   ],
   "source": [
    "rct0 = reducir(sing[1].cross_product(sing[2])) * vector([x, y, z])\n",
    "rct1 = reducir(sing[0].cross_product(sing[2])) * vector([x, y, z])\n",
    "rct2 = reducir(sing[0].cross_product(sing[1])) * vector([x, y, z])\n",
    "p0 = rct0 * conicas[1] * conicas[2]\n",
    "p1 = conicas[0] * rct1 * conicas[2]\n",
    "p2 = conicas[0] * conicas[1] * rct2\n",
    "A = Matrix([[p(*vv) for vv in ((1, 0, 0), (0, 1, 0), (0, 0, 1))] for p in (p0, p1, p2)])\n",
    "qq = [col * vector([p0, p1, p2]) for col in reversed(A.columns())]\n",
    "for q0 in qq:\n",
    "    print([q0(*vv) == 0 for vv in ((1, 0, 0), (0, 1, 0), (0, 0, 1))])"
   ]
  },
  {
   "cell_type": "markdown",
   "id": "2b370a7a-7157-449b-a26d-747607c88b01",
   "metadata": {},
   "source": [
    "We normalize the equations to have the value $1$ at $[1:1:1]$."
   ]
  },
  {
   "cell_type": "code",
   "execution_count": 11,
   "id": "aa359f0b-d500-4d41-8e09-57fa485ac8b5",
   "metadata": {},
   "outputs": [],
   "source": [
    "qq = [R2(q0 / q0(1, 1, 1)) for q0 in qq]"
   ]
  },
  {
   "cell_type": "markdown",
   "id": "9075330e-c663-419f-899b-0cb5e5724880",
   "metadata": {},
   "source": [
    "We check the behaviour with the action."
   ]
  },
  {
   "cell_type": "code",
   "execution_count": 12,
   "id": "0221aa0d-d272-4ec0-ab29-2460d057cadf",
   "metadata": {},
   "outputs": [
    {
     "data": {
      "text/plain": [
       "0"
      ]
     },
     "execution_count": 12,
     "metadata": {},
     "output_type": "execute_result"
    }
   ],
   "source": [
    "F1 - F1(x=zeta3b * x, y=y * zeta3b^-1)"
   ]
  },
  {
   "cell_type": "code",
   "execution_count": 13,
   "id": "527a0a2e-bd5d-49dd-a5f3-065485c0990f",
   "metadata": {},
   "outputs": [
    {
     "data": {
      "text/plain": [
       "[0, 0, 0]"
      ]
     },
     "execution_count": 13,
     "metadata": {},
     "output_type": "execute_result"
    }
   ],
   "source": [
    "[zeta3b^j * q0 - q0(x=zeta3b * x, y=y * zeta3b^-1) for j, q0 in zip((-1, 1, 0), qq)]"
   ]
  },
  {
   "cell_type": "markdown",
   "id": "0ca3f408-ebc2-404d-a13b-687ed0c20ac4",
   "metadata": {},
   "source": [
    "Let us define the birational map for the blowing-up of the six singular points and the blowing down of the conics, for pull-back equations, ``birat1``, and images of points, ``birat_punto1``"
   ]
  },
  {
   "cell_type": "code",
   "execution_count": 14,
   "id": "ce33251a-7695-4d20-9cdc-3b994311b87b",
   "metadata": {},
   "outputs": [],
   "source": [
    "def birat1(g):\n",
    "    return g.subs({vr: q0 for vr, q0 in zip(R2.gens(), qq)})\n",
    "def birat_punto1(vv):\n",
    "    return vector(q0(*vv) for q0 in qq)"
   ]
  },
  {
   "cell_type": "code",
   "execution_count": 15,
   "id": "3f38d315-a7a6-40a1-ba27-c542264fa4a3",
   "metadata": {},
   "outputs": [
    {
     "data": {
      "text/plain": [
       "[True, True, True]"
      ]
     },
     "execution_count": 15,
     "metadata": {},
     "output_type": "execute_result"
    }
   ],
   "source": [
    "V = L2^3\n",
    "[reducir(birat_punto1(vv)) == vv for vv in V.gens()]"
   ]
  },
  {
   "cell_type": "markdown",
   "id": "6839397f-0d89-4ca0-999f-e9dec4f378d8",
   "metadata": {},
   "source": [
    "Let us cehck the degrees of the minimal polynomials of the coordinates of the birational transformation. The coefficients are in $K_0$!"
   ]
  },
  {
   "cell_type": "code",
   "execution_count": 16,
   "id": "a3b0d2fc-eecb-4528-9a77-4296de62e620",
   "metadata": {},
   "outputs": [
    {
     "name": "stdout",
     "output_type": "stream",
     "text": [
      "[8, 8, 8, 8, 8, 8, 8]\n",
      "[8, 8, 8, 8, 8, 8, 8]\n",
      "[8, 8, 4, 8, 8, 4, 4]\n"
     ]
    }
   ],
   "source": [
    "for q0 in qq:\n",
    "    print([m.minpoly().degree() for m in q0.coefficients()])"
   ]
  },
  {
   "cell_type": "code",
   "execution_count": 17,
   "id": "b821896b-c617-46e7-b29a-d5a5c5d53703",
   "metadata": {},
   "outputs": [],
   "source": [
    "h = K0.embeddings(L2)[1]"
   ]
  },
  {
   "cell_type": "code",
   "execution_count": 18,
   "id": "c8ab4de1-09e6-4e35-aee6-987cf1b4bc93",
   "metadata": {},
   "outputs": [
    {
     "data": {
      "text/plain": [
       "True"
      ]
     },
     "execution_count": 18,
     "metadata": {},
     "output_type": "execute_result"
    }
   ],
   "source": [
    "cfs1 = vector(F1.coefficients())\n",
    "cfs0 = cfs1.apply_map(lambda _: h.preimage(_))\n",
    "F0 == cfs0 * vector(F0.monomials())"
   ]
  },
  {
   "cell_type": "markdown",
   "id": "b68043bd-adf4-4ae1-a8c8-e07b4d7c7c5b",
   "metadata": {},
   "source": [
    "We reconstruct the same map but with coefficients actually in $K_0$ which is much smaller."
   ]
  },
  {
   "cell_type": "code",
   "execution_count": 19,
   "id": "3e30665a-1f5f-4657-b1eb-68ca4ca1bc88",
   "metadata": {},
   "outputs": [],
   "source": [
    "qqa = []\n",
    "for q0 in qq:\n",
    "    cfs1 = vector(q0.coefficients())\n",
    "    cfs0 = cfs1.apply_map(lambda _: h.preimage(_))\n",
    "    q1 = cfs0 * vector([R(m) for m in q0.monomials()])\n",
    "    qqa.append(q1)"
   ]
  },
  {
   "cell_type": "code",
   "execution_count": 20,
   "id": "0d4e17d1-f36c-439b-b4b4-4ffec675cdb5",
   "metadata": {},
   "outputs": [],
   "source": [
    "def birat1a(g):\n",
    "    return g.subs({vr: q0 for vr, q0 in zip(R.gens(), qqa)})\n",
    "def birat_punto1a(vv):\n",
    "    return vector(q0(*vv) for q0 in qqa)"
   ]
  },
  {
   "cell_type": "markdown",
   "id": "7791b2f3-9e98-4d0a-84a9-e1b363dc6374",
   "metadata": {},
   "source": [
    "We consider the image of a general point in each conic, in order to compute the inverse Cremona transformation. We choose distinct general points and we check that the result does not change."
   ]
  },
  {
   "cell_type": "code",
   "execution_count": 21,
   "id": "40096bee-ab6c-4ed1-abc9-a35a2fa012a1",
   "metadata": {},
   "outputs": [],
   "source": [
    "sing1 = []\n",
    "for j, con in enumerate(conicas):\n",
    "    k = (j + 1) % 6\n",
    "    x2 = L2(x.reduce([R2(con(y=sing[k][1] / sing[k][0] * x, z=1) / (sing[k][0] - sing[k][2] * x))]))\n",
    "    y2 = sing[k][1] / sing[k][0] * x2\n",
    "    sing1.append(reducir3(birat_punto1([x2, y2, 1])))"
   ]
  },
  {
   "cell_type": "code",
   "execution_count": 22,
   "id": "def136fb-ef01-4851-92f0-950daa70a61c",
   "metadata": {},
   "outputs": [],
   "source": [
    "sing1a = []\n",
    "for j, con in enumerate(conicas):\n",
    "    k = (j + 2) % 6\n",
    "    x2 = L2(x.reduce([R2(con(y=sing[k][1] / sing[k][0] * x, z=1) / (sing[k][0] - sing[k][2] * x))]))\n",
    "    y2 = sing[k][1] / sing[k][0] * x2\n",
    "    sing1a.append(reducir3(birat_punto1([x2, y2, 1])))"
   ]
  },
  {
   "cell_type": "code",
   "execution_count": 23,
   "id": "66a35983-b3f9-40c4-a0c4-177db7484b23",
   "metadata": {},
   "outputs": [
    {
     "data": {
      "text/plain": [
       "True"
      ]
     },
     "execution_count": 23,
     "metadata": {},
     "output_type": "execute_result"
    }
   ],
   "source": [
    "sing1 == sing1a"
   ]
  },
  {
   "cell_type": "markdown",
   "id": "cc700ae2-388e-4551-b9e3-fa5cb0784e6a",
   "metadata": {},
   "source": [
    "We construct the inverse of the Cremona transformation, since it is not involutive."
   ]
  },
  {
   "cell_type": "code",
   "execution_count": 24,
   "id": "f701f528-f154-4377-9042-c8449a667983",
   "metadata": {},
   "outputs": [
    {
     "data": {
      "text/plain": [
       "True"
      ]
     },
     "execution_count": 24,
     "metadata": {},
     "output_type": "execute_result"
    }
   ],
   "source": [
    "conicas1 = [conica(R2, sing1[: j] + sing1[j + 1:]) for j in range(6)]\n",
    "accion = accion and conicas1[2](x=zeta3b * x, y=zeta3b^-1 * y) == conicas1[0]\n",
    "accion = accion and conicas1[1](x=zeta3b^-1 * x, y=zeta3b * y) == conicas1[0]\n",
    "accion = accion and conicas1[5](x=zeta3b * x, y=zeta3b^-1 * y) == conicas1[3]\n",
    "accion = accion and conicas1[4](x=zeta3b^-1 * x, y=zeta3b * y) == conicas1[3]\n",
    "accion"
   ]
  },
  {
   "cell_type": "code",
   "execution_count": 25,
   "id": "5c1dbcd0-326b-409a-9980-dab5617f35b5",
   "metadata": {},
   "outputs": [
    {
     "name": "stdout",
     "output_type": "stream",
     "text": [
      "[False, True, True]\n",
      "[True, False, True]\n",
      "[True, True, False]\n"
     ]
    }
   ],
   "source": [
    "rct01 = reducir(sing1[1].cross_product(sing1[2])) * vector([x, y, z])\n",
    "rct11 = reducir(sing1[0].cross_product(sing1[2])) * vector([x, y, z])\n",
    "rct21 = reducir(sing1[0].cross_product(sing1[1])) * vector([x, y, z])\n",
    "p01 = rct01 * conicas1[1] * conicas1[2]\n",
    "p11 = conicas1[0] * rct11 * conicas1[2]\n",
    "p21 = conicas1[0] * conicas1[1] * rct21\n",
    "A1 = Matrix([[p(*vv) for vv in ((1, 0, 0), (0, 1, 0), (0, 0, 1))] for p in (p01, p11, p21)])\n",
    "qq1 = [col * vector([p01, p11, p21]) for col in reversed(A1.columns())]\n",
    "for q0 in qq1:\n",
    "    print([q0(*vv) == 0 for vv in ((1, 0, 0), (0, 1, 0), (0, 0, 1))])"
   ]
  },
  {
   "cell_type": "code",
   "execution_count": 26,
   "id": "5f380a73-e312-4f4f-b890-3aa06f722425",
   "metadata": {},
   "outputs": [],
   "source": [
    "qq1 = [q0 / q0(1, 1, 1) for q0 in qq1]"
   ]
  },
  {
   "cell_type": "code",
   "execution_count": 27,
   "id": "7b46e09f-3685-4332-ad09-e1e2af9a2b29",
   "metadata": {},
   "outputs": [
    {
     "data": {
      "text/plain": [
       "[0, 0, 0]"
      ]
     },
     "execution_count": 27,
     "metadata": {},
     "output_type": "execute_result"
    }
   ],
   "source": [
    "[zeta3b^j * q0 - q0(x=zeta3b * x, y=y * zeta3b^-1) for j, q0 in zip((-1, 1, 0), qq1)]"
   ]
  },
  {
   "cell_type": "code",
   "execution_count": 28,
   "id": "7cc5faad-9d4a-423d-9090-650c48e8a248",
   "metadata": {},
   "outputs": [],
   "source": [
    "def birat2(g):\n",
    "    return g.subs({vr: q0 for vr, q0 in zip(R2.gens(), qq1)})\n",
    "def birat_punto2(vv):\n",
    "    return vector(q0(*vv) for q0 in qq1)"
   ]
  },
  {
   "cell_type": "code",
   "execution_count": 29,
   "id": "0dacdfb7-110d-4fbc-baf9-4f62126a2517",
   "metadata": {},
   "outputs": [
    {
     "name": "stdout",
     "output_type": "stream",
     "text": [
      "[8, 8, 8, 8, 8, 8, 8]\n",
      "[8, 8, 8, 8, 8, 8, 8]\n",
      "[8, 8, 4, 8, 8, 4, 4]\n"
     ]
    }
   ],
   "source": [
    "for q0 in qq1:\n",
    "    print([m.minpoly().degree() for m in q0.coefficients()])"
   ]
  },
  {
   "cell_type": "markdown",
   "id": "8a552d24-f2ef-4582-9791-9fd06bb78736",
   "metadata": {},
   "source": [
    "We reconstruct it again with coefficients in $K_0$. "
   ]
  },
  {
   "cell_type": "code",
   "execution_count": 30,
   "id": "a412af50-55cc-4c22-b302-0c939027356d",
   "metadata": {},
   "outputs": [],
   "source": [
    "qq1a = []\n",
    "for q0 in qq1:\n",
    "    cfs1 = vector(q0.coefficients())\n",
    "    cfs0 = cfs1.apply_map(lambda _: h.preimage(_))\n",
    "    q1 = cfs0 * vector([R(m) for m in q0.monomials()])\n",
    "    qq1a.append(q1)"
   ]
  },
  {
   "cell_type": "code",
   "execution_count": 31,
   "id": "8f58ced4-2fc4-4f27-8e9c-085880425700",
   "metadata": {},
   "outputs": [],
   "source": [
    "def birat2a(g):\n",
    "    return g.subs({vr: q0 for vr, q0 in zip(R.gens(), qq1a)})\n",
    "def birat_punto2a(vv):\n",
    "    return vector(q0(*vv) for q0 in qq1a)"
   ]
  },
  {
   "cell_type": "code",
   "execution_count": 32,
   "id": "2b873ae9-9888-4350-a47d-cb6d684d111c",
   "metadata": {},
   "outputs": [
    {
     "data": {
      "text/plain": [
       "[True, True, True]"
      ]
     },
     "execution_count": 32,
     "metadata": {},
     "output_type": "execute_result"
    }
   ],
   "source": [
    "[q0.change_ring(K1).change_ring(L1).change_ring(K2).change_ring(L2) == q1 for q0, q1 in zip(qqa, qq)]"
   ]
  },
  {
   "cell_type": "code",
   "execution_count": 33,
   "id": "bd6fc285-ff35-4e36-ad7e-8201042c2867",
   "metadata": {},
   "outputs": [
    {
     "data": {
      "text/plain": [
       "[True, True, True]"
      ]
     },
     "execution_count": 33,
     "metadata": {},
     "output_type": "execute_result"
    }
   ],
   "source": [
    "[q0.change_ring(K1).change_ring(L1).change_ring(K2).change_ring(L2) == q1 for q0, q1 in zip(qq1a, qq1)]"
   ]
  },
  {
   "cell_type": "markdown",
   "id": "d4809323-36bd-48a8-93ef-b9877ab1fd38",
   "metadata": {},
   "source": [
    "Until it is necessary we work in $K_0$."
   ]
  },
  {
   "cell_type": "code",
   "execution_count": 34,
   "id": "c0180c6e-3011-46ca-a6c2-e2282ebc8d15",
   "metadata": {},
   "outputs": [],
   "source": [
    "R.inject_variables(verbose=False)"
   ]
  },
  {
   "cell_type": "code",
   "execution_count": 35,
   "id": "f982a02c-a20a-4151-881f-710b8fafbef0",
   "metadata": {},
   "outputs": [
    {
     "data": {
      "text/plain": [
       "(1, 1, 1)"
      ]
     },
     "execution_count": 35,
     "metadata": {},
     "output_type": "execute_result"
    }
   ],
   "source": [
    "reducir(birat_punto1a(birat_punto2a(vector([1, 1, 1]))))"
   ]
  },
  {
   "cell_type": "code",
   "execution_count": 36,
   "id": "3cd3b99e-1464-4f7b-9a99-6a9630f2c785",
   "metadata": {},
   "outputs": [
    {
     "data": {
      "text/plain": [
       "(1, 1, 1)"
      ]
     },
     "execution_count": 36,
     "metadata": {},
     "output_type": "execute_result"
    }
   ],
   "source": [
    "reducir(birat_punto2a(birat_punto1a(vector([1, 1, 1]))))"
   ]
  },
  {
   "cell_type": "markdown",
   "id": "91df38d8-ca52-4c6a-ad13-6bfb8e956f56",
   "metadata": {},
   "source": [
    "We check that the transformations are inverse. This is the output if `verif = True` with the time.\n",
    "```\n",
    "verification for x : True\n",
    "verification for y : True\n",
    "verification for z : True\n",
    "CPU times: user 1min 7s, sys: 71.3 ms, total: 1min 7s\n",
    "Wall time: 1min 8s\n",
    "```"
   ]
  },
  {
   "cell_type": "code",
   "execution_count": 37,
   "id": "48a4532f-466f-4337-bbd4-6aa434cdcaab",
   "metadata": {},
   "outputs": [],
   "source": [
    "prodcon = prod(conicas)\n",
    "prodcon = vector(h.preimage(a) for a in prodcon.coefficients()) * vector(R(m) for m in prodcon.monomials())\n",
    "prodcon1 = prod(conicas1)\n",
    "prodcon1 = vector(h.preimage(a) for a in prodcon1.coefficients()) * vector(R(m) for m in prodcon1.monomials())\n",
    "verif = False\n",
    "if verif: \n",
    "    x1 = birat1a(birat2a(x))\n",
    "    x2 = birat2a(birat1a(x))\n",
    "    x1 = x1 / x1.monomial_coefficient(x^25)\n",
    "    x2 = x2 / x2.monomial_coefficient(x^25)\n",
    "    x3 = x * prodcon^2\n",
    "    x3 = x3 / x3.monomial_coefficient(x^25)\n",
    "    x4 = x * prodcon1^2\n",
    "    x4 = x4 / x4.monomial_coefficient(x^25)\n",
    "    print ('verification for', x, ':', x1 == x3 and x2 == x4)\n",
    "    y1 = birat1a(birat2a(y))\n",
    "    y2 = birat2a(birat1a(y))\n",
    "    y1 = y1 / y1.monomial_coefficient(y^25)\n",
    "    y2 = y2 / y2.monomial_coefficient(y^25)\n",
    "    y3 = y * prodcon^2\n",
    "    y3 = y3 / y3.monomial_coefficient(y^25)\n",
    "    y4 = y * prodcon1^2\n",
    "    y4 = y4 / y4.monomial_coefficient(y^25)\n",
    "    print ('verification for', y, ':', y1 == y3 and y2 == y4)\n",
    "    z1 = birat1a(birat2a(z))\n",
    "    z2 = birat2a(birat1a(z))\n",
    "    z1 = z1 / z1.monomial_coefficient(z^25)\n",
    "    z2 = z2 / z2.monomial_coefficient(z^25)\n",
    "    z3 = z * prodcon^2\n",
    "    z3 = z3 / z3.monomial_coefficient(z^25)\n",
    "    z4 = z * prodcon1^2\n",
    "    z4 = z4 / z4.monomial_coefficient(z^25)\n",
    "    print ('verification for', z, ':', z1 == z3 and z2 == z4)"
   ]
  },
  {
   "cell_type": "markdown",
   "id": "f6a82d1a-8765-4072-85a6-615c4a882704",
   "metadata": {},
   "source": [
    "We compute the transformation and get the equation of the quartic. Instead of factorizing we divide three times by the product of the conics. For the first computation:\n",
    "```\n",
    "CPU times: user 3min 32s, sys: 479 ms, total: 3min 32s\n",
    "Wall time: 3min 32s\n",
    "```\n",
    "The second one:\n",
    "```\n",
    "CPU times: user 55.7 s, sys: 142 ms, total: 55.9 s\n",
    "Wall time: 55.9 s\n",
    "```\n",
    "The third one:\n",
    "```\n",
    "CPU times: user 27.5 s, sys: 47.6 ms, total: 27.5 s\n",
    "Wall time: 28.1 s\n",
    "```\n",
    "The fourth one:\n",
    "```\n",
    "CPU times: user 8.84 s, sys: 13.9 ms, total: 8.86 s\n",
    "Wall time: 8.89 s\n",
    "```"
   ]
  },
  {
   "cell_type": "code",
   "execution_count": 38,
   "id": "9f83c6b2-bbf0-4290-a12f-0d8925a5fb65",
   "metadata": {},
   "outputs": [],
   "source": [
    "if verif:\n",
    "    G0 = birat2a(F0)"
   ]
  },
  {
   "cell_type": "code",
   "execution_count": 39,
   "id": "f723718a-5057-4fd8-83a2-92f2e185ddc5",
   "metadata": {},
   "outputs": [],
   "source": [
    "if verif:\n",
    "    G0a = R(G0 / prodcon1)"
   ]
  },
  {
   "cell_type": "code",
   "execution_count": 40,
   "id": "5051a5bb-0177-4231-9a85-4822ea3f4e06",
   "metadata": {},
   "outputs": [],
   "source": [
    "if verif:\n",
    "    G0b = R(G0a / prodcon1)"
   ]
  },
  {
   "cell_type": "code",
   "execution_count": 41,
   "id": "e1968d26-e512-4f1a-bdb8-023f77a7ca18",
   "metadata": {},
   "outputs": [],
   "source": [
    "if verif:\n",
    "    G0c = R(G0b / prodcon1)\n",
    "    save(G0c, 'files3/G0c')\n",
    "else:\n",
    "    G0c = load('files3/G0c.sobj')"
   ]
  },
  {
   "cell_type": "markdown",
   "id": "d7a5d87e-45e6-4f9a-9fc5-6f2a5e12be4d",
   "metadata": {},
   "source": [
    "We wanto to obtain a simpler equation."
   ]
  },
  {
   "cell_type": "code",
   "execution_count": 42,
   "id": "5b51d3c3-fdb7-4987-a648-688a8dc9d7b9",
   "metadata": {},
   "outputs": [],
   "source": [
    "G0c = G0c / G0c.monomial_coefficient(z^4)"
   ]
  },
  {
   "cell_type": "markdown",
   "id": "0ea2b7f3-e871-483a-b8e5-fb36046dc6df",
   "metadata": {},
   "source": [
    "The equation must satisfy symmetry conditions."
   ]
  },
  {
   "cell_type": "code",
   "execution_count": 43,
   "id": "00ffa063-c698-41c6-be03-9c8b3724bccd",
   "metadata": {},
   "outputs": [],
   "source": [
    "k0 = K0.automorphisms()[1]"
   ]
  },
  {
   "cell_type": "code",
   "execution_count": 44,
   "id": "5a65f6c2-c9ad-41ce-9ac4-06d1eb065abb",
   "metadata": {},
   "outputs": [],
   "source": [
    "def verifica(G):\n",
    "    a22 = G.monomial_coefficient(x^2 * y^2)    \n",
    "    a30 = G.monomial_coefficient(x^3 * z)\n",
    "    a03 = G.monomial_coefficient(y^3 * z)\n",
    "    a11 = G.monomial_coefficient(x * y * z^2)\n",
    "    return a22 == k0(a22) and a11 == k0(a11) and a30 == k0(a03)"
   ]
  },
  {
   "cell_type": "code",
   "execution_count": 45,
   "id": "f3372d9f-e615-4020-8bc6-d2e8118b5b95",
   "metadata": {},
   "outputs": [
    {
     "data": {
      "text/plain": [
       "True"
      ]
     },
     "execution_count": 45,
     "metadata": {},
     "output_type": "execute_result"
    }
   ],
   "source": [
    "verifica(G0c)"
   ]
  },
  {
   "cell_type": "code",
   "execution_count": 46,
   "id": "54acefd3-ff6c-4434-a9c1-b7ad0b1d8e65",
   "metadata": {},
   "outputs": [
    {
     "data": {
      "text/plain": [
       "[x^2*y^2, x^3*z, y^3*z, x*y*z^2, z^4]"
      ]
     },
     "execution_count": 46,
     "metadata": {},
     "output_type": "execute_result"
    }
   ],
   "source": [
    "G0c.monomials()"
   ]
  },
  {
   "cell_type": "markdown",
   "id": "ce4e716a-6fe5-4751-9dcc-f29f415d6eda",
   "metadata": {},
   "source": [
    "The equation is too complicated, so we try to simplify it and we keep track of the changes."
   ]
  },
  {
   "cell_type": "code",
   "execution_count": 47,
   "id": "33eeb626-f917-4152-8a8b-42c83c81febd",
   "metadata": {},
   "outputs": [],
   "source": [
    "xc = 1\n",
    "zc = 1"
   ]
  },
  {
   "cell_type": "code",
   "execution_count": 48,
   "id": "519223e1-1d3e-4b74-83fc-3b78ba807a3d",
   "metadata": {},
   "outputs": [
    {
     "name": "stdout",
     "output_type": "stream",
     "text": [
      "[2, 2, 12, 6, -3, -3, -3, -3, -4, 2, 2, 2, 2, -4, -4, 2, 2]\n"
     ]
    }
   ],
   "source": [
    "b = G0c.monomial_coefficient(x^2 * y^2)\n",
    "bf = b.factor()\n",
    "print([a[1] for a in bf])"
   ]
  },
  {
   "cell_type": "code",
   "execution_count": 49,
   "id": "f52560cd-473a-4a8c-9019-c159b80a2f31",
   "metadata": {},
   "outputs": [
    {
     "data": {
      "text/plain": [
       "True"
      ]
     },
     "execution_count": 49,
     "metadata": {},
     "output_type": "execute_result"
    }
   ],
   "source": [
    "b = G0c.monomial_coefficient(x^2 * y^2)\n",
    "bf = b.factor()\n",
    "U = [a[0] for a in bf if a[1] == 2]\n",
    "x0 = 1\n",
    "y0 = 1\n",
    "while U:\n",
    "    a = U[0]\n",
    "    a1 = k0(a)\n",
    "    x0 *= a\n",
    "    y0 *= a1\n",
    "    U = [b for b in U if b != a and b != a1]\n",
    "G0d = G0c(x=x / x0, y=y / y0)\n",
    "xc *= x0\n",
    "verifica(G0d)"
   ]
  },
  {
   "cell_type": "code",
   "execution_count": 50,
   "id": "8bdd0689-f173-4047-ac1e-a8ba8347dea4",
   "metadata": {},
   "outputs": [
    {
     "name": "stdout",
     "output_type": "stream",
     "text": [
      "[-2, -2, 12, 6, -3, -3, -3, -3, -4, -2, -2, -2, -2, -4, -4, -2, -2]\n"
     ]
    }
   ],
   "source": [
    "b = G0d.monomial_coefficient(x^2 * y^2)\n",
    "bf = b.factor()\n",
    "print([a[1] for a in bf])"
   ]
  },
  {
   "cell_type": "code",
   "execution_count": 51,
   "id": "aae09976-be44-4816-bdc6-ec633b100bd2",
   "metadata": {},
   "outputs": [
    {
     "data": {
      "text/plain": [
       "True"
      ]
     },
     "execution_count": 51,
     "metadata": {},
     "output_type": "execute_result"
    }
   ],
   "source": [
    "b = G0d.monomial_coefficient(x^2 * y^2)\n",
    "bf = b.factor()\n",
    "U = [a[0] for a in bf if a[1] == -2]\n",
    "x0 = 1\n",
    "y0 = 1\n",
    "while U:\n",
    "    a = U[0]\n",
    "    a1 = k0(a)\n",
    "    x0 *= a\n",
    "    y0 *= a1\n",
    "    U = [b for b in U if b != a and b != a1]\n",
    "G0e = G0d(x=x / x0, y=y / y0)\n",
    "xc *= x0\n",
    "verifica(G0e)"
   ]
  },
  {
   "cell_type": "code",
   "execution_count": 52,
   "id": "02ba3fb3-3b23-40cd-913d-87c5c7960072",
   "metadata": {},
   "outputs": [
    {
     "name": "stdout",
     "output_type": "stream",
     "text": [
      "[-6, -6, 12, 6, -3, -3, -3, -3, -4, -6, -6, -6, -6, -4, -4, -6, -6]\n"
     ]
    }
   ],
   "source": [
    "b = G0e.monomial_coefficient(x^2 * y^2)\n",
    "bf = b.factor()\n",
    "print([a[1] for a in bf])"
   ]
  },
  {
   "cell_type": "code",
   "execution_count": 53,
   "id": "18d6daca-f6c6-4983-ab2c-206796df1fb1",
   "metadata": {},
   "outputs": [
    {
     "data": {
      "text/plain": [
       "True"
      ]
     },
     "execution_count": 53,
     "metadata": {},
     "output_type": "execute_result"
    }
   ],
   "source": [
    "b = G0e.monomial_coefficient(x^2 * y^2)\n",
    "bf = b.factor()\n",
    "U = [a[0] for a in bf if a[1] == -4]\n",
    "x0 = prod(U)^-1\n",
    "y0 = k0(x0)\n",
    "G0f = G0e(x=x / x0, y=y / y0)\n",
    "xc *= x0\n",
    "verifica(G0f)"
   ]
  },
  {
   "cell_type": "code",
   "execution_count": 54,
   "id": "0b2542cd-4f09-4ca1-902b-de8ff2d76c81",
   "metadata": {},
   "outputs": [
    {
     "name": "stdout",
     "output_type": "stream",
     "text": [
      "[-6, -6, 9, 3, -3, -3, -1, -1, -6, -3, -6, -3, -6, -3]\n"
     ]
    }
   ],
   "source": [
    "b = G0f.monomial_coefficient(x^3 * z)\n",
    "bf = b.factor()\n",
    "print([a[1] for a in bf])"
   ]
  },
  {
   "cell_type": "code",
   "execution_count": 55,
   "id": "1218fb3a-be4b-4964-82d9-0e127791caca",
   "metadata": {},
   "outputs": [
    {
     "data": {
      "text/plain": [
       "True"
      ]
     },
     "execution_count": 55,
     "metadata": {},
     "output_type": "execute_result"
    }
   ],
   "source": [
    "b = G0f.monomial_coefficient(x^3 * z)\n",
    "bf = b.factor()\n",
    "U = [a[0] for a in bf if a[1] % 3 == 0]\n",
    "x0 = 1\n",
    "for a, c in bf:\n",
    "    if c % 3 == 0:\n",
    "        x0 *= a^(c / 3)\n",
    "y0 = k0(x0)\n",
    "G0g = G0f(x=x / x0, y=y / y0)\n",
    "xc *= x0\n",
    "verifica(G0g)"
   ]
  },
  {
   "cell_type": "code",
   "execution_count": 56,
   "id": "c89a72da-9451-4372-9bf0-a44fe7cc3b8a",
   "metadata": {},
   "outputs": [
    {
     "data": {
      "text/plain": [
       "(-1984329/59831*b0^7 - 31395081/239324*b0^6 - 13442895/59831*b0^5 - 52878987/119662*b0^4 - 61766289/119662*b0^3 - 487932885/239324*b0^2 - 24539031/119662*b0 - 29000121/59831)*x^2*y^2 + (-284213/478648*b0^7 - 956995/478648*b0^6 - 47481/12596*b0^5 - 770967/119662*b0^4 - 4534151/478648*b0^3 - 14443601/478648*b0^2 - 838373/239324*b0 - 864023/119662)*x^3*z + (-200029/478648*b0^7 - 971751/478648*b0^6 - 745651/239324*b0^5 - 883463/119662*b0^4 - 162685/25192*b0^3 - 16001773/478648*b0^2 - 683801/239324*b0 - 959277/119662)*y^3*z + (11727/25192*b0^7 + 877815/478648*b0^6 + 753219/239324*b0^5 + 365121/59831*b0^4 + 3441855/478648*b0^3 + 13495401/478648*b0^2 + 681381/239324*b0 + 751077/119662)*x*y*z^2 + z^4"
      ]
     },
     "execution_count": 56,
     "metadata": {},
     "output_type": "execute_result"
    }
   ],
   "source": [
    "G0g"
   ]
  },
  {
   "cell_type": "code",
   "execution_count": 57,
   "id": "764e086e-76f9-4d29-adcb-6b8f2312f823",
   "metadata": {},
   "outputs": [
    {
     "data": {
      "text/plain": [
       "True"
      ]
     },
     "execution_count": 57,
     "metadata": {},
     "output_type": "execute_result"
    }
   ],
   "source": [
    "G1 = G0c(x=x / xc, y=y/ k0(xc))\n",
    "G1 == G0g"
   ]
  },
  {
   "cell_type": "code",
   "execution_count": 58,
   "id": "e4c67d8e-9435-4ad6-a5ed-07180c3754ff",
   "metadata": {},
   "outputs": [
    {
     "data": {
      "text/plain": [
       "[0, 0, 0, 0, 0, 0]"
      ]
     },
     "execution_count": 58,
     "metadata": {},
     "output_type": "execute_result"
    }
   ],
   "source": [
    "[G0c.change_ring(K1).change_ring(L1).change_ring(K2).change_ring(L2)(*vv) for vv in sing1]"
   ]
  },
  {
   "cell_type": "code",
   "execution_count": 59,
   "id": "b4d71138-b0b2-4591-856c-8a2dd9665cea",
   "metadata": {},
   "outputs": [],
   "source": [
    "xd = L2(K2(L1(K1(xc))))\n",
    "yd = L2(K2(L1(K1(k0(xc)))))\n",
    "sing1b = []\n",
    "for vv in sing1:\n",
    "    a, b, c = vv\n",
    "    sing1b.append(vector([a * xd, b * yd, c]))"
   ]
  },
  {
   "cell_type": "code",
   "execution_count": 60,
   "id": "ccb97606-1afd-4729-ae0c-31603c5dd0a4",
   "metadata": {},
   "outputs": [
    {
     "data": {
      "text/plain": [
       "[0, 0, 0, 0, 0, 0]"
      ]
     },
     "execution_count": 60,
     "metadata": {},
     "output_type": "execute_result"
    }
   ],
   "source": [
    "[G1.change_ring(K1).change_ring(L1).change_ring(K2).change_ring(L2)(*vv) for vv in sing1b]"
   ]
  },
  {
   "cell_type": "code",
   "execution_count": 61,
   "id": "fefde250-f59f-4d91-8792-d93239fb30c5",
   "metadata": {},
   "outputs": [],
   "source": [
    "qq1b = [q0(x=x / xc, y=y/ k0(xc)) for q0 in qq1a]\n",
    "qq1b = [R(q0 / q0(1, 1, 1)) for q0 in qq1b]"
   ]
  },
  {
   "cell_type": "markdown",
   "id": "854112b8-f646-4787-87c3-3ce2cb1713f4",
   "metadata": {},
   "source": [
    "These are the new coordinates for the inverse of the Cremona transformation. Let us compute the new coordinates of\n",
    "the former Cremona transformation."
   ]
  },
  {
   "cell_type": "code",
   "execution_count": 62,
   "id": "6744dffd-19a4-437d-8ba5-a98178ce92de",
   "metadata": {},
   "outputs": [],
   "source": [
    "def birat2b(g):\n",
    "    return g.subs({vr: q0 for vr, q0 in zip(R.gens(), qq1b)})\n",
    "def birat_punto2b(vv):\n",
    "    return vector(q0(*vv) for q0 in qq1b)"
   ]
  },
  {
   "cell_type": "code",
   "execution_count": 63,
   "id": "538c7588-ac1b-42a0-af4e-1e305f7f3b48",
   "metadata": {},
   "outputs": [],
   "source": [
    "qq1c = [q0.change_ring(K1).change_ring(L1).change_ring(K2).change_ring(L2) for q0 in qq1b]\n",
    "def birat2c(g):\n",
    "    return g.subs({vr: q0 for vr, q0 in zip(R2.gens(), qq1c)})\n",
    "def birat_punto2c(vv):\n",
    "    return vector(q0(*vv) for q0 in qq1c)"
   ]
  },
  {
   "cell_type": "markdown",
   "id": "5942fcea-2773-4d08-9a81-27d593583456",
   "metadata": {},
   "source": [
    "We compute the conics in the new variable and the images of a general point."
   ]
  },
  {
   "cell_type": "code",
   "execution_count": 64,
   "id": "f44b2105-9770-4d33-a919-e89c9fe8c263",
   "metadata": {},
   "outputs": [],
   "source": [
    "R2.inject_variables(verbose=False)\n",
    "conicas2 = [conica(R2, sing1b[: j] + sing1b[j + 1:]) for j in range(6)]"
   ]
  },
  {
   "cell_type": "code",
   "execution_count": 65,
   "id": "213e6941-3a78-43a5-9587-8c9f3894428b",
   "metadata": {},
   "outputs": [],
   "source": [
    "sing2 = []\n",
    "for j, con in enumerate(conicas2):\n",
    "    k = (j + 1) % 6\n",
    "    x2 = L2(x.reduce([R2(con(y=sing1b[k][1] / sing1b[k][0] * x, z=1) / (sing1b[k][0] - sing1b[k][2] * x))]))\n",
    "    y2 = sing1b[k][1] / sing1b[k][0] * x2\n",
    "    sing2.append(reducir3(birat_punto2c([x2, y2, 1])))"
   ]
  },
  {
   "cell_type": "code",
   "execution_count": 66,
   "id": "e0a85707-8632-4246-8cca-4624ede8611f",
   "metadata": {},
   "outputs": [],
   "source": [
    "conicas3 = [conica(R2, sing2[: j] + sing2[j + 1:]) for j in range(6)]"
   ]
  },
  {
   "cell_type": "code",
   "execution_count": 67,
   "id": "daf7b49f-4c90-4fe6-9325-b18ea2bbe787",
   "metadata": {},
   "outputs": [
    {
     "name": "stdout",
     "output_type": "stream",
     "text": [
      "[False, True, True]\n",
      "[True, False, True]\n",
      "[True, True, False]\n"
     ]
    }
   ],
   "source": [
    "rct02 = reducir(sing2[1].cross_product(sing2[2])) * vector([x, y, z])\n",
    "rct12 = reducir(sing2[0].cross_product(sing2[2])) * vector([x, y, z])\n",
    "rct22 = reducir(sing2[0].cross_product(sing2[1])) * vector([x, y, z])\n",
    "p03 = rct02 * conicas3[1] * conicas3[2]\n",
    "p13 = conicas3[0] * rct12 * conicas3[2]\n",
    "p23 = conicas3[0] * conicas3[1] * rct22\n",
    "A2 = Matrix([[p(*vv) for vv in ((1, 0, 0), (0, 1, 0), (0, 0, 1))] for p in (p03, p13, p23)])\n",
    "qq2 = [col * vector([p03, p13, p23]) for col in reversed(A2.columns())]\n",
    "for q0 in qq2:\n",
    "    print([q0(*vv) == 0 for vv in ((1, 0, 0), (0, 1, 0), (0, 0, 1))])"
   ]
  },
  {
   "cell_type": "code",
   "execution_count": 68,
   "id": "8d4c3a9d-0a64-4626-a59a-41210a463e02",
   "metadata": {},
   "outputs": [],
   "source": [
    "qq2 = [q0 / q0(1, 1, 1) for q0 in qq2]"
   ]
  },
  {
   "cell_type": "code",
   "execution_count": 69,
   "id": "8b43fb09-760d-40ae-b830-082c4081b5cf",
   "metadata": {},
   "outputs": [
    {
     "data": {
      "text/plain": [
       "[0, 0, 0]"
      ]
     },
     "execution_count": 69,
     "metadata": {},
     "output_type": "execute_result"
    }
   ],
   "source": [
    "[zeta3b^j * q0 - q0(x=zeta3b * x, y=y * zeta3b^-1) for j, q0 in zip((-1, 1, 0), qq2)]"
   ]
  },
  {
   "cell_type": "code",
   "execution_count": 70,
   "id": "960d5f5c-1451-448e-8ed3-5361efd7d669",
   "metadata": {},
   "outputs": [],
   "source": [
    "def birat1c(g):\n",
    "    return g.subs({vr: q0 for vr, q0 in zip(R2.gens(), qq2)})\n",
    "def birat_punto1c(vv):\n",
    "    return vector(q0(*vv) for q0 in qq2)"
   ]
  },
  {
   "cell_type": "code",
   "execution_count": 71,
   "id": "f3ca84a5-2ab1-453b-823c-db0e1a2cb68c",
   "metadata": {},
   "outputs": [
    {
     "name": "stdout",
     "output_type": "stream",
     "text": [
      "[8, 8, 8, 8, 8, 8, 8]\n",
      "[8, 8, 8, 8, 8, 8, 8]\n",
      "[8, 8, 4, 8, 8, 4, 4]\n"
     ]
    }
   ],
   "source": [
    "for q0 in qq2:\n",
    "    print([m.minpoly().degree() for m in q0.coefficients()])"
   ]
  },
  {
   "cell_type": "markdown",
   "id": "7c0f6a6e-463f-48a7-96bf-81421cca08ce",
   "metadata": {},
   "source": [
    "We reconstruct it again with coefficients in $K_0$. "
   ]
  },
  {
   "cell_type": "code",
   "execution_count": 72,
   "id": "f962d4c1-6af7-44fb-996b-bf0797408cc1",
   "metadata": {},
   "outputs": [],
   "source": [
    "qq2a = []\n",
    "for q0 in qq2:\n",
    "    cfs1 = vector(q0.coefficients())\n",
    "    cfs0 = cfs1.apply_map(lambda _: h.preimage(_))\n",
    "    q1 = cfs0 * vector([R(m) for m in q0.monomials()])\n",
    "    qq2a.append(q1)"
   ]
  },
  {
   "cell_type": "code",
   "execution_count": 73,
   "id": "b4a28a7f-6f97-4613-b2c6-f635ad5f9038",
   "metadata": {},
   "outputs": [],
   "source": [
    "def birat1b(g):\n",
    "    return g.subs({vr: q0 for vr, q0 in zip(R.gens(), qq2a)})\n",
    "def birat_punto1b(vv):\n",
    "    return vector(q0(*vv) for q0 in qq2a)"
   ]
  },
  {
   "cell_type": "code",
   "execution_count": 74,
   "id": "3d7ed8cb-3b38-4762-83f4-28485bf97cd6",
   "metadata": {},
   "outputs": [
    {
     "data": {
      "text/plain": [
       "[True, True, True]"
      ]
     },
     "execution_count": 74,
     "metadata": {},
     "output_type": "execute_result"
    }
   ],
   "source": [
    "[q0.change_ring(K1).change_ring(L1).change_ring(K2).change_ring(L2) == q1 for q0, q1 in zip(qq2a, qq2)]"
   ]
  },
  {
   "cell_type": "code",
   "execution_count": 75,
   "id": "d7f9f8e5-1ef0-4e79-97a1-ba01fa77f112",
   "metadata": {},
   "outputs": [
    {
     "data": {
      "text/plain": [
       "[True, True, True]"
      ]
     },
     "execution_count": 75,
     "metadata": {},
     "output_type": "execute_result"
    }
   ],
   "source": [
    "[q0.change_ring(K1).change_ring(L1).change_ring(K2).change_ring(L2) == q1 for q0, q1 in zip(qq1b, qq1c)]"
   ]
  },
  {
   "cell_type": "markdown",
   "id": "3beab653-0a29-49b4-801b-e2798a693af7",
   "metadata": {},
   "source": [
    "Until it is necessary we work in $K_0$."
   ]
  },
  {
   "cell_type": "code",
   "execution_count": 76,
   "id": "ae3cff97-e3b6-48e0-891e-4e330dbea61d",
   "metadata": {},
   "outputs": [],
   "source": [
    "R.inject_variables(verbose=False)"
   ]
  },
  {
   "cell_type": "code",
   "execution_count": 77,
   "id": "34123dd7-86e0-4201-ad60-610519863e22",
   "metadata": {},
   "outputs": [
    {
     "data": {
      "text/plain": [
       "(1, 1, 1)"
      ]
     },
     "execution_count": 77,
     "metadata": {},
     "output_type": "execute_result"
    }
   ],
   "source": [
    "reducir(birat_punto1b(birat_punto2b(vector([1, 1, 1]))))"
   ]
  },
  {
   "cell_type": "code",
   "execution_count": 78,
   "id": "f87ccac8-bee8-441b-8c70-55dfd1d33c55",
   "metadata": {},
   "outputs": [
    {
     "data": {
      "text/plain": [
       "(1, 1, 1)"
      ]
     },
     "execution_count": 78,
     "metadata": {},
     "output_type": "execute_result"
    }
   ],
   "source": [
    "reducir(birat_punto2b(birat_punto1b(vector([1, 1, 1]))))"
   ]
  },
  {
   "cell_type": "markdown",
   "id": "78795e3b-5935-40c9-983c-0d774cc35a6a",
   "metadata": {},
   "source": [
    "We check that the transformations are inverse."
   ]
  },
  {
   "cell_type": "markdown",
   "id": "886aa2c6-2eca-4b77-838a-2509a8e9f2ae",
   "metadata": {},
   "source": [
    "We can verify if they are inverse of each other"
   ]
  },
  {
   "cell_type": "code",
   "execution_count": 79,
   "id": "e76e3bf6-3e30-40cc-9b99-fe7fcb697eff",
   "metadata": {},
   "outputs": [],
   "source": [
    "prodcona = prod(conicas3)\n",
    "prodcona = vector(h.preimage(a) for a in prodcona.coefficients()) * vector(R(m) for m in prodcona.monomials())\n",
    "prodcon1a = prod(conicas2)\n",
    "prodcon1a = vector(h.preimage(a) for a in prodcon1a.coefficients()) * vector(R(m) for m in prodcon1a.monomials())\n",
    "verif = False\n",
    "if verif: \n",
    "    x1 = birat1b(birat2b(x))\n",
    "    x2 = birat2b(birat1b(x))\n",
    "    x1 = x1 / x1.monomial_coefficient(x^25)\n",
    "    x2 = x2 / x2.monomial_coefficient(x^25)\n",
    "    x3 = x * prodcona^2\n",
    "    x3 = x3 / x3.monomial_coefficient(x^25)\n",
    "    x4 = x * prodcon1a^2\n",
    "    x4 = x4 / x4.monomial_coefficient(x^25)\n",
    "    print ('verification for', x, ':', x1 == x3 and x2 == x4)\n",
    "    y1 = birat1b(birat2b(y))\n",
    "    y2 = birat2b(birat1b(y))\n",
    "    y1 = y1 / y1.monomial_coefficient(y^25)\n",
    "    y2 = y2 / y2.monomial_coefficient(y^25)\n",
    "    y3 = y * prodcona^2\n",
    "    y3 = y3 / y3.monomial_coefficient(y^25)\n",
    "    y4 = y * prodcon1a^2\n",
    "    y4 = y4 / y4.monomial_coefficient(y^25)\n",
    "    print ('verification for', y, ':', y1 == y3 and y2 == y4)\n",
    "    z1 = birat1b(birat2b(z))\n",
    "    z2 = birat2b(birat1b(z))\n",
    "    z1 = z1 / z1.monomial_coefficient(z^25)\n",
    "    z2 = z2 / z2.monomial_coefficient(z^25)\n",
    "    z3 = z * prodcona^2\n",
    "    z3 = z3 / z3.monomial_coefficient(z^25)\n",
    "    z4 = z * prodcon1a^2\n",
    "    z4 = z4 / z4.monomial_coefficient(z^25)\n",
    "    print ('verification for', z, ':', z1 == z3 and z2 == z4)"
   ]
  },
  {
   "cell_type": "code",
   "execution_count": 80,
   "id": "59c8e885-1a69-41c1-93d8-2f8b9698079d",
   "metadata": {},
   "outputs": [],
   "source": [
    "H1 = birat1b(G1)"
   ]
  },
  {
   "cell_type": "code",
   "execution_count": 81,
   "id": "b49e6409-c0e1-4f63-920b-00c67f214f94",
   "metadata": {},
   "outputs": [],
   "source": [
    "H1a = R(H1/prodcona)"
   ]
  },
  {
   "cell_type": "code",
   "execution_count": 82,
   "id": "28387d96-93fc-4708-bc5e-d9e1504cc4fa",
   "metadata": {},
   "outputs": [],
   "source": [
    "H1b = H1a / H1a.monomial_coefficient(z^8)"
   ]
  },
  {
   "cell_type": "code",
   "execution_count": 83,
   "id": "20d835fa-ad7b-4f9d-82fe-61db13b14fc1",
   "metadata": {},
   "outputs": [],
   "source": [
    "dis0 = H1b.discriminant(z)"
   ]
  },
  {
   "cell_type": "code",
   "execution_count": 84,
   "id": "854663eb-1dce-4809-8e92-1a7253dc1054",
   "metadata": {},
   "outputs": [],
   "source": [
    "save(G1,'files3/cuartica')"
   ]
  },
  {
   "cell_type": "code",
   "execution_count": 85,
   "id": "c90e689d-908f-4319-9fe2-6278f588a913",
   "metadata": {},
   "outputs": [],
   "source": [
    "G2 = G1.change_ring(K1).change_ring(L1).change_ring(K2).change_ring(L2)"
   ]
  },
  {
   "cell_type": "code",
   "execution_count": 86,
   "id": "1513dc0d-ea7c-453d-9ef8-87ec9acfd16a",
   "metadata": {},
   "outputs": [],
   "source": [
    "R2.inject_variables(verbose=False)"
   ]
  },
  {
   "cell_type": "code",
   "execution_count": 87,
   "id": "a5261707-65f1-4555-82e7-3e07b3df58f7",
   "metadata": {},
   "outputs": [],
   "source": [
    "prueba = conicas2[0].resultant(G2, z)"
   ]
  },
  {
   "cell_type": "code",
   "execution_count": 88,
   "id": "e2809bdf-6116-4634-aa40-979ad9fe0467",
   "metadata": {},
   "outputs": [],
   "source": [
    "prueba1 = prueba(x=t, y=1)\n",
    "prueba2 = prueba1.derivative(t, 2)\n",
    "prueba3 = prueba1.gcd(prueba2)\n",
    "xu = prueba3.roots()[0][0]"
   ]
  },
  {
   "cell_type": "code",
   "execution_count": 89,
   "id": "f194173a-7df4-4a26-a448-79c112e29349",
   "metadata": {},
   "outputs": [],
   "source": [
    "prueba = conicas2[0].resultant(G2, x)"
   ]
  },
  {
   "cell_type": "code",
   "execution_count": 90,
   "id": "7ade8b3e-fdbb-42e9-8f00-647965bf7f9c",
   "metadata": {},
   "outputs": [],
   "source": [
    "prueba1 = prueba(z=t, y=1)\n",
    "prueba2 = prueba1.derivative(t, 2)\n",
    "prueba3 = prueba1.gcd(prueba2)\n",
    "zu = prueba3.roots()[0][0]"
   ]
  },
  {
   "cell_type": "code",
   "execution_count": 91,
   "id": "c5d1802f-8dda-42c3-8c15-7073ab27b8f7",
   "metadata": {},
   "outputs": [
    {
     "data": {
      "text/plain": [
       "0"
      ]
     },
     "execution_count": 91,
     "metadata": {},
     "output_type": "execute_result"
    }
   ],
   "source": [
    "conicas2[0](xu / zu, zu^-1, 1)"
   ]
  },
  {
   "cell_type": "code",
   "execution_count": 92,
   "id": "f6651101-b1b7-49f1-a242-fb7b8e256b6e",
   "metadata": {},
   "outputs": [],
   "source": [
    "triples = []\n",
    "for con in conicas2:\n",
    "    res = con.resultant(G2, z)\n",
    "    res1 = res(x=t, y=1)\n",
    "    res2 = res1.derivative(t, 2)\n",
    "    res3 = res1.gcd(res2)\n",
    "    xu = res3.roots()[0][0]\n",
    "    res = con.resultant(G2, x)\n",
    "    res1 = res(z=t, y=1)\n",
    "    res2 = res1.derivative(t, 2)\n",
    "    res3 = res1.gcd(res2)\n",
    "    zu = res3.roots()[0][0]\n",
    "    triples.append(vector([xu / zu, zu^-1, 1]))"
   ]
  },
  {
   "cell_type": "markdown",
   "id": "d0ff0266-d0e0-4e78-864f-0de2137330ad",
   "metadata": {},
   "source": [
    "These are the triple intersections of the conics with the quartics."
   ]
  },
  {
   "cell_type": "code",
   "execution_count": null,
   "id": "03143d69-e07f-4c4e-b1ba-8383e05da057",
   "metadata": {},
   "outputs": [],
   "source": []
  }
 ],
 "metadata": {
  "kernelspec": {
   "display_name": "SageMath 10.3.beta0",
   "language": "sage",
   "name": "sagemath-310"
  },
  "language_info": {
   "codemirror_mode": {
    "name": "ipython",
    "version": 3
   },
   "file_extension": ".py",
   "mimetype": "text/x-python",
   "name": "python",
   "nbconvert_exporter": "python",
   "pygments_lexer": "ipython3",
   "version": "3.11.1"
  }
 },
 "nbformat": 4,
 "nbformat_minor": 5
}
